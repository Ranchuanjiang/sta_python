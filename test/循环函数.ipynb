{
 "cells": [
  {
   "cell_type": "markdown",
   "metadata": {},
   "source": [
    "## 循环函数练习\n",
    " - 打印出矩形\n",
    "\n",
    " - 打印空心矩形\n"
   ]
  },
  {
   "cell_type": "code",
   "execution_count": 22,
   "metadata": {},
   "outputs": [
    {
     "name": "stdout",
     "output_type": "stream",
     "text": [
      "* * * * \n",
      "* * * * \n",
      "* * * * \n",
      "* * * * \n",
      "----------------------------------------\n",
      "* * * * \n",
      "*     * \n",
      "*     * \n",
      "* * * * \n"
     ]
    }
   ],
   "source": [
    "for i in range(4):\n",
    "    for j in range(4):\n",
    "        print(\"* \", end=\"\")\n",
    "    print()\n",
    "print(\"--\" * 20)\n",
    "for i in range(4):\n",
    "    for j in range(4):\n",
    "        if i == 0 or i ==3:\n",
    "            print(\"* \", end=\"\")\n",
    "        else:\n",
    "            if j == 0 or j == 3:\n",
    "                print(\"* \", end=\"\") \n",
    "            else:\n",
    "                print(\"  \", end=\"\")\n",
    "    print()\n"
   ]
  },
  {
   "cell_type": "markdown",
   "metadata": {},
   "source": [
    "### 打印直角三角形\n",
    " \n",
    "\n",
    "### 打印三角变空心\n"
   ]
  },
  {
   "cell_type": "code",
   "execution_count": 30,
   "metadata": {},
   "outputs": [
    {
     "name": "stdout",
     "output_type": "stream",
     "text": [
      "* \n",
      "* * \n",
      "* * * \n",
      "* * * * \n",
      "* * * * * \n",
      "----------------------------------------\n",
      "* \n",
      "* * \n",
      "*   * \n",
      "*     * \n",
      "* * * * * \n"
     ]
    }
   ],
   "source": [
    "for i in range(5):\n",
    "    for j in range(i+1):    \n",
    "            print(\"* \", end=\"\") \n",
    "    print()\n",
    "print(\"--\" * 20) \n",
    "for i in range(5):\n",
    "    for j in range(i+1): \n",
    "        if i == 0 or i == 1 or i == 4:\n",
    "            print(\"* \", end=\"\")\n",
    "        else:\n",
    "            if j == 0 or j == i:\n",
    "                print(\"* \", end=\"\")\n",
    "            else:\n",
    "                print(\"  \", end=\"\")\n",
    "                \n",
    "    print()"
   ]
  },
  {
   "cell_type": "markdown",
   "metadata": {},
   "source": [
    "## 倒三角和 倒空心三角\n"
   ]
  },
  {
   "cell_type": "code",
   "execution_count": 36,
   "metadata": {},
   "outputs": [
    {
     "name": "stdout",
     "output_type": "stream",
     "text": [
      "* * * * * \n",
      "* * * * \n",
      "* * * \n",
      "* * \n",
      "* \n",
      "----------------------------------------\n",
      "* * * * * \n",
      "*     * \n",
      "*   * \n",
      "* * \n",
      "* \n"
     ]
    }
   ],
   "source": [
    "for i in range(5):\n",
    "    for j in range(5-i):\n",
    "        print(\"* \", end=\"\")\n",
    "    print()\n",
    "print(\"--\" * 20) \n",
    "for i in range(5):\n",
    "    for j in range(5-i): \n",
    "        if i == 0 or i == 3 or i == 4:\n",
    "            print(\"* \", end=\"\")\n",
    "        else:\n",
    "            if j == 0 or j == 4-i:\n",
    "                print(\"* \", end=\"\")\n",
    "            else:\n",
    "                print(\"  \", end=\"\")\n",
    "                \n",
    "    print()"
   ]
  },
  {
   "cell_type": "markdown",
   "metadata": {},
   "source": [
    "## 等腰三角形和 空心等腰三角形\n"
   ]
  },
  {
   "cell_type": "code",
   "execution_count": 71,
   "metadata": {},
   "outputs": [
    {
     "name": "stdout",
     "output_type": "stream",
     "text": [
      "      *\n",
      "     * *\n",
      "    * * *\n",
      "   * * * *\n",
      "  * * * * *\n",
      "----------------------------------------\n",
      "     * \n",
      "    * * \n",
      "   *   * \n",
      "  *     * \n",
      " * * * * * \n"
     ]
    }
   ],
   "source": [
    "for i in range(5):\n",
    "    for j in range(5-i):\n",
    "        print(\" \", end=\"\")\n",
    "    for x in range(i+1):\n",
    "        print(\" *\", end=\"\")\n",
    "    print()\n",
    "print(\"--\" * 20)\n",
    "for i in range(5):\n",
    "    for j in range(5-i):\n",
    "        print(\" \", end=\"\")\n",
    "    for x in range(i+1):\n",
    "        if i == 0 or i == 1 or i == 4:\n",
    "            print(\"* \", end=\"\")\n",
    "        else:\n",
    "            if x == 0 or x == i:\n",
    "                print(\"* \", end=\"\")\n",
    "            else:\n",
    "                print(\"  \", end=\"\")\n",
    "    print()"
   ]
  },
  {
   "cell_type": "markdown",
   "metadata": {},
   "source": [
    "## 打印A字母\n"
   ]
  },
  {
   "cell_type": "code",
   "execution_count": 72,
   "metadata": {},
   "outputs": [
    {
     "name": "stdout",
     "output_type": "stream",
     "text": [
      "     * \n",
      "    * * \n",
      "   * * * \n",
      "  *     * \n",
      " *       * \n"
     ]
    }
   ],
   "source": [
    "for i in range(5):\n",
    "    for j in range(5-i):\n",
    "        print(\" \", end=\"\")\n",
    "    for x in range(i+1):\n",
    "        if i == 0 or i == 1 or i == 2:\n",
    "            print(\"* \", end=\"\")\n",
    "        else:\n",
    "            if x == 0 or x == i:\n",
    "                print(\"* \", end=\"\")\n",
    "            else:\n",
    "                print(\"  \", end=\"\")\n",
    "    print()"
   ]
  },
  {
   "cell_type": "markdown",
   "metadata": {},
   "source": [
    "## 打印菱形\n"
   ]
  },
  {
   "cell_type": "code",
   "execution_count": 88,
   "metadata": {},
   "outputs": [
    {
     "name": "stdout",
     "output_type": "stream",
     "text": [
      "     * \n",
      "    * * \n",
      "   * * * \n",
      "  * * * * \n",
      " * * * * * \n",
      "  * * * * \n",
      "   * * * \n",
      "    * * \n",
      "     * \n"
     ]
    }
   ],
   "source": [
    "for i in range(5):\n",
    "    for j in range(5-i):\n",
    "        print(\" \", end=\"\")\n",
    "    for x in range(i+1):\n",
    "        print(\"* \", end=\"\")\n",
    "    print()\n",
    "for i in range(4):\n",
    "    print(\"  \", end=\"\")\n",
    "    for j in range(i):\n",
    "        print(\" \", end=\"\")\n",
    "    for x in range(4-i):\n",
    "        print(\"* \", end=\"\")\n",
    "    print()"
   ]
  },
  {
   "cell_type": "markdown",
   "metadata": {},
   "source": [
    "## 打印空心菱形\n",
    "\n"
   ]
  },
  {
   "cell_type": "code",
   "execution_count": 93,
   "metadata": {},
   "outputs": [
    {
     "name": "stdout",
     "output_type": "stream",
     "text": [
      "     * \n",
      "    * * \n",
      "   *   * \n",
      "  *     * \n",
      " *       * \n",
      "  *     * \n",
      "   *   * \n",
      "    * * \n",
      "     * \n"
     ]
    }
   ],
   "source": [
    "for i in range(5):\n",
    "    for j in range(5-i):\n",
    "        print(\" \", end=\"\")\n",
    "    for x in range(i+1):\n",
    "        if i == 0 or i == 1:\n",
    "            print(\"* \", end=\"\")\n",
    "        else:\n",
    "            if x == 0 or x == i:\n",
    "                print(\"* \", end=\"\")\n",
    "            else:\n",
    "                print(\"  \", end=\"\")\n",
    "    print()\n",
    "for i in range(4):\n",
    "    print(\"  \", end=\"\")\n",
    "    for j in range(i):\n",
    "        print(\" \", end=\"\")\n",
    "    for x in range(4-i):\n",
    "        if i == 2 or i == 3:\n",
    "            print(\"* \", end=\"\")\n",
    "        else:\n",
    "            if x == 0 or x == 3-i:\n",
    "                print(\"* \", end=\"\")\n",
    "            else:\n",
    "                print(\"  \", end=\"\")\n",
    "    print()"
   ]
  },
  {
   "cell_type": "markdown",
   "metadata": {},
   "source": [
    "## 等腰梯形\n",
    "\n"
   ]
  },
  {
   "cell_type": "code",
   "execution_count": 96,
   "metadata": {},
   "outputs": [
    {
     "name": "stdout",
     "output_type": "stream",
     "text": [
      "     * * * * \n",
      "    * * * * * \n",
      "   * * * * * * \n",
      "  * * * * * * * \n",
      " * * * * * * * * \n"
     ]
    }
   ],
   "source": [
    "for i in range(5):\n",
    "    for j in range(5-i):\n",
    "        print(\" \", end=\"\")\n",
    "    for x in range(4+i):\n",
    "        print(\"* \", end=\"\")\n",
    "    print()"
   ]
  },
  {
   "cell_type": "markdown",
   "metadata": {},
   "source": [
    "## 打印空心等腰梯形\n"
   ]
  },
  {
   "cell_type": "code",
   "execution_count": 97,
   "metadata": {},
   "outputs": [
    {
     "name": "stdout",
     "output_type": "stream",
     "text": [
      "     * * * * \n",
      "    *       * \n",
      "   *         * \n",
      "  *           * \n",
      " * * * * * * * * \n"
     ]
    }
   ],
   "source": [
    "for i in range(5):\n",
    "    for j in range(5-i):\n",
    "        print(\" \", end=\"\")\n",
    "    for x in range(4+i):\n",
    "        if i == 0 or i == 4: \n",
    "            print(\"* \", end=\"\")\n",
    "        else:\n",
    "            if x == 0 or x == 3+i:\n",
    "                print(\"* \", end=\"\")\n",
    "            else:\n",
    "                print(\"  \", end=\"\")\n",
    "    print()"
   ]
  },
  {
   "cell_type": "markdown",
   "metadata": {},
   "source": [
    "## 打印大写字母D\n"
   ]
  },
  {
   "cell_type": "code",
   "execution_count": 6,
   "metadata": {},
   "outputs": [
    {
     "name": "stdout",
     "output_type": "stream",
     "text": [
      "* * \n",
      "*    *    \n",
      "*    *    \n",
      "* * \n"
     ]
    }
   ],
   "source": [
    "for i in range(4):\n",
    "    for j in range(2):\n",
    "        if i == 0 or i == 3:\n",
    "            print(\"* \", end=\"\")\n",
    "        else:\n",
    "            if j == 0 or j == 1:\n",
    "                print(\"*    \", end=\"\")\n",
    "            \n",
    "    print()"
   ]
  },
  {
   "cell_type": "code",
   "execution_count": null,
   "metadata": {},
   "outputs": [],
   "source": []
  }
 ],
 "metadata": {
  "kernelspec": {
   "display_name": "Python 3",
   "language": "python",
   "name": "python3"
  },
  "language_info": {
   "codemirror_mode": {
    "name": "ipython",
    "version": 3
   },
   "file_extension": ".py",
   "mimetype": "text/x-python",
   "name": "python",
   "nbconvert_exporter": "python",
   "pygments_lexer": "ipython3",
   "version": "3.6.4"
  }
 },
 "nbformat": 4,
 "nbformat_minor": 2
}
