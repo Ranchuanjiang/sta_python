{
 "cells": [
  {
   "cell_type": "markdown",
   "metadata": {},
   "source": [
    "## 题1\n",
    "- 输入 一个三位数与程序随机数比较大小\n",
    "- 如果大于程序随机数,则分别输出这三个数的个位\\ 十位\\ 百位\n",
    "- 如果等于程序随机数, 则提示中奖,记 100分\n",
    "- 如果小于程序随机数,则将120 的字符输如倒文件中\n",
    "- 规则: 每一条字符串的长度为12, 单独占1行,并且前四个是字母,后8个是数字"
   ]
  },
  {
   "cell_type": "code",
   "execution_count": 4,
   "metadata": {},
   "outputs": [
    {
     "name": "stdout",
     "output_type": "stream",
     "text": [
      "请输入一个三位数:123\n",
      "请继续输入三位数,还有9次机会: 123\n",
      "请继续输入三位数,还有8次机会: 123\n",
      "请继续输入三位数,还有7次机会: 123\n",
      "请继续输入三位数,还有6次机会: 123\n",
      "请继续输入三位数,还有5次机会: 123\n",
      "请继续输入三位数,还有4次机会: 123\n",
      "请继续输入三位数,还有3次机会: 123\n",
      "请继续输入三位数,还有2次机会: 123\n",
      "请继续输入三位数,还有1次机会: 123\n",
      "次数用完了!\n"
     ]
    }
   ],
   "source": [
    "import math\n",
    "import random\n",
    "def line():\n",
    "    str_num = \"\"\n",
    "    for i in range(4):\n",
    "        num = chr(random.randint(97, 122))\n",
    "        str_num = str_num + num \n",
    "    for i in range(8):\n",
    "        num = str(random.randint(0, 9))\n",
    "        str_num = str_num + num \n",
    "    return str_num\n",
    "\n",
    "count = 0\n",
    "num = input(\"请输入一个三位数:\")\n",
    "while count< 9:\n",
    "    \n",
    "    random_num = random.randint(100,1000)\n",
    "    if num.isdigit() and 100<= int(num)<= 999:\n",
    "        if int(num)> random_num:\n",
    "            print(\"百位数是{},十位数是{},个位数是{}.\".format(int(num[0]), int(num[1]), int(num[2])))\n",
    "        elif int(num) == random_num:\n",
    "            print(\"恭喜你! 你中奖了!\")\n",
    "            break\n",
    "        else:\n",
    "            for i in range(10):\n",
    "                str_line = line()\n",
    "                with open(\"str_line.txt\", \"a\") as fb:\n",
    "                    fb.write(str_line + \"\\n\")\n",
    "    else:\n",
    "        print(\"输入错误!\")\n",
    "        \n",
    "    count += 1\n",
    "    num = input(\"请继续输入三位数,还有{}次机会: \".format(10- count))\n",
    "if count == 9:    \n",
    "    print(\"次数用完了!\")\n"
   ]
  },
  {
   "cell_type": "markdown",
   "metadata": {},
   "source": [
    "##  例子 2\n",
    "- 判断数字大小 积分 算数\n"
   ]
  },
  {
   "cell_type": "code",
   "execution_count": null,
   "metadata": {},
   "outputs": [],
   "source": [
    "import random\n",
    "source= 0\n",
    "total = 0\n",
    "source_count = 0\n",
    "while True: \n",
    "    num = input(\"请输入一个数 (1 ,2 ,3)其中一个(按q退出游戏): \")\n",
    "    num_int = random.randint(1, 3)\n",
    "    if num.isdigit() and 1 <= int(num) <= 3:\n",
    "        total += 1\n",
    "        if int(num) > num_int:\n",
    "            print(\"大了点哦!\")\n",
    "        elif int(num) == num_int:\n",
    "            source += 100\n",
    "            source_count += 1\n",
    "            print(\"中奖了加100分,当前得分{}分\".format(source))\n",
    "        else:\n",
    "            print(\"小了点!\")\n",
    "    elif num.lower() == \"q\":\n",
    "        if total == 0:\n",
    "            print(\"正在退出.......\\n欢迎您再次玩耍!\")\n",
    "            break\n",
    "        print(\"你的中奖概率为{:.1%},进行了{}次有效抽奖,中奖{}次\".format(source_count/total, total,source_count))\n",
    "        print(\"当前积分为---{}分\".format(source))\n",
    "        print(\"正在退出.......\")\n",
    "        print(\"欢迎您再次玩耍!\")\n",
    "        break\n",
    "    else:\n",
    "        print(\"输入错误! 请检查你的输入!!\")\n"
   ]
  }
 ],
 "metadata": {
  "kernelspec": {
   "display_name": "Python 3",
   "language": "python",
   "name": "python3"
  },
  "language_info": {
   "codemirror_mode": {
    "name": "ipython",
    "version": 3
   },
   "file_extension": ".py",
   "mimetype": "text/x-python",
   "name": "python",
   "nbconvert_exporter": "python",
   "pygments_lexer": "ipython3",
   "version": "3.6.4"
  }
 },
 "nbformat": 4,
 "nbformat_minor": 2
}
