{
 "cells": [
  {
   "cell_type": "markdown",
   "metadata": {},
   "source": [
    "# 三大结构\n",
    "   - 顺序\n",
    "   - 分支\n",
    "   - 循环\n",
    "   "
   ]
  },
  {
   "cell_type": "markdown",
   "metadata": {},
   "source": [
    "# 分支\n",
    " - 分支的基本语法\n",
    " \n",
    "     if 条件表达式:\n",
    "        语句1\n",
    "        语句2\n",
    "        语句3\n",
    "        ......\n",
    "        \n",
    " - 条件表达式就是计算结果必须为布尔值的表达式\n",
    " - 表达式后面的冒号不能少\n",
    " - 注意if 后面的出现的语句,如果属于if语句块, 则必须同一个缩进系统\n",
    " - 条件表达式结果为True 执行 if 后面的缩进语句块"
   ]
  },
  {
   "cell_type": "code",
   "execution_count": 1,
   "metadata": {},
   "outputs": [
    {
     "name": "stdout",
     "output_type": "stream",
     "text": [
      "去叫家长\n",
      "不带你玩\n",
      "一边去\n"
     ]
    }
   ],
   "source": [
    "# if 语句练习\n",
    "# 如果age 小于18 岁 , 则打印信息\"去叫家长\"\n",
    "age = 17\n",
    "if age < 18:\n",
    "    print(\"去叫家长\")\n",
    "    print(\"不带你玩\")\n",
    "    print(\"一边去\")"
   ]
  },
  {
   "cell_type": "code",
   "execution_count": 3,
   "metadata": {},
   "outputs": [
    {
     "name": "stdout",
     "output_type": "stream",
     "text": [
      "去叫家长\n",
      "不带你玩\n",
      "一边去\n",
      "小屁孩走了, 开始上课!\n"
     ]
    }
   ],
   "source": [
    "# if 语句练习\n",
    "# 如果age 小于18 岁 , 则打印信息\"去叫家长\"\n",
    "age = 17\n",
    "if age < 18:\n",
    "    print(\"去叫家长\")\n",
    "    print(\"不带你玩\")\n",
    "    print(\"一边去\")\n",
    "print(\"小屁孩走了, 开始上课!\")"
   ]
  },
  {
   "cell_type": "markdown",
   "metadata": {},
   "source": [
    "### 双向分支\n",
    " - fi ...else .. 语句\n",
    "       语法:\n",
    "       if  条件表达式:\n",
    "           语句1\n",
    "           语句2\n",
    "           ....\n",
    "       else:\n",
    "           语句1\n",
    "           语句2\n",
    "           ....\n",
    " - 双向分支 有两个分支, 当程序执行倒if...else...语句的时候,一定会执行if或者一个else 中的一个,也仅执行一个\n",
    " - 缩进问题,if 和else 是一个层级, 其余的语句是一个层级\n",
    "           "
   ]
  },
  {
   "cell_type": "code",
   "execution_count": 9,
   "metadata": {},
   "outputs": [
    {
     "name": "stdout",
     "output_type": "stream",
     "text": [
      "请输入你的性别: 男\n",
      "你的性别是男\n",
      "男人 滚开!!!! 我要妹子!\n",
      "拜拜\n"
     ]
    }
   ],
   "source": [
    "gender = input(\"请输入你的性别: \")\n",
    "print(\"你的性别是{0}\".format(gender))\n",
    "if gender == \"男\":\n",
    "    print(\"男人 滚开!!!! 我要妹子!\")\n",
    "    \n",
    "else:\n",
    "    print(\"妹子吗?\")\n",
    "    \n",
    "print(\"拜拜\")"
   ]
  },
  {
   "cell_type": "code",
   "execution_count": 13,
   "metadata": {},
   "outputs": [
    {
     "name": "stdout",
     "output_type": "stream",
     "text": [
      "输出你的成绩: 91\n",
      "优\n"
     ]
    }
   ],
   "source": [
    "# 考试成绩\n",
    "# 90 以上: 输出优秀\n",
    "# 80 - 90 : 良\n",
    "# 70 - 80 : 中\n",
    "# 60 - 70 : 平\n",
    "# 69 以下: 差\n",
    "score = int(input(\"输出你的成绩: \"))\n",
    "if score > 90:\n",
    "    print(\"优\")\n",
    "if 90 >= score >= 80:\n",
    "    print(\"良\")\n",
    "if 80 > score >= 70:\n",
    "    print(\"中\")\n",
    "if 70 > score >= 60:\n",
    "    print(\"平\")\n",
    "if score < 60:\n",
    "    print(\"你不及格啊 兄弟!!!\")\n",
    "    \n"
   ]
  },
  {
   "cell_type": "markdown",
   "metadata": {},
   "source": [
    "## 多路分支\n",
    "- 很多分支的情况, 简称多路分支\n",
    "       if  条件表达式:\n",
    "          语句1\n",
    "           ...\n",
    "       elif 条件表达式:\n",
    "          语句1\n",
    "           ...\n",
    "       elif 条件表达式:\n",
    "          语句1\n",
    "           ...\n",
    "       .....\n",
    "       else:\n",
    "           语句1\n",
    "- elif  可以有很多个\n",
    "- else 可选\n",
    "- 多路分支 只会选一个执行\n"
   ]
  },
  {
   "cell_type": "code",
   "execution_count": 14,
   "metadata": {},
   "outputs": [
    {
     "name": "stdout",
     "output_type": "stream",
     "text": [
      "输出你的成绩: 91\n",
      "优\n"
     ]
    }
   ],
   "source": [
    "score = int(input(\"输出你的成绩: \"))\n",
    "if score > 90:\n",
    "    print(\"优\")\n",
    "elif score >= 80:\n",
    "    print(\"良\")\n",
    "elif score >= 70:\n",
    "    print(\"中\")\n",
    "elif score >= 60:\n",
    "    print(\"平\")\n",
    "elif score < 60:\n",
    "    print(\"你不及格啊 兄弟!!!\")"
   ]
  },
  {
   "cell_type": "markdown",
   "metadata": {},
   "source": [
    "## if 语句其他:\n",
    " - if 语句可以嵌套使用, 不推荐\n",
    " - python没有switch-case 语句\n",
    " "
   ]
  },
  {
   "cell_type": "markdown",
   "metadata": {},
   "source": [
    "# 循环语句\n",
    " - 重复执行某些固定动作或者处理基本固定的事物\n",
    " - 分类\n",
    "     - for 循环\n",
    "     - while 循环\n",
    "## for 循环\n",
    " - for 循环\n",
    "     for 变量 in 序列:\n",
    "         语句1\n",
    "         语句2\n",
    "         ...\n",
    "         "
   ]
  },
  {
   "cell_type": "code",
   "execution_count": 19,
   "metadata": {},
   "outputs": [
    {
     "name": "stdout",
     "output_type": "stream",
     "text": [
      "你叫啥子名字: zhangsan\n",
      "下一个\n",
      "你叫啥子名字: lisi\n",
      "下一个\n",
      "你叫啥子名字: wangwu\n",
      "你给我滚出克!!\n"
     ]
    }
   ],
   "source": [
    "# 列表就是一列数字或者其他值,一般用中括号表示\n",
    "# 例如 [\"zhangsan\", \"lisi\", \"wangwu\"]\n",
    "# 打印学生列表姓名\n",
    "stu_name = [\"zhangsan\", \"lisi\", \"wangwu\"]\n",
    "for name in stu_name:\n",
    "    print(\"你叫啥子名字:\",name)\n",
    "    if name == \"wangwu\":\n",
    "        print(\"你给我滚出克!!\")\n",
    "    else:\n",
    "        print(\"下一个\")"
   ]
  },
  {
   "cell_type": "markdown",
   "metadata": {},
   "source": [
    "## range 介绍\n",
    " - 生成一个数字序列\n",
    " - 具体范围可以设定\n",
    " "
   ]
  },
  {
   "cell_type": "code",
   "execution_count": 22,
   "metadata": {},
   "outputs": [
    {
     "name": "stdout",
     "output_type": "stream",
     "text": [
      "1\n",
      "2\n",
      "3\n",
      "4\n",
      "5\n",
      "6\n",
      "7\n",
      "8\n",
      "9\n",
      "10\n"
     ]
    }
   ],
   "source": [
    "# range 练习\n",
    "# 打印从1-10 数字\n",
    "# 注意: 一般在python 中, 如果由表示数字范围的两个数,一般包含左边数字不包含右边数字\n",
    "# randint 式一个特例, 他左右都包含\n",
    "# range 函数在 python2.x 和 python3.x 中有严重的区别\n",
    "for i in range(1, 11):\n",
    "    print(i)"
   ]
  },
  {
   "cell_type": "markdown",
   "metadata": {},
   "source": [
    "## for-else 语句\n",
    " - 当for 循环结束的时候, 会执行else语句\n",
    " \n",
    " - else 语句式可选语句"
   ]
  },
  {
   "cell_type": "code",
   "execution_count": 25,
   "metadata": {},
   "outputs": [
    {
     "name": "stdout",
     "output_type": "stream",
     "text": [
      "你叫啥子名字: zhangsan\n",
      "下一个\n",
      "你叫啥子名字: lisi\n",
      "下一个\n",
      "你叫啥子名字: wangwu\n",
      "你给我滚出克!!\n",
      "你叫啥子名字: jingjing\n",
      "哇哇哇\n",
      "不会再爱了\n"
     ]
    }
   ],
   "source": [
    "# for else 语句\n",
    "# 打印列表中的同学\n",
    "# 如果没有在列表中 , 或者列表结束了, 我们需要打印提示语句, 表示不在爱了\n",
    "# 打印 学生列表姓名\n",
    "# 如果式jingjing 那肯定是我的最爱啊\n",
    "# 如果是别的学生, 那要冷酷的拒绝他\n",
    "stu_name = [\"zhangsan\", \"lisi\", \"wangwu\", \"jingjing\"]\n",
    "for name in stu_name:\n",
    "    print(\"你叫啥子名字:\",name)\n",
    "    if name == \"wangwu\":\n",
    "        print(\"你给我滚出克!!\")\n",
    "    elif name == \"jingjing\":\n",
    "        print(\"哇哇哇\")\n",
    "        \n",
    "    else:\n",
    "        print(\"下一个\")\n",
    "else:\n",
    "    print(\"不会再爱了\")"
   ]
  },
  {
   "cell_type": "markdown",
   "metadata": {},
   "source": [
    "## for 循环 之 continue,pass\n",
    " - break : 无条件结束整个循环, 简称循环猝死\n",
    " - continue: 无条件结束本次循环, 重新进入下一轮循环\n",
    " - pass: 表示略过\n",
    " "
   ]
  },
  {
   "cell_type": "code",
   "execution_count": 32,
   "metadata": {},
   "outputs": [
    {
     "name": "stdout",
     "output_type": "stream",
     "text": [
      "1234568910\n",
      "123456"
     ]
    }
   ],
   "source": [
    "# 在数字 1-10 中寻找数字7 一旦找到,答应出来,其余则什么都不做\n",
    "for i in range(1, 11):\n",
    "    if i == 7:\n",
    "        continue\n",
    "    print(i, end=\"\")\n",
    "print()\n",
    "for u in range(1, 11):\n",
    "    if u == 7:\n",
    "        break\n",
    "    print(u, end=\"\")\n",
    "    "
   ]
  },
  {
   "cell_type": "code",
   "execution_count": 34,
   "metadata": {},
   "outputs": [
    {
     "name": "stdout",
     "output_type": "stream",
     "text": [
      "1\n",
      "2\n",
      "3\n",
      "4\n",
      "5\n",
      "6\n",
      "7\n",
      "8\n",
      "9\n",
      "10\n"
     ]
    }
   ],
   "source": [
    "# pass \n",
    "for i in range(1,11):\n",
    "    pass\n",
    "    print(i)\n",
    "    \n",
    "    "
   ]
  },
  {
   "cell_type": "code",
   "execution_count": null,
   "metadata": {},
   "outputs": [],
   "source": []
  }
 ],
 "metadata": {
  "kernelspec": {
   "display_name": "Python 3",
   "language": "python",
   "name": "python3"
  },
  "language_info": {
   "codemirror_mode": {
    "name": "ipython",
    "version": 3
   },
   "file_extension": ".py",
   "mimetype": "text/x-python",
   "name": "python",
   "nbconvert_exporter": "python",
   "pygments_lexer": "ipython3",
   "version": "3.6.4"
  }
 },
 "nbformat": 4,
 "nbformat_minor": 2
}
