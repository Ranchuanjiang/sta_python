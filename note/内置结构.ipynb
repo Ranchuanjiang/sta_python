{
 "cells": [
  {
   "cell_type": "markdown",
   "metadata": {},
   "source": [
    "# 关于列表的操作\n",
    "  \n",
    "  \n",
    "  "
   ]
  },
  {
   "cell_type": "code",
   "execution_count": 2,
   "metadata": {},
   "outputs": [
    {
     "name": "stdout",
     "output_type": "stream",
     "text": [
      "[0, 1, 2, 3, 4]\n",
      "[0, 1, 2, 3, 4, 100]\n"
     ]
    }
   ],
   "source": [
    "# append 插入一个内容, 在末尾追加\n",
    "a = [i for i in range(5)]\n",
    "print(a)\n",
    "a.append(100)\n",
    "print(a)"
   ]
  },
  {
   "cell_type": "code",
   "execution_count": 3,
   "metadata": {},
   "outputs": [
    {
     "name": "stdout",
     "output_type": "stream",
     "text": [
      "[0, 1, 2, 3, 4, 100]\n",
      "[0, 1, 2, 666, 3, 4, 100]\n"
     ]
    }
   ],
   "source": [
    "# inset: 制定位置插入\n",
    "# insert(index, data), 插入位置是index 前面\n",
    "print(a)\n",
    "a.insert(3, 666)\n",
    "print(a)"
   ]
  },
  {
   "cell_type": "code",
   "execution_count": 5,
   "metadata": {},
   "outputs": [
    {
     "name": "stdout",
     "output_type": "stream",
     "text": [
      "[0, 1, 2, 666, 3, 4, 100]\n",
      "100\n",
      "[0, 1, 2, 666, 3, 4]\n"
     ]
    }
   ],
   "source": [
    "# 删除\n",
    "# del 删除\n",
    "# pop ,从对位 难处一个元素,即 把最后一个元素取出来 \n",
    "print(a)\n",
    "last_ele = a.pop()\n",
    "print(last_ele)\n",
    "print(a)"
   ]
  },
  {
   "cell_type": "code",
   "execution_count": 9,
   "metadata": {},
   "outputs": [
    {
     "name": "stdout",
     "output_type": "stream",
     "text": [
      "[0, 1, 2, 3, 4]\n",
      "2422505755912\n",
      "[0, 1, 3, 4]\n",
      "2422505755912\n"
     ]
    }
   ],
   "source": [
    "# remove : 在列表中删除 制定的值的元素\n",
    "# 如果删除的元素不在列表中, 则报错\n",
    "print(a)\n",
    "print(id(a))\n",
    "a.remove(2)\n",
    "print(a)\n",
    "print(id(a))"
   ]
  },
  {
   "cell_type": "code",
   "execution_count": 10,
   "metadata": {},
   "outputs": [
    {
     "name": "stdout",
     "output_type": "stream",
     "text": [
      "2422506990792\n",
      "[]\n",
      "2422506990792\n"
     ]
    }
   ],
   "source": [
    "# clear 清空\n",
    "a = [1, 2, 3, 4, 5, 6]\n",
    "print(id(a))\n",
    "a.clear()\n",
    "print(a)\n",
    "print(id(a))"
   ]
  },
  {
   "cell_type": "code",
   "execution_count": 11,
   "metadata": {},
   "outputs": [
    {
     "name": "stdout",
     "output_type": "stream",
     "text": [
      "[1, 2, 3, 4, 5, 6]\n",
      "2422505786568\n",
      "[6, 5, 4, 3, 2, 1]\n",
      "2422505786568\n"
     ]
    }
   ],
   "source": [
    "# reverse : 翻转\n",
    "a = [1, 2, 3, 4, 5, 6]\n",
    "print(a)\n",
    "print(id(a))\n",
    "a.reverse()\n",
    "print(a)\n",
    "print(id(a))"
   ]
  },
  {
   "cell_type": "code",
   "execution_count": 14,
   "metadata": {},
   "outputs": [
    {
     "name": "stdout",
     "output_type": "stream",
     "text": [
      "[1, 2, 3]\n",
      "2422507213896\n",
      "[1, 2, 3, 4, 5, 6]\n",
      "2422507213896\n",
      "[4, 5, 6, 1, 2, 3, 4, 5, 6]\n"
     ]
    }
   ],
   "source": [
    "# extend(): 扩展列表, 两个列表把一个直接拼接到后一个\n",
    "a = [1, 2, 3]\n",
    "b = [4, 5, 6]\n",
    "print(a)\n",
    "print(id(a))\n",
    "a.extend(b)\n",
    "print(a)\n",
    "print(id(a))\n",
    "b.extend(a)\n",
    "print(b)"
   ]
  },
  {
   "cell_type": "code",
   "execution_count": 15,
   "metadata": {},
   "outputs": [
    {
     "name": "stdout",
     "output_type": "stream",
     "text": [
      "2\n"
     ]
    }
   ],
   "source": [
    "# count(): 查找列表中指定值或元素的个数\n",
    "a = [1, 2, 3, 4, 3, 5, 6]\n",
    "a_c = a.count(3)\n",
    "print(a_c)"
   ]
  },
  {
   "cell_type": "code",
   "execution_count": 16,
   "metadata": {},
   "outputs": [
    {
     "name": "stdout",
     "output_type": "stream",
     "text": [
      "[1, 2, 3, 666]\n",
      "[1, 2, 3, 666]\n"
     ]
    }
   ],
   "source": [
    "# copy(): 拷贝, 浅拷贝\n",
    "a = [1, 2, 3, 4]\n",
    "b = a\n",
    "b[3] = 666\n",
    "print(a)\n",
    "print(b)"
   ]
  },
  {
   "cell_type": "code",
   "execution_count": 17,
   "metadata": {},
   "outputs": [],
   "source": [
    "b = a.copy()"
   ]
  },
  {
   "cell_type": "code",
   "execution_count": 19,
   "metadata": {},
   "outputs": [
    {
     "name": "stdout",
     "output_type": "stream",
     "text": [
      "[1, 2, 3, 666]\n",
      "[1, 2, 3, 666]\n",
      "[1, 2, 3, 666]\n",
      "[1, 2, 3, 888]\n"
     ]
    }
   ],
   "source": [
    "print(a)\n",
    "print(b)\n",
    "b[3] = 888\n",
    "print(a)\n",
    "print(b)"
   ]
  },
  {
   "cell_type": "code",
   "execution_count": 20,
   "metadata": {},
   "outputs": [
    {
     "name": "stdout",
     "output_type": "stream",
     "text": [
      "2422505786568\n",
      "2422505757000\n",
      "[10, 20, 30, [1, 100, 3]]\n",
      "[10, 20, 30, [1, 100, 3]]\n"
     ]
    }
   ],
   "source": [
    "# 深拷贝和浅拷贝的区别\n",
    "# 出现下面问题原因是浅拷贝\n",
    "# 深拷贝需要使用特定工具\n",
    "a = [10, 20, 30, [1, 2, 3]]\n",
    "b = a.copy()\n",
    "print(id(a))\n",
    "print(id(b))\n",
    "a[3][1] = 100\n",
    "print(a)\n",
    "print(b)\n",
    "\n"
   ]
  },
  {
   "cell_type": "markdown",
   "metadata": {},
   "source": [
    "# 元组 - tuple\n",
    " - 远足可以看成是一个不可更改的list\n",
    "## 元组创建"
   ]
  },
  {
   "cell_type": "code",
   "execution_count": 22,
   "metadata": {},
   "outputs": [
    {
     "name": "stdout",
     "output_type": "stream",
     "text": [
      "<class 'tuple'>\n",
      "<class 'tuple'>\n",
      "<class 'int'>\n",
      "<class 'tuple'>\n"
     ]
    }
   ],
   "source": [
    "# 创建元组\n",
    "t = ()\n",
    "print(type(t))\n",
    "t = (1, )\n",
    "print(type(t))\n",
    "p = (1)\n",
    "print(type(p))\n",
    "t = 1,\n",
    "print(type(t))"
   ]
  },
  {
   "cell_type": "markdown",
   "metadata": {},
   "source": [
    "## 元组的特性\n",
    " - 是序列表 , 有序\n",
    " - 元组数据值可以访问, 不能修改.\n",
    " - 元组数据可以是任意类型\n",
    " - 总之, list 所有特性,除了可修改外, 元组都具有\\\n",
    " "
   ]
  },
  {
   "cell_type": "code",
   "execution_count": 23,
   "metadata": {},
   "outputs": [
    {
     "name": "stdout",
     "output_type": "stream",
     "text": [
      "4\n"
     ]
    }
   ],
   "source": [
    "# 索引操作 超过会报错\n",
    "t = (1, 2, 3, 4, 5)\n",
    "print(t[3])"
   ]
  },
  {
   "cell_type": "code",
   "execution_count": 26,
   "metadata": {},
   "outputs": [
    {
     "name": "stdout",
     "output_type": "stream",
     "text": [
      "(2, 3, 4, 5)\n",
      "2422505832712\n",
      "2422507290696\n"
     ]
    }
   ],
   "source": [
    "# 切片 切片可以超标\n",
    "t = (1, 2, 3, 4, 5, 6)\n",
    "t1 = t[1:5:1]\n",
    "print(t1)\n",
    "print(id(t))\n",
    "print(id(t1))"
   ]
  },
  {
   "cell_type": "code",
   "execution_count": 27,
   "metadata": {},
   "outputs": [
    {
     "name": "stdout",
     "output_type": "stream",
     "text": [
      "2422506495648\n",
      "2422505500584\n",
      "(1, 2, 3, 4, 5, 6)\n"
     ]
    }
   ],
   "source": [
    "# 元组相加\n",
    "t1 = (1, 2, 3)\n",
    "t2 = (4, 5, 6)\n",
    "print(id(t1))\n",
    "t1 = t1 + t2\n",
    "print(id(t1))\n",
    "print(t1)"
   ]
  },
  {
   "cell_type": "code",
   "execution_count": 28,
   "metadata": {},
   "outputs": [
    {
     "name": "stdout",
     "output_type": "stream",
     "text": [
      "(1, 2, 3, 1, 2, 3, 1, 2, 3)\n"
     ]
    }
   ],
   "source": [
    "# 元组相乘\n",
    "t = (1, 2, 3)\n",
    "t = t * 3\n",
    "print(t)\n"
   ]
  },
  {
   "cell_type": "code",
   "execution_count": 29,
   "metadata": {},
   "outputs": [
    {
     "name": "stdout",
     "output_type": "stream",
     "text": [
      "yes\n"
     ]
    }
   ],
   "source": [
    "# 成员检测\n",
    "t = (1, 2, 3)\n",
    "if 2 in t:\n",
    "    print(\"yes\")\n",
    "else:\n",
    "    print(\"no\")\n"
   ]
  },
  {
   "cell_type": "code",
   "execution_count": 32,
   "metadata": {},
   "outputs": [
    {
     "name": "stdout",
     "output_type": "stream",
     "text": [
      "1 2 3 4 5 6 7 7 8 "
     ]
    }
   ],
   "source": [
    "# 元组遍历 一般采用for\n",
    "# 1. 单层元组遍历\n",
    "t = (1, 2, 3, 4, 5, 6, 7, 7, 8)\n",
    "for i in t:\n",
    "    print(i, end=\" \")"
   ]
  },
  {
   "cell_type": "code",
   "execution_count": 36,
   "metadata": {},
   "outputs": [
    {
     "name": "stdout",
     "output_type": "stream",
     "text": [
      "1 2 3 4 5 6 7 8 9 \n",
      "________________________________________\n",
      "1 2 3 4 5 6 7 8 9 \n",
      "________________________________________\n",
      "1 2 3 4 5 6 7 8 9 "
     ]
    }
   ],
   "source": [
    "# 2. 双层元组遍历\n",
    "t = ((1, 2, 3), (4, 5, 6), (7, 8, 9))\n",
    "for i in t:\n",
    "    for j in i:\n",
    "        print(j, end=\" \")\n",
    "print()\n",
    "print(\"__\" * 20)\n",
    "for i in t:\n",
    "    print(*i, end=\" \")\n",
    "print()\n",
    "print(\"__\" * 20)\n",
    "for k , v , m in t:\n",
    "    print(k, v, m, end=\" \")"
   ]
  },
  {
   "cell_type": "markdown",
   "metadata": {},
   "source": [
    "#"
   ]
  }
 ],
 "metadata": {
  "kernelspec": {
   "display_name": "Python 3",
   "language": "python",
   "name": "python3"
  },
  "language_info": {
   "codemirror_mode": {
    "name": "ipython",
    "version": 3
   },
   "file_extension": ".py",
   "mimetype": "text/x-python",
   "name": "python",
   "nbconvert_exporter": "python",
   "pygments_lexer": "ipython3",
   "version": "3.6.4"
  }
 },
 "nbformat": 4,
 "nbformat_minor": 2
}
