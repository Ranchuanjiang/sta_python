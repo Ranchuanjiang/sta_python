{
 "cells": [
  {
   "cell_type": "markdown",
   "metadata": {},
   "source": [
    "# 常用包\n",
    " - calendar\n",
    " - time\n",
    " - datetime\n",
    " - timeit\n",
    " - os\n",
    " - shutil\n",
    " - zip\n",
    " - math\n",
    " - string\n",
    " - 上述所有模块使用理论应该先导入, string 事特例\n",
    " - calendar, time ,datetime 的区别 参考中文意思\n",
    " "
   ]
  },
  {
   "cell_type": "markdown",
   "metadata": {},
   "source": [
    "## calendar\n",
    "- 跟日历相关的模块\n"
   ]
  },
  {
   "cell_type": "code",
   "execution_count": 2,
   "metadata": {},
   "outputs": [
    {
     "name": "stdout",
     "output_type": "stream",
     "text": [
      "<class 'str'>\n"
     ]
    }
   ],
   "source": [
    "import calendar\n",
    "# calendar : 获取一年的日历字符串\n",
    "# 参数\n",
    "# w = 每一个日期直接按的间隔字符串\n",
    "# l = 每周所占用的行数\n",
    "# c = 每个月之间的间隔字符数\n",
    "cal = calendar.calendar(2018)\n",
    "print(type(cal))"
   ]
  },
  {
   "cell_type": "code",
   "execution_count": 4,
   "metadata": {},
   "outputs": [
    {
     "name": "stdout",
     "output_type": "stream",
     "text": [
      "                              2018\n",
      "\n",
      "      January               February               March\n",
      "Mo Tu We Th Fr Sa Su  Mo Tu We Th Fr Sa Su  Mo Tu We Th Fr Sa Su\n",
      " 1  2  3  4  5  6  7            1  2  3  4            1  2  3  4\n",
      " 8  9 10 11 12 13 14   5  6  7  8  9 10 11   5  6  7  8  9 10 11\n",
      "15 16 17 18 19 20 21  12 13 14 15 16 17 18  12 13 14 15 16 17 18\n",
      "22 23 24 25 26 27 28  19 20 21 22 23 24 25  19 20 21 22 23 24 25\n",
      "29 30 31              26 27 28              26 27 28 29 30 31\n",
      "\n",
      "       April                  May                   June\n",
      "Mo Tu We Th Fr Sa Su  Mo Tu We Th Fr Sa Su  Mo Tu We Th Fr Sa Su\n",
      "                   1      1  2  3  4  5  6               1  2  3\n",
      " 2  3  4  5  6  7  8   7  8  9 10 11 12 13   4  5  6  7  8  9 10\n",
      " 9 10 11 12 13 14 15  14 15 16 17 18 19 20  11 12 13 14 15 16 17\n",
      "16 17 18 19 20 21 22  21 22 23 24 25 26 27  18 19 20 21 22 23 24\n",
      "23 24 25 26 27 28 29  28 29 30 31           25 26 27 28 29 30\n",
      "30\n",
      "\n",
      "        July                 August              September\n",
      "Mo Tu We Th Fr Sa Su  Mo Tu We Th Fr Sa Su  Mo Tu We Th Fr Sa Su\n",
      "                   1         1  2  3  4  5                  1  2\n",
      " 2  3  4  5  6  7  8   6  7  8  9 10 11 12   3  4  5  6  7  8  9\n",
      " 9 10 11 12 13 14 15  13 14 15 16 17 18 19  10 11 12 13 14 15 16\n",
      "16 17 18 19 20 21 22  20 21 22 23 24 25 26  17 18 19 20 21 22 23\n",
      "23 24 25 26 27 28 29  27 28 29 30 31        24 25 26 27 28 29 30\n",
      "30 31\n",
      "\n",
      "      October               November              December\n",
      "Mo Tu We Th Fr Sa Su  Mo Tu We Th Fr Sa Su  Mo Tu We Th Fr Sa Su\n",
      " 1  2  3  4  5  6  7            1  2  3  4                  1  2\n",
      " 8  9 10 11 12 13 14   5  6  7  8  9 10 11   3  4  5  6  7  8  9\n",
      "15 16 17 18 19 20 21  12 13 14 15 16 17 18  10 11 12 13 14 15 16\n",
      "22 23 24 25 26 27 28  19 20 21 22 23 24 25  17 18 19 20 21 22 23\n",
      "29 30 31              26 27 28 29 30        24 25 26 27 28 29 30\n",
      "                                            31\n",
      "\n"
     ]
    }
   ],
   "source": [
    "cal = calendar.calendar(2018, w=0,l=0, c=0)\n",
    "print(cal)"
   ]
  },
  {
   "cell_type": "code",
   "execution_count": 7,
   "metadata": {},
   "outputs": [
    {
     "data": {
      "text/plain": [
       "True"
      ]
     },
     "execution_count": 7,
     "metadata": {},
     "output_type": "execute_result"
    }
   ],
   "source": [
    "# isleap: 判断摩尹爱你是否为闰年\n",
    "calendar.isleap(2000)"
   ]
  },
  {
   "cell_type": "code",
   "execution_count": 10,
   "metadata": {},
   "outputs": [
    {
     "data": {
      "text/plain": [
       "4"
      ]
     },
     "execution_count": 10,
     "metadata": {},
     "output_type": "execute_result"
    }
   ],
   "source": [
    "# leapdays : 获取指定年份直接按闰年的个数\n",
    "calendar.leapdays(2001,2018)"
   ]
  },
  {
   "cell_type": "code",
   "execution_count": 11,
   "metadata": {},
   "outputs": [
    {
     "name": "stdout",
     "output_type": "stream",
     "text": [
      "    August 2018\n",
      "Mo Tu We Th Fr Sa Su\n",
      "       1  2  3  4  5\n",
      " 6  7  8  9 10 11 12\n",
      "13 14 15 16 17 18 19\n",
      "20 21 22 23 24 25 26\n",
      "27 28 29 30 31\n",
      "\n"
     ]
    }
   ],
   "source": [
    "# month() 获取莫格月的日历字符串\n",
    "# 格式:calendar.minder(年, 月)\n",
    "# 回值: 月日历的字符串\n",
    "m8 = calendar.month(2018, 8)\n",
    "print(m8)"
   ]
  },
  {
   "cell_type": "code",
   "execution_count": 13,
   "metadata": {},
   "outputs": [
    {
     "name": "stdout",
     "output_type": "stream",
     "text": [
      "2\n",
      "31\n"
     ]
    }
   ],
   "source": [
    "# monthrrange() 获取一个月的周几开始即和天数\n",
    "# 格式: calendar.monthrange(年, 月)\n",
    "# 回值: 元组(周几开始, 总天数)\n",
    "# 注意: 周默认 0 - 6 表示周1 到周 日\n",
    "w, t = calendar.monthrange(2018, 8)\n",
    "print(w)\n",
    "print(t)"
   ]
  },
  {
   "cell_type": "code",
   "execution_count": 14,
   "metadata": {},
   "outputs": [
    {
     "name": "stdout",
     "output_type": "stream",
     "text": [
      "[[0, 0, 1, 2, 3, 4, 5], [6, 7, 8, 9, 10, 11, 12], [13, 14, 15, 16, 17, 18, 19], [20, 21, 22, 23, 24, 25, 26], [27, 28, 29, 30, 31, 0, 0]]\n",
      "<class 'list'>\n"
     ]
    }
   ],
   "source": [
    "# monthcalendar() 返回一个月每天的矩阵列表\n",
    "# 格式: calendar.monthcalendar(年, 月)\n",
    "# 回值: 二级列表\n",
    "# 注意: 矩阵中没有天数用0 表示\n",
    "m = calendar.monthcalendar(2018, 8)\n",
    "print(m)\n",
    "print(type(m))"
   ]
  },
  {
   "cell_type": "code",
   "execution_count": 15,
   "metadata": {},
   "outputs": [
    {
     "name": "stdout",
     "output_type": "stream",
     "text": [
      "                                  2018\n",
      "\n",
      "      January                   February                   March\n",
      "Mo Tu We Th Fr Sa Su      Mo Tu We Th Fr Sa Su      Mo Tu We Th Fr Sa Su\n",
      " 1  2  3  4  5  6  7                1  2  3  4                1  2  3  4\n",
      " 8  9 10 11 12 13 14       5  6  7  8  9 10 11       5  6  7  8  9 10 11\n",
      "15 16 17 18 19 20 21      12 13 14 15 16 17 18      12 13 14 15 16 17 18\n",
      "22 23 24 25 26 27 28      19 20 21 22 23 24 25      19 20 21 22 23 24 25\n",
      "29 30 31                  26 27 28                  26 27 28 29 30 31\n",
      "\n",
      "       April                      May                       June\n",
      "Mo Tu We Th Fr Sa Su      Mo Tu We Th Fr Sa Su      Mo Tu We Th Fr Sa Su\n",
      "                   1          1  2  3  4  5  6                   1  2  3\n",
      " 2  3  4  5  6  7  8       7  8  9 10 11 12 13       4  5  6  7  8  9 10\n",
      " 9 10 11 12 13 14 15      14 15 16 17 18 19 20      11 12 13 14 15 16 17\n",
      "16 17 18 19 20 21 22      21 22 23 24 25 26 27      18 19 20 21 22 23 24\n",
      "23 24 25 26 27 28 29      28 29 30 31               25 26 27 28 29 30\n",
      "30\n",
      "\n",
      "        July                     August                  September\n",
      "Mo Tu We Th Fr Sa Su      Mo Tu We Th Fr Sa Su      Mo Tu We Th Fr Sa Su\n",
      "                   1             1  2  3  4  5                      1  2\n",
      " 2  3  4  5  6  7  8       6  7  8  9 10 11 12       3  4  5  6  7  8  9\n",
      " 9 10 11 12 13 14 15      13 14 15 16 17 18 19      10 11 12 13 14 15 16\n",
      "16 17 18 19 20 21 22      20 21 22 23 24 25 26      17 18 19 20 21 22 23\n",
      "23 24 25 26 27 28 29      27 28 29 30 31            24 25 26 27 28 29 30\n",
      "30 31\n",
      "\n",
      "      October                   November                  December\n",
      "Mo Tu We Th Fr Sa Su      Mo Tu We Th Fr Sa Su      Mo Tu We Th Fr Sa Su\n",
      " 1  2  3  4  5  6  7                1  2  3  4                      1  2\n",
      " 8  9 10 11 12 13 14       5  6  7  8  9 10 11       3  4  5  6  7  8  9\n",
      "15 16 17 18 19 20 21      12 13 14 15 16 17 18      10 11 12 13 14 15 16\n",
      "22 23 24 25 26 27 28      19 20 21 22 23 24 25      17 18 19 20 21 22 23\n",
      "29 30 31                  26 27 28 29 30            24 25 26 27 28 29 30\n",
      "                                                    31\n",
      "\n"
     ]
    }
   ],
   "source": [
    "# prcal: 直接打印日历\n",
    "calendar.prcal(2018)"
   ]
  },
  {
   "cell_type": "code",
   "execution_count": 16,
   "metadata": {},
   "outputs": [
    {
     "name": "stdout",
     "output_type": "stream",
     "text": [
      "    August 2018\n",
      "Mo Tu We Th Fr Sa Su\n",
      "       1  2  3  4  5\n",
      " 6  7  8  9 10 11 12\n",
      "13 14 15 16 17 18 19\n",
      "20 21 22 23 24 25 26\n",
      "27 28 29 30 31\n"
     ]
    }
   ],
   "source": [
    "# prmonth() 打印月\n",
    "# 格式: calendar.prmonth(年. 月)\n",
    "# 返回值: 无\n",
    "calendar.prmonth(2018, 8)"
   ]
  },
  {
   "cell_type": "code",
   "execution_count": 19,
   "metadata": {},
   "outputs": [
    {
     "name": "stdout",
     "output_type": "stream",
     "text": [
      "0\n"
     ]
    }
   ],
   "source": [
    "# weekday() 获取周几\n",
    "# 格式 calendar.weekday(年, 月, 日)\n",
    "# 返回值: 对应的周几 0 - 6 对应 周1 到周日\n",
    "m = calendar.weekday(2018, 8, 27)\n",
    "print(m)"
   ]
  },
  {
   "cell_type": "markdown",
   "metadata": {},
   "source": [
    "## time 模块\n",
    "### 时间戳\n",
    "    - 一个时间表示, 根据不同语言, 可以事整数或者浮点数\n",
    "    - 是从1970年1月1日 0时0分0秒到 现在经历的秒数\n",
    "    - 如果表示的时间时1970年以前或者太遥远的未来,可能会出现异常\n",
    "    - 32位操作系统能够支持到2038年\n",
    "\n",
    "### UTC时间\n",
    "    - UTC又称为世界协调时间, 以英国的格林尼治天文所在地区的时间作为参考的时间, 也叫做世界标准时间\n",
    "    - 中国时间时 UTC+8 东八区\n",
    "    \n",
    "### 夏令时\n",
    "    - 夏令时就是在夏天的时候将时间调快一小时,本意时督促大家早睡早起省蜡烛,每天变成25小时.本质每百年还是24小时\n",
    "\n",
    "### 时间元组\n",
    "    - 一个包含使劲按内容的普通元组\n",
    "    \n",
    "         索引    内容    属性       值\n",
    "         0      年     tm_year    2018\n",
    "         1      月     tm_month    1~ 12\n",
    "         2      日     tm_day     1 ~ 31\n",
    "         3      时     tm_hour    0 ~ 23\n",
    "         4      分     tm_min    0 ~ 59\n",
    "         5      秒     tm_src    0 ~ 61 60表示闰秒 61 保留值\n",
    "         6      周几    tm_wday   0 ~ 6\n",
    "         7     第几天   tm_yday   0 ~ 366\n",
    "         8     夏令时   tm_isdst  0, 1, -1 (表示夏令时)"
   ]
  },
  {
   "cell_type": "code",
   "execution_count": 20,
   "metadata": {},
   "outputs": [],
   "source": [
    "# 需要单独导入\n",
    "import time\n"
   ]
  },
  {
   "cell_type": "code",
   "execution_count": 23,
   "metadata": {},
   "outputs": [
    {
     "name": "stdout",
     "output_type": "stream",
     "text": [
      "-28800\n",
      "-32400\n",
      "0\n"
     ]
    }
   ],
   "source": [
    "# 时间模块属性\n",
    "# timezone: 当前失去和UTC时区相差得秒数,在没有夏令时得情况下得间隔,东八区得时-28800\n",
    "# altzone: 获取当前时区与UTC时间相差的秒数,在夏令时的情况下.\n",
    "# daylight: 检测当前是否时夏令时 时间状态, 0 表示不是 1 表示 是\n",
    "\n",
    "print(time.timezone)\n",
    "print(time.altzone)\n",
    "print(time.daylight)"
   ]
  },
  {
   "cell_type": "code",
   "execution_count": 24,
   "metadata": {},
   "outputs": [
    {
     "data": {
      "text/plain": [
       "1535381628.6430707"
      ]
     },
     "execution_count": 24,
     "metadata": {},
     "output_type": "execute_result"
    }
   ],
   "source": [
    "# time() : 得到一个时间戳\n",
    "time.time()"
   ]
  },
  {
   "cell_type": "code",
   "execution_count": 25,
   "metadata": {},
   "outputs": [
    {
     "data": {
      "text/plain": [
       "time.struct_time(tm_year=2018, tm_mon=8, tm_mday=27, tm_hour=22, tm_min=54, tm_sec=45, tm_wday=0, tm_yday=239, tm_isdst=0)"
      ]
     },
     "execution_count": 25,
     "metadata": {},
     "output_type": "execute_result"
    }
   ],
   "source": [
    "# time.localtime(): 得到当前时间的时间结构\n",
    "# 可以通过点号操作得到相应的属性元素内容\n",
    "\n",
    "time.localtime()"
   ]
  },
  {
   "cell_type": "code",
   "execution_count": 27,
   "metadata": {},
   "outputs": [
    {
     "name": "stdout",
     "output_type": "stream",
     "text": [
      "<class 'str'>\n",
      "Mon Aug 27 22:58:40 2018\n"
     ]
    }
   ],
   "source": [
    "# asctime(): 返回元组的正常字符串话之后的时间结构\n",
    "# 格式L:time.asctime(时间元组)\n",
    "# 返回值: 字符串\n",
    "t = time.localtime()\n",
    "tt = time.asctime(t)\n",
    "print(type(tt))\n",
    "print(tt)"
   ]
  },
  {
   "cell_type": "code",
   "execution_count": 31,
   "metadata": {},
   "outputs": [
    {
     "name": "stdout",
     "output_type": "stream",
     "text": [
      "Mon Aug 27 23:00:03 2018\n"
     ]
    }
   ],
   "source": [
    "# ctime(): 获取字符串化的当前时间\n",
    "t = time.ctime()\n",
    "print(t)"
   ]
  },
  {
   "cell_type": "code",
   "execution_count": 33,
   "metadata": {},
   "outputs": [
    {
     "name": "stdout",
     "output_type": "stream",
     "text": [
      "1535382130.0\n",
      "1535382130.6187088\n"
     ]
    }
   ],
   "source": [
    "# mktime() 使用时间元组获取对应的时间戳\n",
    "# 格式: time'.mktime(时间元组)\n",
    "# 返回值: 浮点数时间戳\n",
    "t = time.localtime()\n",
    "tt = time.mktime(t)\n",
    "print(tt)\n",
    "print(time.time())"
   ]
  },
  {
   "cell_type": "code",
   "execution_count": 34,
   "metadata": {},
   "outputs": [],
   "source": [
    "# clock: 获取cpu时间, 3.0 - 3.3 版本直接使用\n"
   ]
  },
  {
   "cell_type": "code",
   "execution_count": 37,
   "metadata": {},
   "outputs": [
    {
     "name": "stdout",
     "output_type": "stream",
     "text": [
      "0\n",
      "1\n",
      "2\n",
      "3\n",
      "4\n",
      "5\n",
      "6\n",
      "7\n",
      "8\n",
      "9\n"
     ]
    }
   ],
   "source": [
    "# sleep: 使 程序进入睡眠状态, n秒后继续\n",
    "for i in range(10):\n",
    "    print(i)\n",
    "    time.sleep(2)"
   ]
  },
  {
   "cell_type": "markdown",
   "metadata": {},
   "source": [
    "### strftime: 将时间元组转化为自定义的字符串格式\n",
    "\n",
    "    %y 两位数的年份表示（00-99）\n",
    "    %Y 四位数的年份表示（000-9999）\n",
    "    %m 月份（01-12）\n",
    "    %d 月内中的一天（0-31）\n",
    "    %H 24小时制小时数（0-23）\n",
    "    %I 12小时制小时数（01-12）\n",
    "    %M 分钟数（00=59）\n",
    "    %S 秒（00-59）\n",
    "    %a 本地简化星期名称\n",
    "    %A 本地完整星期名称\n",
    "    %b 本地简化的月份名称\n",
    "    %B 本地完整的月份名称\n",
    "    %c 本地相应的日期表示和时间表示\n",
    "    %j 年内的一天（001-366）\n",
    "    %p 本地A.M.或P.M.的等价符\n",
    "    %U 一年中的星期数（00-53）星期天为星期的开始\n",
    "    %w 星期（0-6），星期天为星期的开始\n",
    "    %W 一年中的星期数（00-53）星期一为星期的开始\n",
    "    %x 本地相应的日期表示\n",
    "    %X 本地相应的时间表示\n",
    "    %Z 当前时区的名称\n",
    "    %% %号本身\n",
    " \n",
    "\n",
    "   "
   ]
  },
  {
   "cell_type": "code",
   "execution_count": 45,
   "metadata": {},
   "outputs": [
    {
     "name": "stdout",
     "output_type": "stream",
     "text": [
      "2018 08.27  23:34:28\n"
     ]
    }
   ],
   "source": [
    "# 把时间 表示成 2018 3.26 23:19\n",
    "\n",
    "t = time.localtime()\n",
    "tl = time.strftime(\"%Y %m.%d  %H:%M:%S\",t)\n",
    "print(tl)"
   ]
  },
  {
   "cell_type": "markdown",
   "metadata": {},
   "source": [
    "## datetime 模块\n",
    "- datetime 提供日期和时间的运算和表示\n",
    "    - datetime.date(年, 月, 日)\n",
    "    - datetiem.tiem(小时, 分, 秒, 毫秒)\n",
    "    - datetime.datetime()提供日期和时间的组合\n",
    "    - datetime.timedelta: 提供一个时间差, 时间长度\n"
   ]
  },
  {
   "cell_type": "code",
   "execution_count": 47,
   "metadata": {},
   "outputs": [],
   "source": [
    "import datetime\n"
   ]
  },
  {
   "cell_type": "code",
   "execution_count": 48,
   "metadata": {},
   "outputs": [
    {
     "name": "stdout",
     "output_type": "stream",
     "text": [
      "2018-08-27\n",
      "2018\n",
      "8\n",
      "27\n"
     ]
    }
   ],
   "source": [
    "# datetime 常见属性\n",
    "# datetime.date: 一个理想和的日期, 提供year, month, day 属性\n",
    "d = datetime.date(2018, 8, 27)\n",
    "print(d)\n",
    "print(d.year)\n",
    "print(d.month)\n",
    "print(d.day)"
   ]
  },
  {
   "cell_type": "code",
   "execution_count": 52,
   "metadata": {},
   "outputs": [
    {
     "name": "stdout",
     "output_type": "stream",
     "text": [
      "2018-08-27 23:48:17.567970\n",
      "2018-08-27 23:48:17.567970\n",
      "2018-08-27 15:48:17.567970\n",
      "2018-08-27 23:48:17.568970\n"
     ]
    }
   ],
   "source": [
    "# datetime.datetime\n",
    "from datetime import datetime\n",
    "# 常用类方法\n",
    "# today() :\n",
    "# now() :\n",
    "# utcnow() :\n",
    "# fromtimestamp() : 从时间戳中返回 本地时间\n",
    "d = datetime(2018, 8, 26)\n",
    "print(d.today())\n",
    "print(d.now())\n",
    "print(d.utcnow())\n",
    "print(d.fromtimestamp(time.time()))"
   ]
  },
  {
   "cell_type": "code",
   "execution_count": 55,
   "metadata": {},
   "outputs": [
    {
     "name": "stdout",
     "output_type": "stream",
     "text": [
      "2018-08-08/27/18 23:56:29\n",
      "2018-08-08/28/18 01:56:29\n"
     ]
    }
   ],
   "source": [
    "# datetime.timedelta\n",
    "from datetime import datetime, timedelta\n",
    "t = datetime.now()\n",
    "print(t.strftime(\"%Y-%m-%D %H:%M:%S\"))\n",
    "td = timedelta(hours=2)\n",
    "print((t+td).strftime(\"%Y-%m-%D %H:%M:%S\"))"
   ]
  },
  {
   "cell_type": "markdown",
   "metadata": {},
   "source": [
    "## timeit  时间测量工具\n",
    "### 测量程序运行时间间隔实验\n"
   ]
  },
  {
   "cell_type": "code",
   "execution_count": 57,
   "metadata": {},
   "outputs": [
    {
     "name": "stdout",
     "output_type": "stream",
     "text": [
      "Help on function timeit in module timeit:\n",
      "\n",
      "timeit(stmt='pass', setup='pass', timer=<built-in function perf_counter>, number=1000000, globals=None)\n",
      "    Convenience function to create Timer object and call timeit method.\n",
      "\n"
     ]
    }
   ],
   "source": [
    "import  timeit\n",
    "help(timeit.timeit)"
   ]
  },
  {
   "cell_type": "code",
   "execution_count": 59,
   "metadata": {},
   "outputs": [
    {
     "name": "stdout",
     "output_type": "stream",
     "text": [
      "3.131756401619974\n",
      "7.768354254798375\n"
     ]
    }
   ],
   "source": [
    "# timeit 例子\n",
    "c = \"\"\"\n",
    "a = []\n",
    "for i in range(1000):\n",
    "    a.append(i)\n",
    "\"\"\"\n",
    "t1 = timeit.timeit(stmt=\"[i for i in range(1000)]\", number=100000)\n",
    "t2 = timeit.timeit(stmt=c, number=100000)\n",
    "print(t1)\n",
    "print(t2)"
   ]
  },
  {
   "cell_type": "markdown",
   "metadata": {},
   "source": [
    "## os 操作系统相关\n",
    "- 跟操作系统相关, 主要是文件操作\n",
    "- 于系统相关得操作, 主要包含在三个模块里\n",
    "    - os , 操作系统目录相关\n",
    "    - os.path, 系统路径相关操作\n",
    "    - shutil , 高级文件操作, 目录数得操作, 文件赋值,删除,移动\n",
    "- 路径:\n",
    "    - 绝对路径: 总是从根目录上开始\n",
    "    - 相对路径: 基本以当前环境为开始得一个相对得地方\n",
    "    "
   ]
  },
  {
   "cell_type": "markdown",
   "metadata": {},
   "source": [
    "###  os 模块"
   ]
  },
  {
   "cell_type": "code",
   "execution_count": 4,
   "metadata": {},
   "outputs": [
    {
     "name": "stdout",
     "output_type": "stream",
     "text": [
      "C:\\Users\\Administrator\\PycharmProjects\\sta_python\\sta_python\\note\n"
     ]
    }
   ],
   "source": [
    "import os\n",
    "# getcwd() 获取当前得工作目录\n",
    "# 格式: os.getcwd()\n",
    "# 返回值: 当前工作目录得字符串\n",
    "# 当前工作目录就是程序在进行文件相关操作, 默认查找文件得目录\n",
    "mydir = os.getcwd()\n",
    "print(mydir)"
   ]
  },
  {
   "cell_type": "code",
   "execution_count": 7,
   "metadata": {},
   "outputs": [
    {
     "name": "stdout",
     "output_type": "stream",
     "text": [
      "C:\\Users\\Administrator\\PycharmProjects\\sta_python\n"
     ]
    }
   ],
   "source": [
    "# chdir() 改变当前得工作目录\n",
    "# os.chdir(路径)\n",
    "# 返回值: 无\n",
    "os.chdir(\"C:/Users/Administrator/PycharmProjects/sta_python\")\n",
    "mydir = os.getcwd()\n",
    "print(mydir)"
   ]
  },
  {
   "cell_type": "code",
   "execution_count": 8,
   "metadata": {},
   "outputs": [
    {
     "name": "stdout",
     "output_type": "stream",
     "text": [
      "['.idea', 'sta_python', 'venv']\n"
     ]
    }
   ],
   "source": [
    "# listdir() 获取一个目录中所有子目录和文件得名称列表\n",
    "# 格式: os.listdir(路径)\n",
    "# 返回值: 所有目录和文件名称得列表\n",
    "ld = os.listdir()\n",
    "print(ld)"
   ]
  },
  {
   "cell_type": "code",
   "execution_count": 11,
   "metadata": {},
   "outputs": [
    {
     "name": "stdout",
     "output_type": "stream",
     "text": [
      "Help on function makedirs in module os:\n",
      "\n",
      "makedirs(name, mode=511, exist_ok=False)\n",
      "    makedirs(name [, mode=0o777][, exist_ok=False])\n",
      "    \n",
      "    Super-mkdir; create a leaf directory and all intermediate ones.  Works like\n",
      "    mkdir, except that any intermediate path segment (not just the rightmost)\n",
      "    will be created if it does not exist. If the target directory already\n",
      "    exists, raise an OSError if exist_ok is False. Otherwise no exception is\n",
      "    raised.  This is recursive.\n",
      "\n"
     ]
    }
   ],
   "source": [
    "# os.makedirs() 递归创建文件夹\n",
    "# 格式: os.makedirs(递递归路径)\n",
    "# 返回值: 无\n",
    "# 递归路径: 多个文件夹 层层包含得路径就是递归路径 例如a/b/c ... \n",
    "help(os.makedirs)"
   ]
  },
  {
   "cell_type": "code",
   "execution_count": 17,
   "metadata": {},
   "outputs": [
    {
     "name": "stdout",
     "output_type": "stream",
     "text": [
      "C:\\Users\\Administrator\\PycharmProjects\\sta_python\n",
      "['.idea', 'sta_python', 'test', 'test1', 'test2', 'venv']\n"
     ]
    }
   ],
   "source": [
    "rst = os.makedirs(\"test2\")\n",
    "print(os.getcwd())\n",
    "print(os.listdir())"
   ]
  },
  {
   "cell_type": "code",
   "execution_count": 18,
   "metadata": {},
   "outputs": [],
   "source": [
    "# system() 运行系统shell 命令\n",
    "# 格式: os.system(系统命令)\n",
    "# 返回值 : 打开shell 或者终端界面\n",
    "# 一般推荐使用subprocess 代替\n"
   ]
  },
  {
   "cell_type": "code",
   "execution_count": 19,
   "metadata": {},
   "outputs": [],
   "source": [
    "# geyenv() 获取指定得系统环境变量值\n",
    "# 格式: os.getenv(\"环境变量\")\n",
    "# 返回值: 指定环境变量名对应得值\n",
    "# putenv() \n"
   ]
  },
  {
   "cell_type": "code",
   "execution_count": 20,
   "metadata": {},
   "outputs": [],
   "source": [
    "# exit() 退出当前程序\n",
    "# 格式: exit()\n",
    "# 返回值: 无\n"
   ]
  },
  {
   "cell_type": "markdown",
   "metadata": {},
   "source": [
    "#  值部分\n",
    "- os.curdir: curretn dir, 当前目录\n",
    "- os.pardir: parent dir. 父亲目录\n",
    "- os.sep: 当前系统的路径分隔符\n",
    "       - windows: \"\\\"\n",
    "       - linux: \"/\"\n",
    "- os.linesep: 当前系统的路径分隔符\n",
    "       - windows: \"\\r\\n\"\n",
    "       - nuix, linux, mac os : \"\\n\"\n",
    "- os.name: 当前系统名称\n",
    "       - windows: nt\n",
    "       - mac, unix, linux : posix"
   ]
  },
  {
   "cell_type": "code",
   "execution_count": 22,
   "metadata": {},
   "outputs": [
    {
     "name": "stdout",
     "output_type": "stream",
     "text": [
      ".\n",
      "..\n"
     ]
    }
   ],
   "source": [
    "print(os.curdir)\n",
    "print(os.pardir)"
   ]
  },
  {
   "cell_type": "code",
   "execution_count": 23,
   "metadata": {},
   "outputs": [
    {
     "name": "stdout",
     "output_type": "stream",
     "text": [
      "\\\n"
     ]
    }
   ],
   "source": [
    "print(os.sep)"
   ]
  },
  {
   "cell_type": "code",
   "execution_count": 24,
   "metadata": {},
   "outputs": [
    {
     "name": "stdout",
     "output_type": "stream",
     "text": [
      "nt\n"
     ]
    }
   ],
   "source": [
    "print(os.name)"
   ]
  },
  {
   "cell_type": "markdown",
   "metadata": {},
   "source": [
    "## os.path 模块, 跟路径相关的模块\n",
    " - abspath() 将路径转化为觉得路径\n",
    " - abselute() 绝对\n",
    " \n",
    " - 格式: os.path.abspath(\"路径\")\n",
    " - 返回值: 路径的据对路径形式\n",
    " "
   ]
  },
  {
   "cell_type": "code",
   "execution_count": 25,
   "metadata": {},
   "outputs": [
    {
     "name": "stdout",
     "output_type": "stream",
     "text": [
      "C:\\Users\\Administrator\\PycharmProjects\\sta_python\n"
     ]
    }
   ],
   "source": [
    "import os.path as op\n",
    "absp = op.abspath(\".\")\n",
    "print(absp)"
   ]
  },
  {
   "cell_type": "code",
   "execution_count": 27,
   "metadata": {},
   "outputs": [
    {
     "name": "stdout",
     "output_type": "stream",
     "text": [
      "sta_python\n"
     ]
    }
   ],
   "source": [
    "# basename() 获取路径中的文件名部分\n",
    "# 格式: os.path.basename(路径)\n",
    "# 返回值: 文件名字符串\n",
    "bn = op.basename(\"C:\\\\Users\\Administrator\\PycharmProjects\\sta_python\")\n",
    "print(bn)"
   ]
  },
  {
   "cell_type": "code",
   "execution_count": 29,
   "metadata": {},
   "outputs": [
    {
     "name": "stdout",
     "output_type": "stream",
     "text": [
      "C:\\Users\\Administrator\\PycharmProjects\\sta_python\n"
     ]
    }
   ],
   "source": [
    "# join() 将多个路径拼合成一个路径\n",
    "# 格式: os.path.join(路径1, 路径2....)\n",
    "# 返回值: 组合之后的新路径字符串\n",
    "n = \"C:\\\\Users\\Administrator\\PycharmProjects\"\n",
    "c = \"sta_python\"\n",
    "p = op.join(n, c)\n",
    "print(p)"
   ]
  },
  {
   "cell_type": "code",
   "execution_count": 30,
   "metadata": {},
   "outputs": [],
   "source": [
    "# split() 将路径切割为文件夹备份和当前为文件部分\n",
    "# 格式: os.path.split(路径)\n",
    "# 返回值: 路径和文件名组成的元组\n"
   ]
  },
  {
   "cell_type": "markdown",
   "metadata": {},
   "source": [
    "#### isdir() 检测是否为目录\n",
    "\n",
    " - 格式: os.path.isdir(路径)\n",
    " - 返回值: 布尔值\n",
    " "
   ]
  },
  {
   "cell_type": "code",
   "execution_count": 32,
   "metadata": {},
   "outputs": [
    {
     "data": {
      "text/plain": [
       "True"
      ]
     },
     "execution_count": 32,
     "metadata": {},
     "output_type": "execute_result"
    }
   ],
   "source": [
    "rst = op.isdir(\"C:\\\\Users\\Administrator\\PycharmProjects\\sta_python\")\n",
    "rst"
   ]
  },
  {
   "cell_type": "markdown",
   "metadata": {},
   "source": [
    "#### exists() 检测文件或者目录是否存在\n",
    " - 格式: os.path.exists(路径)\n",
    " - 返回值: 布尔值\n",
    " "
   ]
  },
  {
   "cell_type": "code",
   "execution_count": 36,
   "metadata": {},
   "outputs": [
    {
     "data": {
      "text/plain": [
       "True"
      ]
     },
     "execution_count": 36,
     "metadata": {},
     "output_type": "execute_result"
    }
   ],
   "source": [
    "e = op.exists(\"C:\\\\Users\")\n",
    "e"
   ]
  },
  {
   "cell_type": "markdown",
   "metadata": {},
   "source": [
    "## shutil 模块\n",
    " - copy() : 复制文件\n",
    "     - 格式: shutil.copy(来源路径, 目标路径)\n",
    "     - 返回值: 返回目标路径\n",
    "     - 拷贝的同时可以给文件重命名\n",
    "\n",
    " - copy2(): 复制文件, 保留元数据(文件信息)\n",
    "     - 格式: shutil.copy2(来源路径, 目标路径)\n",
    "     - 返回值L:返回目标路径\n",
    "     - 注意: copy() 和copy2() 唯一的区别在于copy2 复制文件是尽量保留元数据\n",
    " - copyfile() 将一个文件中的内容复制到另外一个文件当中\n",
    "     - 格式: shutil.copyfile(\"源路径\", \"目标路径\")\n",
    "     - 返回值: 无\n",
    " - move(): 移动文件/ 文件夹\n",
    "     - 格式: shutil.move(\"源路径\", \"目标路径\")\n",
    "     - 返回值: 目标路径\n",
    "     \n",
    "### 归档和压缩\n",
    " - 归档: 把多个文件或者文件夹合并到一个文件当值\n",
    " \n",
    "     - make_archive() 归档操作\n",
    "     - 格式: make_archive(\"归档之后的目录和文件名\",\"后缀\", \"需要归档的文件夹\")\n",
    "     - 返回值: 归档后的地址\n",
    " - 压缩: 用算法把多个文件或者文件夹无损或者有损合并到一个文件当中\n",
    "     \n",
    "     - unpack_archive() 解包操作\n",
    "     - 格式: shutil.unpack_archive(\"归档文件地址\", \"解包后的地址\")\n",
    "     - 返回值: 解包后的地址"
   ]
  },
  {
   "cell_type": "code",
   "execution_count": null,
   "metadata": {},
   "outputs": [],
   "source": []
  },
  {
   "cell_type": "markdown",
   "metadata": {},
   "source": [
    "## zip 压缩包\n",
    " - 包名 叫 zipfile\n",
    " - zipfile.ZipFile(file[, mode[,compression[,allowzip64]]])\n",
    "     - 创建一个zipfile 对象, 表示一个自拍文件. 参数file 表示文件的路径或类文件对象\n",
    " - ZipFile.getinfo(name):\n",
    "     - 获取zip 文档内指定文件的信息, 返回一个zipfile.ZipInfo 对象, 他抱愧哦文件的详细信息.\n",
    " - ZipFile.namelist()\n",
    "     - 后去自拍文档内所有文件名称列表\n",
    " - zipfile.extractall([path[,memebers[,pwd]]])\n",
    "     - 解压zip文档中的所有文件到当前目录, 餐宿memebers 的默认值为zip文档内的所有文件名称列表"
   ]
  },
  {
   "cell_type": "markdown",
   "metadata": {},
   "source": [
    "# random\n",
    " - 随机数\n",
    " - 所有的随机模块都是伪随机\n",
    " "
   ]
  },
  {
   "cell_type": "code",
   "execution_count": 37,
   "metadata": {},
   "outputs": [
    {
     "name": "stdout",
     "output_type": "stream",
     "text": [
      "0.45931923049359225\n"
     ]
    }
   ],
   "source": [
    "import random\n",
    "# random() 后去0-1 自建的随机小鼠\n",
    "# 格式: random.random()\n",
    "# 返回值: 0-1 之间的小数\n",
    "print(random.random())"
   ]
  },
  {
   "cell_type": "code",
   "execution_count": 41,
   "metadata": {},
   "outputs": [
    {
     "name": "stdout",
     "output_type": "stream",
     "text": [
      "35\n"
     ]
    }
   ],
   "source": [
    "# choice() 随机返回序列中的某一个值\n",
    "# 格式: random.choice(序列)\n",
    "# 返回值: 序列中的某一个值\n",
    "l = [i for i in range(109)]\n",
    "print(random.choice(l))\n"
   ]
  },
  {
   "cell_type": "code",
   "execution_count": 44,
   "metadata": {},
   "outputs": [
    {
     "name": "stdout",
     "output_type": "stream",
     "text": [
      "[0, 1, 2, 3, 4, 5, 6, 7, 8, 9, 10, 11, 12, 13, 14, 15, 16, 17, 18, 19, 20, 21, 22, 23, 24, 25, 26, 27, 28, 29, 30, 31, 32, 33, 34, 35, 36, 37, 38, 39, 40, 41, 42, 43, 44, 45, 46, 47, 48, 49, 50, 51, 52, 53, 54, 55, 56, 57, 58, 59, 60, 61, 62, 63, 64, 65, 66, 67, 68, 69, 70, 71, 72, 73, 74, 75, 76, 77, 78, 79, 80, 81, 82, 83, 84, 85, 86, 87, 88, 89, 90, 91, 92, 93, 94, 95, 96, 97, 98, 99, 100, 101, 102, 103, 104, 105, 106, 107, 108]\n",
      "[28, 59, 61, 2, 90, 43, 102, 47, 65, 12, 88, 32, 22, 60, 5, 74, 101, 6, 8, 39, 56, 41, 18, 85, 37, 29, 79, 71, 42, 54, 78, 63, 7, 66, 58, 16, 76, 82, 93, 83, 105, 107, 81, 70, 53, 9, 1, 62, 86, 27, 55, 31, 94, 50, 20, 99, 13, 95, 89, 44, 91, 35, 57, 84, 52, 21, 97, 49, 108, 23, 75, 19, 33, 10, 87, 46, 67, 40, 15, 3, 17, 72, 38, 4, 36, 77, 25, 100, 106, 104, 45, 80, 14, 34, 92, 73, 51, 69, 30, 24, 26, 98, 48, 68, 0, 96, 11, 64, 103]\n"
     ]
    }
   ],
   "source": [
    "# shuffle() 随机打乱列表\n",
    "# 格式: random.shuffle(list)\n",
    "#返回值: None\n",
    "l = [i for i in range(109)]\n",
    "print(l)\n",
    "random.shuffle(l)\n",
    "print(l)"
   ]
  },
  {
   "cell_type": "code",
   "execution_count": 45,
   "metadata": {},
   "outputs": [
    {
     "name": "stdout",
     "output_type": "stream",
     "text": [
      "1\n"
     ]
    }
   ],
   "source": [
    "# randint(a,b) 返回a到b 直接按的整数 包含a和b\n",
    "print(random.randint(1, 2))"
   ]
  },
  {
   "cell_type": "markdown",
   "metadata": {},
   "source": [
    "# Log 模块资料\n",
    " - http://www.cnblogs.com/yyds/p/6901864.html\n",
    " "
   ]
  },
  {
   "cell_type": "code",
   "execution_count": null,
   "metadata": {},
   "outputs": [],
   "source": []
  }
 ],
 "metadata": {
  "kernelspec": {
   "display_name": "Python 3",
   "language": "python",
   "name": "python3"
  },
  "language_info": {
   "codemirror_mode": {
    "name": "ipython",
    "version": 3
   },
   "file_extension": ".py",
   "mimetype": "text/x-python",
   "name": "python",
   "nbconvert_exporter": "python",
   "pygments_lexer": "ipython3",
   "version": "3.6.4"
  }
 },
 "nbformat": 4,
 "nbformat_minor": 2
}
