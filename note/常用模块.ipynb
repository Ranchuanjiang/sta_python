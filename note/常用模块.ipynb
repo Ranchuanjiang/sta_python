{
 "cells": [
  {
   "cell_type": "markdown",
   "metadata": {},
   "source": [
    "# 常用包\n",
    " - calendar\n",
    " - time\n",
    " - datetime\n",
    " - timeit\n",
    " - os\n",
    " - shutil\n",
    " - zip\n",
    " - math\n",
    " - string\n",
    " - 上述所有模块使用理论应该先导入, string 事特例\n",
    " - calendar, time ,datetime 的区别 参考中文意思\n",
    " "
   ]
  },
  {
   "cell_type": "markdown",
   "metadata": {},
   "source": [
    "## calendar\n",
    "- 跟日历相关的模块\n"
   ]
  },
  {
   "cell_type": "code",
   "execution_count": 2,
   "metadata": {},
   "outputs": [
    {
     "name": "stdout",
     "output_type": "stream",
     "text": [
      "<class 'str'>\n"
     ]
    }
   ],
   "source": [
    "import calendar\n",
    "# calendar : 获取一年的日历字符串\n",
    "# 参数\n",
    "# w = 每一个日期直接按的间隔字符串\n",
    "# l = 每周所占用的行数\n",
    "# c = 每个月之间的间隔字符数\n",
    "cal = calendar.calendar(2018)\n",
    "print(type(cal))"
   ]
  },
  {
   "cell_type": "code",
   "execution_count": 4,
   "metadata": {},
   "outputs": [
    {
     "name": "stdout",
     "output_type": "stream",
     "text": [
      "                              2018\n",
      "\n",
      "      January               February               March\n",
      "Mo Tu We Th Fr Sa Su  Mo Tu We Th Fr Sa Su  Mo Tu We Th Fr Sa Su\n",
      " 1  2  3  4  5  6  7            1  2  3  4            1  2  3  4\n",
      " 8  9 10 11 12 13 14   5  6  7  8  9 10 11   5  6  7  8  9 10 11\n",
      "15 16 17 18 19 20 21  12 13 14 15 16 17 18  12 13 14 15 16 17 18\n",
      "22 23 24 25 26 27 28  19 20 21 22 23 24 25  19 20 21 22 23 24 25\n",
      "29 30 31              26 27 28              26 27 28 29 30 31\n",
      "\n",
      "       April                  May                   June\n",
      "Mo Tu We Th Fr Sa Su  Mo Tu We Th Fr Sa Su  Mo Tu We Th Fr Sa Su\n",
      "                   1      1  2  3  4  5  6               1  2  3\n",
      " 2  3  4  5  6  7  8   7  8  9 10 11 12 13   4  5  6  7  8  9 10\n",
      " 9 10 11 12 13 14 15  14 15 16 17 18 19 20  11 12 13 14 15 16 17\n",
      "16 17 18 19 20 21 22  21 22 23 24 25 26 27  18 19 20 21 22 23 24\n",
      "23 24 25 26 27 28 29  28 29 30 31           25 26 27 28 29 30\n",
      "30\n",
      "\n",
      "        July                 August              September\n",
      "Mo Tu We Th Fr Sa Su  Mo Tu We Th Fr Sa Su  Mo Tu We Th Fr Sa Su\n",
      "                   1         1  2  3  4  5                  1  2\n",
      " 2  3  4  5  6  7  8   6  7  8  9 10 11 12   3  4  5  6  7  8  9\n",
      " 9 10 11 12 13 14 15  13 14 15 16 17 18 19  10 11 12 13 14 15 16\n",
      "16 17 18 19 20 21 22  20 21 22 23 24 25 26  17 18 19 20 21 22 23\n",
      "23 24 25 26 27 28 29  27 28 29 30 31        24 25 26 27 28 29 30\n",
      "30 31\n",
      "\n",
      "      October               November              December\n",
      "Mo Tu We Th Fr Sa Su  Mo Tu We Th Fr Sa Su  Mo Tu We Th Fr Sa Su\n",
      " 1  2  3  4  5  6  7            1  2  3  4                  1  2\n",
      " 8  9 10 11 12 13 14   5  6  7  8  9 10 11   3  4  5  6  7  8  9\n",
      "15 16 17 18 19 20 21  12 13 14 15 16 17 18  10 11 12 13 14 15 16\n",
      "22 23 24 25 26 27 28  19 20 21 22 23 24 25  17 18 19 20 21 22 23\n",
      "29 30 31              26 27 28 29 30        24 25 26 27 28 29 30\n",
      "                                            31\n",
      "\n"
     ]
    }
   ],
   "source": [
    "cal = calendar.calendar(2018, w=0,l=0, c=0)\n",
    "print(cal)"
   ]
  },
  {
   "cell_type": "code",
   "execution_count": 7,
   "metadata": {},
   "outputs": [
    {
     "data": {
      "text/plain": [
       "True"
      ]
     },
     "execution_count": 7,
     "metadata": {},
     "output_type": "execute_result"
    }
   ],
   "source": [
    "# isleap: 判断摩尹爱你是否为闰年\n",
    "calendar.isleap(2000)"
   ]
  },
  {
   "cell_type": "code",
   "execution_count": 10,
   "metadata": {},
   "outputs": [
    {
     "data": {
      "text/plain": [
       "4"
      ]
     },
     "execution_count": 10,
     "metadata": {},
     "output_type": "execute_result"
    }
   ],
   "source": [
    "# leapdays : 获取指定年份直接按闰年的个数\n",
    "calendar.leapdays(2001,2018)"
   ]
  },
  {
   "cell_type": "code",
   "execution_count": 11,
   "metadata": {},
   "outputs": [
    {
     "name": "stdout",
     "output_type": "stream",
     "text": [
      "    August 2018\n",
      "Mo Tu We Th Fr Sa Su\n",
      "       1  2  3  4  5\n",
      " 6  7  8  9 10 11 12\n",
      "13 14 15 16 17 18 19\n",
      "20 21 22 23 24 25 26\n",
      "27 28 29 30 31\n",
      "\n"
     ]
    }
   ],
   "source": [
    "# month() 获取莫格月的日历字符串\n",
    "# 格式:calendar.minder(年, 月)\n",
    "# 回值: 月日历的字符串\n",
    "m8 = calendar.month(2018, 8)\n",
    "print(m8)"
   ]
  },
  {
   "cell_type": "code",
   "execution_count": 13,
   "metadata": {},
   "outputs": [
    {
     "name": "stdout",
     "output_type": "stream",
     "text": [
      "2\n",
      "31\n"
     ]
    }
   ],
   "source": [
    "# monthrrange() 获取一个月的周几开始即和天数\n",
    "# 格式: calendar.monthrange(年, 月)\n",
    "# 回值: 元组(周几开始, 总天数)\n",
    "# 注意: 周默认 0 - 6 表示周1 到周 日\n",
    "w, t = calendar.monthrange(2018, 8)\n",
    "print(w)\n",
    "print(t)"
   ]
  },
  {
   "cell_type": "code",
   "execution_count": 14,
   "metadata": {},
   "outputs": [
    {
     "name": "stdout",
     "output_type": "stream",
     "text": [
      "[[0, 0, 1, 2, 3, 4, 5], [6, 7, 8, 9, 10, 11, 12], [13, 14, 15, 16, 17, 18, 19], [20, 21, 22, 23, 24, 25, 26], [27, 28, 29, 30, 31, 0, 0]]\n",
      "<class 'list'>\n"
     ]
    }
   ],
   "source": [
    "# monthcalendar() 返回一个月每天的矩阵列表\n",
    "# 格式: calendar.monthcalendar(年, 月)\n",
    "# 回值: 二级列表\n",
    "# 注意: 矩阵中没有天数用0 表示\n",
    "m = calendar.monthcalendar(2018, 8)\n",
    "print(m)\n",
    "print(type(m))"
   ]
  },
  {
   "cell_type": "code",
   "execution_count": 15,
   "metadata": {},
   "outputs": [
    {
     "name": "stdout",
     "output_type": "stream",
     "text": [
      "                                  2018\n",
      "\n",
      "      January                   February                   March\n",
      "Mo Tu We Th Fr Sa Su      Mo Tu We Th Fr Sa Su      Mo Tu We Th Fr Sa Su\n",
      " 1  2  3  4  5  6  7                1  2  3  4                1  2  3  4\n",
      " 8  9 10 11 12 13 14       5  6  7  8  9 10 11       5  6  7  8  9 10 11\n",
      "15 16 17 18 19 20 21      12 13 14 15 16 17 18      12 13 14 15 16 17 18\n",
      "22 23 24 25 26 27 28      19 20 21 22 23 24 25      19 20 21 22 23 24 25\n",
      "29 30 31                  26 27 28                  26 27 28 29 30 31\n",
      "\n",
      "       April                      May                       June\n",
      "Mo Tu We Th Fr Sa Su      Mo Tu We Th Fr Sa Su      Mo Tu We Th Fr Sa Su\n",
      "                   1          1  2  3  4  5  6                   1  2  3\n",
      " 2  3  4  5  6  7  8       7  8  9 10 11 12 13       4  5  6  7  8  9 10\n",
      " 9 10 11 12 13 14 15      14 15 16 17 18 19 20      11 12 13 14 15 16 17\n",
      "16 17 18 19 20 21 22      21 22 23 24 25 26 27      18 19 20 21 22 23 24\n",
      "23 24 25 26 27 28 29      28 29 30 31               25 26 27 28 29 30\n",
      "30\n",
      "\n",
      "        July                     August                  September\n",
      "Mo Tu We Th Fr Sa Su      Mo Tu We Th Fr Sa Su      Mo Tu We Th Fr Sa Su\n",
      "                   1             1  2  3  4  5                      1  2\n",
      " 2  3  4  5  6  7  8       6  7  8  9 10 11 12       3  4  5  6  7  8  9\n",
      " 9 10 11 12 13 14 15      13 14 15 16 17 18 19      10 11 12 13 14 15 16\n",
      "16 17 18 19 20 21 22      20 21 22 23 24 25 26      17 18 19 20 21 22 23\n",
      "23 24 25 26 27 28 29      27 28 29 30 31            24 25 26 27 28 29 30\n",
      "30 31\n",
      "\n",
      "      October                   November                  December\n",
      "Mo Tu We Th Fr Sa Su      Mo Tu We Th Fr Sa Su      Mo Tu We Th Fr Sa Su\n",
      " 1  2  3  4  5  6  7                1  2  3  4                      1  2\n",
      " 8  9 10 11 12 13 14       5  6  7  8  9 10 11       3  4  5  6  7  8  9\n",
      "15 16 17 18 19 20 21      12 13 14 15 16 17 18      10 11 12 13 14 15 16\n",
      "22 23 24 25 26 27 28      19 20 21 22 23 24 25      17 18 19 20 21 22 23\n",
      "29 30 31                  26 27 28 29 30            24 25 26 27 28 29 30\n",
      "                                                    31\n",
      "\n"
     ]
    }
   ],
   "source": [
    "# prcal: 直接打印日历\n",
    "calendar.prcal(2018)"
   ]
  },
  {
   "cell_type": "code",
   "execution_count": 16,
   "metadata": {},
   "outputs": [
    {
     "name": "stdout",
     "output_type": "stream",
     "text": [
      "    August 2018\n",
      "Mo Tu We Th Fr Sa Su\n",
      "       1  2  3  4  5\n",
      " 6  7  8  9 10 11 12\n",
      "13 14 15 16 17 18 19\n",
      "20 21 22 23 24 25 26\n",
      "27 28 29 30 31\n"
     ]
    }
   ],
   "source": [
    "# prmonth() 打印月\n",
    "# 格式: calendar.prmonth(年. 月)\n",
    "# 返回值: 无\n",
    "calendar.prmonth(2018, 8)"
   ]
  },
  {
   "cell_type": "code",
   "execution_count": 19,
   "metadata": {},
   "outputs": [
    {
     "name": "stdout",
     "output_type": "stream",
     "text": [
      "0\n"
     ]
    }
   ],
   "source": [
    "# weekday() 获取周几\n",
    "# 格式 calendar.weekday(年, 月, 日)\n",
    "# 返回值: 对应的周几 0 - 6 对应 周1 到周日\n",
    "m = calendar.weekday(2018, 8, 27)\n",
    "print(m)"
   ]
  },
  {
   "cell_type": "markdown",
   "metadata": {},
   "source": [
    "## time 模块\n",
    "### 时间戳\n",
    "    - 一个时间表示, 根据不同语言, 可以事整数或者浮点数\n",
    "    - 是从1970年1月1日 0时0分0秒到 现在经历的秒数\n",
    "    - 如果表示的时间时1970年以前或者太遥远的未来,可能会出现异常\n",
    "    - 32位操作系统能够支持到2038年\n",
    "\n",
    "### UTC时间\n",
    "    - UTC又称为世界协调时间, 以英国的格林尼治天文所在地区的时间作为参考的时间, 也叫做世界标准时间\n",
    "    - 中国时间时 UTC+8 东八区\n",
    "    \n",
    "### 夏令时\n",
    "    - 夏令时就是在夏天的时候将时间调快一小时,本意时督促大家早睡早起省蜡烛,每天变成25小时.本质每百年还是24小时\n",
    "\n",
    "### 时间元组\n",
    "    - 一个包含使劲按内容的普通元组\n",
    "    \n",
    "         索引    内容    属性       值\n",
    "         0      年     tm_year    2018\n",
    "         1      月     tm_month    1~ 12\n",
    "         2      日     tm_day     1 ~ 31\n",
    "         3      时     tm_hour    0 ~ 23\n",
    "         4      分     tm_min    0 ~ 59\n",
    "         5      秒     tm_src    0 ~ 61 60表示闰秒 61 保留值\n",
    "         6      周几    tm_wday   0 ~ 6\n",
    "         7     第几天   tm_yday   0 ~ 366\n",
    "         8     夏令时   tm_isdst  0, 1, -1 (表示夏令时)"
   ]
  },
  {
   "cell_type": "code",
   "execution_count": 20,
   "metadata": {},
   "outputs": [],
   "source": [
    "# 需要单独导入\n",
    "import time\n"
   ]
  },
  {
   "cell_type": "code",
   "execution_count": 23,
   "metadata": {},
   "outputs": [
    {
     "name": "stdout",
     "output_type": "stream",
     "text": [
      "-28800\n",
      "-32400\n",
      "0\n"
     ]
    }
   ],
   "source": [
    "# 时间模块属性\n",
    "# timezone: 当前失去和UTC时区相差得秒数,在没有夏令时得情况下得间隔,东八区得时-28800\n",
    "# altzone: 获取当前时区与UTC时间相差的秒数,在夏令时的情况下.\n",
    "# daylight: 检测当前是否时夏令时 时间状态, 0 表示不是 1 表示 是\n",
    "\n",
    "print(time.timezone)\n",
    "print(time.altzone)\n",
    "print(time.daylight)"
   ]
  },
  {
   "cell_type": "code",
   "execution_count": 24,
   "metadata": {},
   "outputs": [
    {
     "data": {
      "text/plain": [
       "1535381628.6430707"
      ]
     },
     "execution_count": 24,
     "metadata": {},
     "output_type": "execute_result"
    }
   ],
   "source": [
    "# time() : 得到一个时间戳\n",
    "time.time()"
   ]
  },
  {
   "cell_type": "code",
   "execution_count": 25,
   "metadata": {},
   "outputs": [
    {
     "data": {
      "text/plain": [
       "time.struct_time(tm_year=2018, tm_mon=8, tm_mday=27, tm_hour=22, tm_min=54, tm_sec=45, tm_wday=0, tm_yday=239, tm_isdst=0)"
      ]
     },
     "execution_count": 25,
     "metadata": {},
     "output_type": "execute_result"
    }
   ],
   "source": [
    "# time.localtime(): 得到当前时间的时间结构\n",
    "# 可以通过点号操作得到相应的属性元素内容\n",
    "\n",
    "time.localtime()"
   ]
  },
  {
   "cell_type": "code",
   "execution_count": 27,
   "metadata": {},
   "outputs": [
    {
     "name": "stdout",
     "output_type": "stream",
     "text": [
      "<class 'str'>\n",
      "Mon Aug 27 22:58:40 2018\n"
     ]
    }
   ],
   "source": [
    "# asctime(): 返回元组的正常字符串话之后的时间结构\n",
    "# 格式L:time.asctime(时间元组)\n",
    "# 返回值: 字符串\n",
    "t = time.localtime()\n",
    "tt = time.asctime(t)\n",
    "print(type(tt))\n",
    "print(tt)"
   ]
  },
  {
   "cell_type": "code",
   "execution_count": 31,
   "metadata": {},
   "outputs": [
    {
     "name": "stdout",
     "output_type": "stream",
     "text": [
      "Mon Aug 27 23:00:03 2018\n"
     ]
    }
   ],
   "source": [
    "# ctime(): 获取字符串化的当前时间\n",
    "t = time.ctime()\n",
    "print(t)"
   ]
  },
  {
   "cell_type": "code",
   "execution_count": 33,
   "metadata": {},
   "outputs": [
    {
     "name": "stdout",
     "output_type": "stream",
     "text": [
      "1535382130.0\n",
      "1535382130.6187088\n"
     ]
    }
   ],
   "source": [
    "# mktime() 使用时间元组获取对应的时间戳\n",
    "# 格式: time'.mktime(时间元组)\n",
    "# 返回值: 浮点数时间戳\n",
    "t = time.localtime()\n",
    "tt = time.mktime(t)\n",
    "print(tt)\n",
    "print(time.time())"
   ]
  },
  {
   "cell_type": "code",
   "execution_count": 34,
   "metadata": {},
   "outputs": [],
   "source": [
    "# clock: 获取cpu时间, 3.0 - 3.3 版本直接使用\n"
   ]
  },
  {
   "cell_type": "code",
   "execution_count": 37,
   "metadata": {},
   "outputs": [
    {
     "name": "stdout",
     "output_type": "stream",
     "text": [
      "0\n",
      "1\n",
      "2\n",
      "3\n",
      "4\n",
      "5\n",
      "6\n",
      "7\n",
      "8\n",
      "9\n"
     ]
    }
   ],
   "source": [
    "# sleep: 使 程序进入睡眠状态, n秒后继续\n",
    "for i in range(10):\n",
    "    print(i)\n",
    "    time.sleep(2)"
   ]
  },
  {
   "cell_type": "markdown",
   "metadata": {},
   "source": [
    "### strftime: 将时间元组转化为自定义的字符串格式\n",
    "\n",
    "    %y 两位数的年份表示（00-99）\n",
    "    %Y 四位数的年份表示（000-9999）\n",
    "    %m 月份（01-12）\n",
    "    %d 月内中的一天（0-31）\n",
    "    %H 24小时制小时数（0-23）\n",
    "    %I 12小时制小时数（01-12）\n",
    "    %M 分钟数（00=59）\n",
    "    %S 秒（00-59）\n",
    "    %a 本地简化星期名称\n",
    "    %A 本地完整星期名称\n",
    "    %b 本地简化的月份名称\n",
    "    %B 本地完整的月份名称\n",
    "    %c 本地相应的日期表示和时间表示\n",
    "    %j 年内的一天（001-366）\n",
    "    %p 本地A.M.或P.M.的等价符\n",
    "    %U 一年中的星期数（00-53）星期天为星期的开始\n",
    "    %w 星期（0-6），星期天为星期的开始\n",
    "    %W 一年中的星期数（00-53）星期一为星期的开始\n",
    "    %x 本地相应的日期表示\n",
    "    %X 本地相应的时间表示\n",
    "    %Z 当前时区的名称\n",
    "    %% %号本身\n",
    " \n",
    "\n",
    "   "
   ]
  },
  {
   "cell_type": "code",
   "execution_count": 45,
   "metadata": {},
   "outputs": [
    {
     "name": "stdout",
     "output_type": "stream",
     "text": [
      "2018 08.27  23:34:28\n"
     ]
    }
   ],
   "source": [
    "# 把时间 表示成 2018 3.26 23:19\n",
    "\n",
    "t = time.localtime()\n",
    "tl = time.strftime(\"%Y %m.%d  %H:%M:%S\",t)\n",
    "print(tl)"
   ]
  },
  {
   "cell_type": "markdown",
   "metadata": {},
   "source": [
    "## datetime 模块\n",
    "- datetime 提供日期和时间的运算和表示\n",
    "    - datetime.date(年, 月, 日)\n",
    "    - datetiem.tiem(小时, 分, 秒, 毫秒)\n",
    "    - datetime.datetime()提供日期和时间的组合\n",
    "    - datetime.timedelta: 提供一个时间差, 时间长度\n"
   ]
  },
  {
   "cell_type": "code",
   "execution_count": 47,
   "metadata": {},
   "outputs": [],
   "source": [
    "import datetime\n"
   ]
  },
  {
   "cell_type": "code",
   "execution_count": 48,
   "metadata": {},
   "outputs": [
    {
     "name": "stdout",
     "output_type": "stream",
     "text": [
      "2018-08-27\n",
      "2018\n",
      "8\n",
      "27\n"
     ]
    }
   ],
   "source": [
    "# datetime 常见属性\n",
    "# datetime.date: 一个理想和的日期, 提供year, month, day 属性\n",
    "d = datetime.date(2018, 8, 27)\n",
    "print(d)\n",
    "print(d.year)\n",
    "print(d.month)\n",
    "print(d.day)"
   ]
  },
  {
   "cell_type": "code",
   "execution_count": 52,
   "metadata": {},
   "outputs": [
    {
     "name": "stdout",
     "output_type": "stream",
     "text": [
      "2018-08-27 23:48:17.567970\n",
      "2018-08-27 23:48:17.567970\n",
      "2018-08-27 15:48:17.567970\n",
      "2018-08-27 23:48:17.568970\n"
     ]
    }
   ],
   "source": [
    "# datetime.datetime\n",
    "from datetime import datetime\n",
    "# 常用类方法\n",
    "# today() :\n",
    "# now() :\n",
    "# utcnow() :\n",
    "# fromtimestamp() : 从时间戳中返回 本地时间\n",
    "d = datetime(2018, 8, 26)\n",
    "print(d.today())\n",
    "print(d.now())\n",
    "print(d.utcnow())\n",
    "print(d.fromtimestamp(time.time()))"
   ]
  },
  {
   "cell_type": "code",
   "execution_count": 55,
   "metadata": {},
   "outputs": [
    {
     "name": "stdout",
     "output_type": "stream",
     "text": [
      "2018-08-08/27/18 23:56:29\n",
      "2018-08-08/28/18 01:56:29\n"
     ]
    }
   ],
   "source": [
    "# datetime.timedelta\n",
    "from datetime import datetime, timedelta\n",
    "t = datetime.now()\n",
    "print(t.strftime(\"%Y-%m-%D %H:%M:%S\"))\n",
    "td = timedelta(hours=2)\n",
    "print((t+td).strftime(\"%Y-%m-%D %H:%M:%S\"))"
   ]
  },
  {
   "cell_type": "markdown",
   "metadata": {},
   "source": [
    "## timeit  时间测量工具\n",
    "### 测量程序运行时间间隔实验\n"
   ]
  },
  {
   "cell_type": "code",
   "execution_count": 57,
   "metadata": {},
   "outputs": [
    {
     "name": "stdout",
     "output_type": "stream",
     "text": [
      "Help on function timeit in module timeit:\n",
      "\n",
      "timeit(stmt='pass', setup='pass', timer=<built-in function perf_counter>, number=1000000, globals=None)\n",
      "    Convenience function to create Timer object and call timeit method.\n",
      "\n"
     ]
    }
   ],
   "source": [
    "import  timeit\n",
    "help(timeit.timeit)"
   ]
  },
  {
   "cell_type": "code",
   "execution_count": 59,
   "metadata": {},
   "outputs": [
    {
     "name": "stdout",
     "output_type": "stream",
     "text": [
      "3.131756401619974\n",
      "7.768354254798375\n"
     ]
    }
   ],
   "source": [
    "# timeit 例子\n",
    "c = \"\"\"\n",
    "a = []\n",
    "for i in range(1000):\n",
    "    a.append(i)\n",
    "\"\"\"\n",
    "t1 = timeit.timeit(stmt=\"[i for i in range(1000)]\", number=100000)\n",
    "t2 = timeit.timeit(stmt=c, number=100000)\n",
    "print(t1)\n",
    "print(t2)"
   ]
  },
  {
   "cell_type": "code",
   "execution_count": null,
   "metadata": {},
   "outputs": [],
   "source": []
  }
 ],
 "metadata": {
  "kernelspec": {
   "display_name": "Python 3",
   "language": "python",
   "name": "python3"
  },
  "language_info": {
   "codemirror_mode": {
    "name": "ipython",
    "version": 3
   },
   "file_extension": ".py",
   "mimetype": "text/x-python",
   "name": "python",
   "nbconvert_exporter": "python",
   "pygments_lexer": "ipython3",
   "version": "3.6.4"
  }
 },
 "nbformat": 4,
 "nbformat_minor": 2
}
