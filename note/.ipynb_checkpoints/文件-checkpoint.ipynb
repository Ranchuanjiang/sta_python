{
 "cells": [
  {
   "cell_type": "markdown",
   "metadata": {},
   "source": [
    "# 文件\n",
    " - 长久保存信息的一种数据信息集合\n",
    " - 常用操作\n",
    "     - 打开 关闭(文件一旦打开,需要关闭操作)\n",
    "     - 读写内容\n",
    "     - 查找\n",
    "## open 函数\n",
    " - open 函数赋负责打开文件, 带有很多参数.\n",
    " - 第一个参数: 必须有, 文件的路径和名称\n",
    " - mode: 表明文件用什么方式打开\n",
    "     - r: 以只读方式\n",
    "     - w: 写方式打开, 会覆盖以前的内容\n",
    "     - x: 创建方式打开,如文件已经存在, 报错\n",
    "     - a: append 方式, 一追加的方式对文件内容进行写入\n",
    "     - b: binary 方式, 二进制方式写入\n",
    "     - t: 文本方式打开\n",
    "     - +: 可读写\n",
    "     "
   ]
  },
  {
   "cell_type": "code",
   "execution_count": 1,
   "metadata": {},
   "outputs": [],
   "source": [
    "# 打开文件用写的方式\n",
    "# f 称之为文件句柄\n",
    "# r 表示后面的字符串内容不需要转义\n",
    "f = open(r\"test1.txt\",'w')\n",
    "# 文件打开后必须关闭\n",
    "f.close()\n",
    "# 此案例说明, 以写方式打开文件,默认时如果没有文件, 则创建\n"
   ]
  },
  {
   "cell_type": "markdown",
   "metadata": {},
   "source": [
    "## with 语句\n",
    " - with 语句使用的技术时一种成为 上下文管理协议的技术\n",
    " - 自动判断文件的作用域,自动关闭不在使用的文件句柄"
   ]
  },
  {
   "cell_type": "code",
   "execution_count": 3,
   "metadata": {},
   "outputs": [],
   "source": [
    "# with 案例\n",
    "with open(r\"test1.txt\", \"r\") as f:\n",
    "    pass\n",
    "# 下面的语句块开始对文件f 进行操作\n",
    "# 在本模块中不需要在使用close 关闭文件f\n"
   ]
  },
  {
   "cell_type": "code",
   "execution_count": 41,
   "metadata": {},
   "outputs": [
    {
     "name": "stdout",
     "output_type": "stream",
     "text": [
      "﻿巴黎警官西尔万(弗兰克·盖思堂彼得 饰)因执行任务的方式过于激进,被调任马赛 社区警局。赴任第一天,便遇到意大利超跑帮抢劫珠宝,劫匪驾驶着法拉利风驰电 掣,让西尔万和“各怀绝技”的警员们“望尘莫及”、出尽洋相。正当西尔万一筹 莫展之际,他结识了憨厚莽撞的出租车司机埃迪(马利克·班泽拉 饰)。两人毫无默 契,却要合力抓捕疑犯,一场状况频出、笑料横行的猫鼠游戏即刻展开......\n"
     ]
    }
   ],
   "source": [
    "with open(r\"test1.txt\", \"rb\") as f:\n",
    "    strline = f.readline().decode(\"utf-8\")\n",
    "    while strline:\n",
    "        print(strline)\n",
    "        strline = f.readline()\n",
    "\n",
    "        "
   ]
  },
  {
   "cell_type": "code",
   "execution_count": 47,
   "metadata": {},
   "outputs": [
    {
     "name": "stdout",
     "output_type": "stream",
     "text": [
      "<class 'str'>\n",
      "﻿巴\n"
     ]
    }
   ],
   "source": [
    "# read 是按照字符读取文件内容\n",
    "# 允许输入参数,决定读取几个字符, 如果没有制定,从当前位置读取到结尾\n",
    "# 否则, 从当前位置读取指定个数字符\n",
    "with open(r\"test1.txt\", \"rb\") as  f1:\n",
    "    str_Char = f1.read(6).decode(\"utf-8\")\n",
    "    print(type(str_Char))\n",
    "\n",
    "    print(str_Char)"
   ]
  },
  {
   "cell_type": "markdown",
   "metadata": {},
   "source": [
    "## seek (offset, from)\n",
    "- 移动文件的读取位置, 也叫读取指针\n",
    "- from 的取值范围\n",
    "    - 0: 从文件头开始偏移\n",
    "    - 1: 从文件当前位置开始偏移\n",
    "    - 2: 从文件末尾开始便宜\n",
    "- 移动的单位是字节(byte)\n",
    "- 一个汉字有若干个字节构成\n",
    "- 返回文件只正对当前位置\n"
   ]
  },
  {
   "cell_type": "code",
   "execution_count": 51,
   "metadata": {},
   "outputs": [
    {
     "name": "stdout",
     "output_type": "stream",
     "text": [
      "黎警官西尔万(弗兰克·盖思堂彼得 饰)因执行任务的方式过于激进,被调任马赛 社区警局。赴任第一天,便遇到意大利超跑帮抢劫珠宝,劫匪驾驶着法拉利风驰电 掣,让西尔万和“各怀绝技”的警员们“望尘莫及”、出尽洋相。正当西尔万一筹 莫展之际,他结识了憨厚莽撞的出租车司机埃迪(马利克·班泽拉 饰)。两人毫无默 契,却要合力抓捕疑犯,一场状况频出、笑料横行的猫鼠游戏即刻展开......\n"
     ]
    }
   ],
   "source": [
    "# seek 案例\n",
    "# 打开文件后, 从第五个字节开始读取\n",
    "with open(r\"test1.txt\", \"rb\") as  f1:\n",
    "    f1.seek(6, 0)\n",
    "    str_char = f1.read().decode(\"utf-8\")\n",
    "    print(str_char)"
   ]
  },
  {
   "cell_type": "markdown",
   "metadata": {},
   "source": [
    "## tell 函数: 用来显示文件读取指针当前位置"
   ]
  },
  {
   "cell_type": "code",
   "execution_count": 52,
   "metadata": {},
   "outputs": [
    {
     "name": "stdout",
     "output_type": "stream",
     "text": [
      "18\n",
      "﻿巴黎警官西\n",
      "36\n",
      "尔万(弗兰克·\n"
     ]
    },
    {
     "ename": "UnicodeDecodeError",
     "evalue": "'utf-8' codec can't decode bytes in position 16-17: unexpected end of data",
     "output_type": "error",
     "traceback": [
      "\u001b[1;31m---------------------------------------------------------------------------\u001b[0m",
      "\u001b[1;31mUnicodeDecodeError\u001b[0m                        Traceback (most recent call last)",
      "\u001b[1;32m<ipython-input-52-ec0fc0a723b6>\u001b[0m in \u001b[0;36m<module>\u001b[1;34m()\u001b[0m\n\u001b[0;32m      5\u001b[0m         \u001b[0mprint\u001b[0m\u001b[1;33m(\u001b[0m\u001b[0mpos\u001b[0m\u001b[1;33m)\u001b[0m\u001b[1;33m\u001b[0m\u001b[0m\n\u001b[0;32m      6\u001b[0m         \u001b[0mprint\u001b[0m\u001b[1;33m(\u001b[0m\u001b[0mstr_Char\u001b[0m\u001b[1;33m)\u001b[0m\u001b[1;33m\u001b[0m\u001b[0m\n\u001b[1;32m----> 7\u001b[1;33m         \u001b[0mstr_Char\u001b[0m \u001b[1;33m=\u001b[0m \u001b[0mf1\u001b[0m\u001b[1;33m.\u001b[0m\u001b[0mread\u001b[0m\u001b[1;33m(\u001b[0m\u001b[1;36m18\u001b[0m\u001b[1;33m)\u001b[0m\u001b[1;33m.\u001b[0m\u001b[0mdecode\u001b[0m\u001b[1;33m(\u001b[0m\u001b[1;34m\"utf-8\"\u001b[0m\u001b[1;33m)\u001b[0m\u001b[1;33m\u001b[0m\u001b[0m\n\u001b[0m\u001b[0;32m      8\u001b[0m         \u001b[0mpos\u001b[0m \u001b[1;33m=\u001b[0m \u001b[0mf1\u001b[0m\u001b[1;33m.\u001b[0m\u001b[0mtell\u001b[0m\u001b[1;33m(\u001b[0m\u001b[1;33m)\u001b[0m\u001b[1;33m\u001b[0m\u001b[0m\n",
      "\u001b[1;31mUnicodeDecodeError\u001b[0m: 'utf-8' codec can't decode bytes in position 16-17: unexpected end of data"
     ]
    }
   ],
   "source": [
    "with open(r\"test1.txt\", \"rb\") as  f1:\n",
    "    str_Char = f1.read(18).decode(\"utf-8\")\n",
    "    pos =  f1.tell()\n",
    "    while str_Char:\n",
    "        print(pos)\n",
    "        print(str_Char)\n",
    "        str_Char = f1.read(18).decode(\"utf-8\")\n",
    "        pos = f1.tell()"
   ]
  },
  {
   "cell_type": "markdown",
   "metadata": {},
   "source": [
    "### 文件的写操作:- write\n",
    "- write(str): 把字符串写到文件里\n",
    "- writelines(str): 吧字符串按行写入文件\n",
    "- 区别:\n",
    "    - write 函数 参数只能是字符串\n",
    "    - writelines 函数,可以是字符串, 也可以是字符序列\n",
    " \n",
    "    "
   ]
  },
  {
   "cell_type": "code",
   "execution_count": 59,
   "metadata": {},
   "outputs": [],
   "source": [
    "# 案例\n",
    "# 1. 向文件追加一句\n",
    "with open(r\"test1.txt\", \"a\", encoding=\"utf-8\") as  f1:\n",
    "    f1.write(\"生活不止眼前的苟且,\\n还有诗和远方\")"
   ]
  },
  {
   "cell_type": "code",
   "execution_count": 62,
   "metadata": {},
   "outputs": [],
   "source": [
    "with open(r\"test1.txt\", \"w\", encoding=\"utf-8\") as  f1:\n",
    "    f1.writelines(\"生活不止眼前的苟且\\n\")\n",
    "    f1.writelines(\"还有诗和远方\")"
   ]
  },
  {
   "cell_type": "code",
   "execution_count": 63,
   "metadata": {},
   "outputs": [],
   "source": [
    "l = [\"生活不止眼前的苟且\", \"还有\", \"诗和远方\"]\n",
    "with open(r\"test1.txt\", \"w\", encoding=\"utf-8\") as  f1:\n",
    "    f1.writelines(l)"
   ]
  },
  {
   "cell_type": "markdown",
   "metadata": {},
   "source": [
    "### 持久化 pickle\n",
    "- 序列化(持久化, 落地): 把程序运行中的信息保存在磁盘上\n",
    "- 反序列化:序列号的逆过程\n",
    "- picele: python提供的序列化模块\n",
    "- pickle.dump 序列化\n",
    "- pickle.load: 反序列化"
   ]
  },
  {
   "cell_type": "code",
   "execution_count": 73,
   "metadata": {},
   "outputs": [],
   "source": [
    "import pickle\n",
    "age = 19\n",
    "with open(r\"test1.txt\", \"wb\") as  f1:\n",
    "    pickle.dump(age, f1)"
   ]
  },
  {
   "cell_type": "code",
   "execution_count": 74,
   "metadata": {},
   "outputs": [
    {
     "name": "stdout",
     "output_type": "stream",
     "text": [
      "19\n"
     ]
    }
   ],
   "source": [
    "import pickle\n",
    "\n",
    "with open(r\"test1.txt\", \"rb\") as  f1:\n",
    "    age =  pickle.load(f1)\n",
    "    print(age)"
   ]
  },
  {
   "cell_type": "code",
   "execution_count": 76,
   "metadata": {},
   "outputs": [],
   "source": [
    "# 序列化案例 与反序列化\n",
    "\n",
    "import pickle\n",
    "a = [19, \"张三\", \"什么鬼哦\", [172, 65]]\n",
    "with open(r\"test1.txt\", \"wb\") as  f1:\n",
    "    pickle.dump(a, f1)"
   ]
  },
  {
   "cell_type": "code",
   "execution_count": 77,
   "metadata": {},
   "outputs": [
    {
     "name": "stdout",
     "output_type": "stream",
     "text": [
      "[19, '张三', '什么鬼哦', [172, 65]]\n"
     ]
    }
   ],
   "source": [
    "import pickle\n",
    "\n",
    "with open(r\"test1.txt\", \"rb\") as  f1:\n",
    "    a =  pickle.load(f1)\n",
    "    print(a)"
   ]
  },
  {
   "cell_type": "markdown",
   "metadata": {},
   "source": [
    "### 持久化 - shelve\n",
    "- 持久化工具\n",
    "- 类似字典,用 kv对保存数据, 存取方式和字典也类似\n",
    "- open,close\n",
    "- shelve 自动创建的不仅仅是一个文件还包括其他的\n",
    "### shelve 特性\n",
    "- 不支持多个应用\n",
    "    - 为了解决这个问题, open的时候可以flag= r\n",
    "- 写回问题\n",
    "    - shelve 什么情况下不会等待持久坏对象进行任何修改\n",
    "    - 解决方法: 强制写回: wirteback=True\n",
    "    \n",
    "    "
   ]
  },
  {
   "cell_type": "code",
   "execution_count": 81,
   "metadata": {},
   "outputs": [],
   "source": [
    "#shelve 案例\n",
    "import shelve\n",
    "shv = shelve.open(r\"shv.db\", flag=\"c\")\n",
    "try:\n",
    "    shv[\"one\"] = 1\n",
    "    shv[\"two\"] = 2\n",
    "    shv[\"three\"] = 3\n",
    "\n",
    "    \n",
    "finally:\n",
    "    shv.close()\n",
    "    \n"
   ]
  },
  {
   "cell_type": "code",
   "execution_count": 83,
   "metadata": {},
   "outputs": [
    {
     "name": "stdout",
     "output_type": "stream",
     "text": [
      "1\n",
      "2\n",
      "什么又出错了?\n"
     ]
    }
   ],
   "source": [
    "import shelve\n",
    "shv = shelve.open(r\"shv.db\", flag=\"c\")\n",
    "try:\n",
    "    print(shv[\"one\"])\n",
    "    print(shv[\"two\"])\n",
    "    print(shv[\"five\"])\n",
    "except Exception as e:\n",
    "    print(\"什么又出错了?\")\n",
    "finally:\n",
    "    shv.close()\n",
    "    "
   ]
  },
  {
   "cell_type": "code",
   "execution_count": 84,
   "metadata": {},
   "outputs": [
    {
     "name": "stdout",
     "output_type": "stream",
     "text": [
      "1\n"
     ]
    }
   ],
   "source": [
    "import shelve\n",
    "shv = shelve.open(r\"shv.db\", flag=\"r\")\n",
    "try:\n",
    "    print(shv[\"one\"])\n",
    "    \n",
    "finally:\n",
    "    shv.close()"
   ]
  },
  {
   "cell_type": "code",
   "execution_count": 87,
   "metadata": {},
   "outputs": [
    {
     "name": "stdout",
     "output_type": "stream",
     "text": [
      "{'la': 1, 'eo': 2, 'wo': 3}\n"
     ]
    }
   ],
   "source": [
    "import shelve\n",
    "shv = shelve.open(r\"shv.db\")\n",
    "try:\n",
    "    shv[\"one\"] = {\"la\":1, \"eo\": 2, \"wo\": 3}\n",
    "    \n",
    "finally:\n",
    "    shv.close()\n",
    "\n",
    "shv = shelve.open(r\"shv.db\", flag=\"r\")\n",
    "try:\n",
    "    print(shv[\"one\"])\n",
    "    \n",
    "finally:\n",
    "    shv.close()\n"
   ]
  },
  {
   "cell_type": "code",
   "execution_count": 89,
   "metadata": {},
   "outputs": [
    {
     "name": "stdout",
     "output_type": "stream",
     "text": [
      "{'la': 1, 'eo': 2, 'wo': 3}\n",
      "{'la': 1, 'eo': 2, 'wo': 3}\n"
     ]
    }
   ],
   "source": [
    "import shelve\n",
    "shv = shelve.open(r\"shv.db\")\n",
    "try:\n",
    "    k1 = shv[\"one\"] \n",
    "    print(k1)\n",
    "    # 此时, 一旦shelve关闭. 则内容存在与内存中,  没有写回数据库\n",
    "    k1[\"la\"] = 100\n",
    "finally:\n",
    "    shv.close()\n",
    "\n",
    "shv = shelve.open(r\"shv.db\", flag=\"r\")\n",
    "try:\n",
    "    k1 = shv[\"one\"] \n",
    "    print(k1)\n",
    "    \n",
    "finally:\n",
    "    shv.close()"
   ]
  },
  {
   "cell_type": "code",
   "execution_count": 90,
   "metadata": {},
   "outputs": [
    {
     "name": "stdout",
     "output_type": "stream",
     "text": [
      "{'la': 1, 'eo': 2, 'wo': 3}\n",
      "{'la': 100, 'eo': 2, 'wo': 3}\n"
     ]
    }
   ],
   "source": [
    "# 强制写回\n",
    "import shelve\n",
    "shv = shelve.open(r\"shv.db\", writeback=True)\n",
    "try:\n",
    "    k1 = shv[\"one\"] \n",
    "    print(k1)\n",
    "    k1[\"la\"] = 100\n",
    "finally:\n",
    "    shv.close()\n",
    "\n",
    "shv = shelve.open(r\"shv.db\", flag=\"r\")\n",
    "try:\n",
    "    k1 = shv[\"one\"] \n",
    "    print(k1)\n",
    "    \n",
    "finally:\n",
    "    shv.close()"
   ]
  },
  {
   "cell_type": "code",
   "execution_count": null,
   "metadata": {},
   "outputs": [],
   "source": []
  }
 ],
 "metadata": {
  "kernelspec": {
   "display_name": "Python 3",
   "language": "python",
   "name": "python3"
  },
  "language_info": {
   "codemirror_mode": {
    "name": "ipython",
    "version": 3
   },
   "file_extension": ".py",
   "mimetype": "text/x-python",
   "name": "python",
   "nbconvert_exporter": "python",
   "pygments_lexer": "ipython3",
   "version": "3.6.4"
  }
 },
 "nbformat": 4,
 "nbformat_minor": 2
}
