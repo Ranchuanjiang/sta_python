{
 "cells": [
  {
   "cell_type": "markdown",
   "metadata": {},
   "source": [
    "# log \n",
    " - www. cnblogs.com/yyds/p/6901864.html\n",
    " - logging模块提供模块级别的函数记录日志\n",
    " - 包括四大组件\n",
    " ## 1. 日志相关概念\n",
    " - 日志\n",
    " - 日志级别(level)\n",
    "     - 不同的用户关注不同的程序信息\n",
    "     - DEBUG\n",
    "     - INFO\n",
    "     - NOTICE\n",
    "     - WARING\n",
    "     - ERROR\n",
    "     - CRITICAL\n",
    "     - ALERT\n",
    "     - EMERGENCY\n",
    " - IO 操作不要太频繁\n",
    " - LOG的作用\n",
    "     - 调试\n",
    "     - 了解软件的运行情况\n",
    "     - 分析定位问题\n",
    "     \n",
    " - 日志信息\n",
    "     - time \n",
    "     - 地点\n",
    "     - level\n",
    "     - 内容\n",
    " - 成熟的第三方日志\n",
    "     - log4j\n",
    "     - log4php\n",
    "     - logging\n",
    "##  2. logging 模块\n",
    " - 日志级别\n",
    "     - 级别可自定义\n",
    "     - DEBUG\n",
    "     - INFO\n",
    "     - WARNING\n",
    "     - ERROR\n",
    "     - CRITICAL\n",
    "     \n",
    " - 初始化/写日志实例需要指定级别, 只有当级别 等于或高于指定级别才会被记录\n",
    " - 使用方式\n",
    "     - 直接使用logging(封装了其他组件)\n",
    "     - Logging四大组件直接定制\n",
    " ### Logging 模块级别的日志\n",
    " - 使用一下几个函数\n",
    "     - logging.debug(msg, *args, **kwargs)\n",
    "     - logging.info(msg, *args, **kwargs)\n",
    "     - logging.warning(msg, *args, **kwargs)\n",
    "     - logging.error(msg, *args, **kwargs)\n",
    "     - logging.critical(msg, *args, **kwargs)\n",
    "     - logging.log(level, *args, **kwargs)\n",
    "     - logging.basicConfig(**kwargs)\n",
    " - logging.basicConfig()\n",
    "     - 只在第一次调用的时候起作用\n",
    "     - 不配置logger则使用默认值\n",
    "         - 输出: sys.stderr\n",
    "         - 级别: WARNING\n",
    "         - 格式: level:log_name:content\n",
    " - format 参数: \n",
    "      - %(name)s Logger的名字\n",
    "      - %(levelno)s 数字形式的日志级别\n",
    "      - %(levelname)s 文本形式的日志级别\n",
    "      - %(pathname)s 调用日志输出函数的模块的完整路径名，可能没有\n",
    "      - %(filename)s 调用日志输出函数的模块的文件名\n",
    "      - %(module)s 调用日志输出函数的模块名\n",
    "      - %(funcName)s 调用日志输出函数的函数名\n",
    "      - %(lineno)d 调用日志输出函数的语句所在的代码行\n",
    "      - %(created)f 当前时间，用UNIX标准的表示时间的浮 点数表示\n",
    "      - %(relativeCreated)d 输出日志信息时的，自Logger创建以 来的毫秒数\n",
    "      - %(asctime)s 字符串形式的当前时间。默认格式是 “2003-07-08 16:49:45,896”。逗号后面的是毫秒\n",
    "      - %(thread)d 线程ID。可能没有\n",
    "      - %(threadName)s 线程名。可能没有\n",
    "      - %(process)d 进程ID。可能没有\n",
    "      - %(message)s用户输出的消息\n",
    "### logging 模块处理流程\n",
    " - 四大组件\n",
    "     - 日志器(Logger): 产生日志的一个接口\n",
    "     - 处理器(Handler): 把产生的日志发送到相应的目的地\n",
    "     - 过滤器(Filter): 更精细的控制那些日志输出.\n",
    "     - 格式器(Formatter): 对输出信息进行格式化\n",
    "- Logger\n",
    "    - 产生一个日志\n",
    "    - 操作\n",
    "        - Logger.setLevel() 设置日志器将会处理的日志消息的最低严重级别\n",
    "        - Logger.addHandler() 和 Logger.moveHandler() 为Logger添加和移除一个处理器\n",
    "        - Logger.addFilter() 和Logger.moveFilter() 为Logger对象添加个移除一个过滤器\n",
    "        - Logger.debug()....\n",
    "        - Logger.exception(): 创建类似与Logger.error 的日志消息\n",
    "        - Logger.log(): 获取一个明确的日志level参数类传教按一个日志记录\n",
    "            \n",
    "    - 如何得到一个logger对象\n",
    "        - 实例化\n",
    "        - logging.getLogger()\n",
    "- Hanler\n",
    "    - 把log发送到制定位置\n",
    "    - 方法\n",
    "        - setlevel\n",
    "        - setFormat\n",
    "        - addFilter, removefilter\n",
    "        \n",
    "    - 不需要直接使用, Handler是基类\n",
    "        - logging.StreamHandler 将日志消息发送到输出到Stream ,如std.out, std.err或任何 file-like\n",
    "        - logging.FileHandler 将日志消息发送到磁盘文件, 默认情况下文件大小会无限增长\n",
    "        - logging.handlers.RotatongFileHandler 将日志消息发送到磁盘文件,并支持日志文件按大小切割\n",
    "        - logging.handlers.TimedRotatingFileHandler\n",
    "        - logging.handlersHTTPHandler 将日志消息以get 或着post的方式发送到http服务器\n",
    "        - logging.handlers.SMTPHandler 将日志消息发送给一个制定的email地址\n",
    "        - logging.NullHandler 将Handler实例会忽略error messages, 通常被向使用logging 的library 开\n",
    "- Format 类\n",
    "    - 直接实例化\n",
    "    - 可以继承Format添加特殊内容\n",
    "    - 三个参数\n",
    "        - fmt指定消息格式化字符串, 如果不指定改参数则默认使用message的原始值\n",
    "        - datefmt: 指定日期格式字符串, 如果不指定该参数则默认使用\"%Y-%m-%d  %H:%M:%S\"\n",
    "        - style: python 3.2 新增参数, 可驱之为\"%\",\"{\" 和\"\" 如果不指定该参数则默认使用\"%\"\n",
    "- Filter 类\n",
    "    - 可以被Handler和Logger使用\n",
    "    - 控制传递过来的信息的具体内容\n",
    "    - 案例#1"
   ]
  },
  {
   "cell_type": "code",
   "execution_count": 7,
   "metadata": {},
   "outputs": [
    {
     "name": "stderr",
     "output_type": "stream",
     "text": [
      "WARNING:root:3\n",
      "ERROR:root:4\n",
      "CRITICAL:root:5\n"
     ]
    }
   ],
   "source": [
    "import logging\n",
    "logging.debug(\"1\")\n",
    "logging.info(\"2\")\n",
    "logging.warning(\"3\")\n",
    "logging.error(\"4\")\n",
    "logging.critical(\"5\")"
   ]
  },
  {
   "cell_type": "code",
   "execution_count": 13,
   "metadata": {},
   "outputs": [
    {
     "name": "stderr",
     "output_type": "stream",
     "text": [
      "WARNING:root:3\n",
      "ERROR:root:4\n",
      "CRITICAL:root:5\n"
     ]
    }
   ],
   "source": [
    "import logging\n",
    "logging.basicConfig(level=logging.DEBUG)\n",
    "logging.debug(\"1\")\n",
    "logging.info(\"2\")\n",
    "logging.warning(\"3\")\n",
    "logging.error(\"4\")\n",
    "logging.critical(\"5\")"
   ]
  },
  {
   "cell_type": "code",
   "execution_count": 15,
   "metadata": {},
   "outputs": [
    {
     "name": "stderr",
     "output_type": "stream",
     "text": [
      "WARNING:root:3\n",
      "ERROR:root:4\n",
      "CRITICAL:root:5\n"
     ]
    }
   ],
   "source": [
    "import logging\n",
    "logging.basicConfig(filename=\"test.log\", level=logging.DEBUG)\n",
    "logging.debug(\"1\")\n",
    "logging.info(\"2\")\n",
    "logging.warning(\"3\")\n",
    "logging.error(\"4\")\n",
    "logging.critical(\"5\")"
   ]
  },
  {
   "cell_type": "code",
   "execution_count": 17,
   "metadata": {},
   "outputs": [
    {
     "name": "stderr",
     "output_type": "stream",
     "text": [
      "WARNING:root:3\n",
      "ERROR:root:4\n",
      "CRITICAL:root:5\n"
     ]
    }
   ],
   "source": [
    "# notebook error\n",
    "import logging\n",
    "log_format = \"%(asctime)s-------------%(levelname)s------------%(message)s\"\n",
    "logging.basicConfig(filename=\"test.log\", level=logging.DEBUG, format=log_format)\n",
    "logging.debug(\"1\")\n",
    "logging.info(\"2\")\n",
    "logging.warning(\"3\")\n",
    "logging.error(\"4\")\n",
    "logging.critical(\"5\")"
   ]
  },
  {
   "cell_type": "code",
   "execution_count": 7,
   "metadata": {},
   "outputs": [],
   "source": [
    "# 案例 #1\n",
    "# 1.需求将所有级别的所有日志都写入磁盘文件中\n",
    "# 2. all.log 文件中记录所有的日志信息, 日志格式为: 日期和时间- 日志级别- 日志信息\n",
    "# 3 error.log 文件中单独记录error 及以上几倍的日志信息, 日志给是为: 日期和时间 - 日志级别 - 文件名[:行号] - 日志信息\n",
    "# 4 需求all.log 在每天凌晨进行日志切割\n",
    "# 分析\n",
    "# 1. 要记录所有级别的日志, 因此日志器要有效level 需要设置为最低几倍--debug:\n",
    "# 日志需要被发送到两个不同的目的地, 因此需要为日志器,设置两个handler, 另外, 两个目的地都是磁盘文件, 因此这两个handler都是与FeilHandler\n",
    "import logging\n",
    "import logging.handlers\n",
    "import datetime\n",
    "logger = logging.getLogger(\"mylogger\")\n",
    "logger.setLevel(logging.DEBUG)\n",
    "\n",
    "rf_handler = logging.handlers.TimedRotatingFileHandler(\"all.log\", when=\"midnight\", interval=1, backupCount=7, atTime=datetime.time(0,0,0,0))\n",
    "rf_handler.setFormatter(logging.Formatter(\"%(asctime)s --%(levelname)s- --%(message)s \"))\n",
    "\n",
    "f_handler = logging.FileHandler(\"error.log\")\n",
    "f_handler.setLevel(logging.ERROR)\n",
    "f_handler.setFormatter(logging.Formatter(\"%(asctime)s --%(levelname)s- --%(filename)s[:%(lineno)d] - %(message)s\"))\n",
    "logger.addHandler(rf_handler)\n",
    "logger.addHandler(f_handler)\n",
    "\n",
    "logger.debug(\"debug message\")\n",
    "logger.info(\"info message\")\n",
    "logger.warning(\"warning ,message\")\n",
    "logger.error(\"error message\")\n",
    "logger.critical(\"critical message\")"
   ]
  },
  {
   "cell_type": "code",
   "execution_count": null,
   "metadata": {},
   "outputs": [],
   "source": []
  }
 ],
 "metadata": {
  "kernelspec": {
   "display_name": "Python 3",
   "language": "python",
   "name": "python3"
  },
  "language_info": {
   "codemirror_mode": {
    "name": "ipython",
    "version": 3
   },
   "file_extension": ".py",
   "mimetype": "text/x-python",
   "name": "python",
   "nbconvert_exporter": "python",
   "pygments_lexer": "ipython3",
   "version": "3.6.4"
  }
 },
 "nbformat": 4,
 "nbformat_minor": 2
}
