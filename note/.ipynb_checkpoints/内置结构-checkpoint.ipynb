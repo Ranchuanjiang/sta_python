{
 "cells": [
  {
   "cell_type": "markdown",
   "metadata": {},
   "source": [
    "# 关于列表的操作\n",
    "  \n",
    "  \n",
    "  "
   ]
  },
  {
   "cell_type": "code",
   "execution_count": 2,
   "metadata": {},
   "outputs": [
    {
     "name": "stdout",
     "output_type": "stream",
     "text": [
      "[0, 1, 2, 3, 4]\n",
      "[0, 1, 2, 3, 4, 100]\n"
     ]
    }
   ],
   "source": [
    "# append 插入一个内容, 在末尾追加\n",
    "a = [i for i in range(5)]\n",
    "print(a)\n",
    "a.append(100)\n",
    "print(a)"
   ]
  },
  {
   "cell_type": "code",
   "execution_count": 3,
   "metadata": {},
   "outputs": [
    {
     "name": "stdout",
     "output_type": "stream",
     "text": [
      "[0, 1, 2, 3, 4, 100]\n",
      "[0, 1, 2, 666, 3, 4, 100]\n"
     ]
    }
   ],
   "source": [
    "# inset: 制定位置插入\n",
    "# insert(index, data), 插入位置是index 前面\n",
    "print(a)\n",
    "a.insert(3, 666)\n",
    "print(a)"
   ]
  },
  {
   "cell_type": "code",
   "execution_count": 5,
   "metadata": {},
   "outputs": [
    {
     "name": "stdout",
     "output_type": "stream",
     "text": [
      "[0, 1, 2, 666, 3, 4, 100]\n",
      "100\n",
      "[0, 1, 2, 666, 3, 4]\n"
     ]
    }
   ],
   "source": [
    "# 删除\n",
    "# del 删除\n",
    "# pop ,从对位 难处一个元素,即 把最后一个元素取出来 \n",
    "print(a)\n",
    "last_ele = a.pop()\n",
    "print(last_ele)\n",
    "print(a)"
   ]
  },
  {
   "cell_type": "code",
   "execution_count": 9,
   "metadata": {},
   "outputs": [
    {
     "name": "stdout",
     "output_type": "stream",
     "text": [
      "[0, 1, 2, 3, 4]\n",
      "2422505755912\n",
      "[0, 1, 3, 4]\n",
      "2422505755912\n"
     ]
    }
   ],
   "source": [
    "# remove : 在列表中删除 制定的值的元素\n",
    "# 如果删除的元素不在列表中, 则报错\n",
    "print(a)\n",
    "print(id(a))\n",
    "a.remove(2)\n",
    "print(a)\n",
    "print(id(a))"
   ]
  },
  {
   "cell_type": "code",
   "execution_count": 10,
   "metadata": {},
   "outputs": [
    {
     "name": "stdout",
     "output_type": "stream",
     "text": [
      "2422506990792\n",
      "[]\n",
      "2422506990792\n"
     ]
    }
   ],
   "source": [
    "# clear 清空\n",
    "a = [1, 2, 3, 4, 5, 6]\n",
    "print(id(a))\n",
    "a.clear()\n",
    "print(a)\n",
    "print(id(a))"
   ]
  },
  {
   "cell_type": "code",
   "execution_count": 11,
   "metadata": {},
   "outputs": [
    {
     "name": "stdout",
     "output_type": "stream",
     "text": [
      "[1, 2, 3, 4, 5, 6]\n",
      "2422505786568\n",
      "[6, 5, 4, 3, 2, 1]\n",
      "2422505786568\n"
     ]
    }
   ],
   "source": [
    "# reverse : 翻转\n",
    "a = [1, 2, 3, 4, 5, 6]\n",
    "print(a)\n",
    "print(id(a))\n",
    "a.reverse()\n",
    "print(a)\n",
    "print(id(a))"
   ]
  },
  {
   "cell_type": "code",
   "execution_count": 14,
   "metadata": {},
   "outputs": [
    {
     "name": "stdout",
     "output_type": "stream",
     "text": [
      "[1, 2, 3]\n",
      "2422507213896\n",
      "[1, 2, 3, 4, 5, 6]\n",
      "2422507213896\n",
      "[4, 5, 6, 1, 2, 3, 4, 5, 6]\n"
     ]
    }
   ],
   "source": [
    "# extend(): 扩展列表, 两个列表把一个直接拼接到后一个\n",
    "a = [1, 2, 3]\n",
    "b = [4, 5, 6]\n",
    "print(a)\n",
    "print(id(a))\n",
    "a.extend(b)\n",
    "print(a)\n",
    "print(id(a))\n",
    "b.extend(a)\n",
    "print(b)"
   ]
  },
  {
   "cell_type": "code",
   "execution_count": 15,
   "metadata": {},
   "outputs": [
    {
     "name": "stdout",
     "output_type": "stream",
     "text": [
      "2\n"
     ]
    }
   ],
   "source": [
    "# count(): 查找列表中指定值或元素的个数\n",
    "a = [1, 2, 3, 4, 3, 5, 6]\n",
    "a_c = a.count(3)\n",
    "print(a_c)"
   ]
  },
  {
   "cell_type": "code",
   "execution_count": 16,
   "metadata": {},
   "outputs": [
    {
     "name": "stdout",
     "output_type": "stream",
     "text": [
      "[1, 2, 3, 666]\n",
      "[1, 2, 3, 666]\n"
     ]
    }
   ],
   "source": [
    "# copy(): 拷贝, 浅拷贝\n",
    "a = [1, 2, 3, 4]\n",
    "b = a\n",
    "b[3] = 666\n",
    "print(a)\n",
    "print(b)"
   ]
  },
  {
   "cell_type": "code",
   "execution_count": 17,
   "metadata": {},
   "outputs": [],
   "source": [
    "b = a.copy()"
   ]
  },
  {
   "cell_type": "code",
   "execution_count": 19,
   "metadata": {},
   "outputs": [
    {
     "name": "stdout",
     "output_type": "stream",
     "text": [
      "[1, 2, 3, 666]\n",
      "[1, 2, 3, 666]\n",
      "[1, 2, 3, 666]\n",
      "[1, 2, 3, 888]\n"
     ]
    }
   ],
   "source": [
    "print(a)\n",
    "print(b)\n",
    "b[3] = 888\n",
    "print(a)\n",
    "print(b)"
   ]
  },
  {
   "cell_type": "code",
   "execution_count": 20,
   "metadata": {},
   "outputs": [
    {
     "name": "stdout",
     "output_type": "stream",
     "text": [
      "2422505786568\n",
      "2422505757000\n",
      "[10, 20, 30, [1, 100, 3]]\n",
      "[10, 20, 30, [1, 100, 3]]\n"
     ]
    }
   ],
   "source": [
    "# 深拷贝和浅拷贝的区别\n",
    "# 出现下面问题原因是浅拷贝\n",
    "# 深拷贝需要使用特定工具\n",
    "a = [10, 20, 30, [1, 2, 3]]\n",
    "b = a.copy()\n",
    "print(id(a))\n",
    "print(id(b))\n",
    "a[3][1] = 100\n",
    "print(a)\n",
    "print(b)\n",
    "\n"
   ]
  },
  {
   "cell_type": "markdown",
   "metadata": {},
   "source": [
    "# 元组 - tuple\n",
    " - 远足可以看成是一个不可更改的list\n",
    "## 元组创建"
   ]
  },
  {
   "cell_type": "code",
   "execution_count": 22,
   "metadata": {},
   "outputs": [
    {
     "name": "stdout",
     "output_type": "stream",
     "text": [
      "<class 'tuple'>\n",
      "<class 'tuple'>\n",
      "<class 'int'>\n",
      "<class 'tuple'>\n"
     ]
    }
   ],
   "source": [
    "# 创建元组\n",
    "t = ()\n",
    "print(type(t))\n",
    "t = (1, )\n",
    "print(type(t))\n",
    "p = (1)\n",
    "print(type(p))\n",
    "t = 1,\n",
    "print(type(t))"
   ]
  },
  {
   "cell_type": "markdown",
   "metadata": {},
   "source": [
    "## 元组的特性\n",
    " - 是序列表 , 有序\n",
    " - 元组数据值可以访问, 不能修改.\n",
    " - 元组数据可以是任意类型\n",
    " - 总之, list 所有特性,除了可修改外, 元组都具有\\\n",
    " "
   ]
  },
  {
   "cell_type": "code",
   "execution_count": 23,
   "metadata": {},
   "outputs": [
    {
     "name": "stdout",
     "output_type": "stream",
     "text": [
      "4\n"
     ]
    }
   ],
   "source": [
    "# 索引操作 超过会报错\n",
    "t = (1, 2, 3, 4, 5)\n",
    "print(t[3])"
   ]
  },
  {
   "cell_type": "code",
   "execution_count": 26,
   "metadata": {},
   "outputs": [
    {
     "name": "stdout",
     "output_type": "stream",
     "text": [
      "(2, 3, 4, 5)\n",
      "2422505832712\n",
      "2422507290696\n"
     ]
    }
   ],
   "source": [
    "# 切片 切片可以超标\n",
    "t = (1, 2, 3, 4, 5, 6)\n",
    "t1 = t[1:5:1]\n",
    "print(t1)\n",
    "print(id(t))\n",
    "print(id(t1))"
   ]
  },
  {
   "cell_type": "code",
   "execution_count": 27,
   "metadata": {},
   "outputs": [
    {
     "name": "stdout",
     "output_type": "stream",
     "text": [
      "2422506495648\n",
      "2422505500584\n",
      "(1, 2, 3, 4, 5, 6)\n"
     ]
    }
   ],
   "source": [
    "# 元组相加\n",
    "t1 = (1, 2, 3)\n",
    "t2 = (4, 5, 6)\n",
    "print(id(t1))\n",
    "t1 = t1 + t2\n",
    "print(id(t1))\n",
    "print(t1)"
   ]
  },
  {
   "cell_type": "code",
   "execution_count": 28,
   "metadata": {},
   "outputs": [
    {
     "name": "stdout",
     "output_type": "stream",
     "text": [
      "(1, 2, 3, 1, 2, 3, 1, 2, 3)\n"
     ]
    }
   ],
   "source": [
    "# 元组相乘\n",
    "t = (1, 2, 3)\n",
    "t = t * 3\n",
    "print(t)\n"
   ]
  },
  {
   "cell_type": "code",
   "execution_count": 29,
   "metadata": {},
   "outputs": [
    {
     "name": "stdout",
     "output_type": "stream",
     "text": [
      "yes\n"
     ]
    }
   ],
   "source": [
    "# 成员检测\n",
    "t = (1, 2, 3)\n",
    "if 2 in t:\n",
    "    print(\"yes\")\n",
    "else:\n",
    "    print(\"no\")\n"
   ]
  },
  {
   "cell_type": "code",
   "execution_count": 32,
   "metadata": {},
   "outputs": [
    {
     "name": "stdout",
     "output_type": "stream",
     "text": [
      "1 2 3 4 5 6 7 7 8 "
     ]
    }
   ],
   "source": [
    "# 元组遍历 一般采用for\n",
    "# 1. 单层元组遍历\n",
    "t = (1, 2, 3, 4, 5, 6, 7, 7, 8)\n",
    "for i in t:\n",
    "    print(i, end=\" \")"
   ]
  },
  {
   "cell_type": "code",
   "execution_count": 36,
   "metadata": {},
   "outputs": [
    {
     "name": "stdout",
     "output_type": "stream",
     "text": [
      "1 2 3 4 5 6 7 8 9 \n",
      "________________________________________\n",
      "1 2 3 4 5 6 7 8 9 \n",
      "________________________________________\n",
      "1 2 3 4 5 6 7 8 9 "
     ]
    }
   ],
   "source": [
    "# 2. 双层元组遍历\n",
    "t = ((1, 2, 3), (4, 5, 6), (7, 8, 9))\n",
    "for i in t:\n",
    "    for j in i:\n",
    "        print(j, end=\" \")\n",
    "print()\n",
    "print(\"__\" * 20)\n",
    "for i in t:\n",
    "    print(*i, end=\" \")\n",
    "print()\n",
    "print(\"__\" * 20)\n",
    "for k , v , m in t:\n",
    "    print(k, v, m, end=\" \")"
   ]
  },
  {
   "cell_type": "markdown",
   "metadata": {},
   "source": [
    "# 元组的函数\n",
    " "
   ]
  },
  {
   "cell_type": "code",
   "execution_count": 1,
   "metadata": {},
   "outputs": [
    {
     "name": "stdout",
     "output_type": "stream",
     "text": [
      "5\n"
     ]
    }
   ],
   "source": [
    "#len() : 获取元组的长度\n",
    "t = (1, 2, 3, 4, 5)\n",
    "print(len(t))"
   ]
  },
  {
   "cell_type": "code",
   "execution_count": 2,
   "metadata": {},
   "outputs": [
    {
     "name": "stdout",
     "output_type": "stream",
     "text": [
      "5 1\n"
     ]
    }
   ],
   "source": [
    "# max(), min(): 最大最小\n",
    "print(max(t),min(t))"
   ]
  },
  {
   "cell_type": "code",
   "execution_count": 3,
   "metadata": {},
   "outputs": [
    {
     "name": "stdout",
     "output_type": "stream",
     "text": [
      "<class 'tuple'>\n"
     ]
    }
   ],
   "source": [
    "# tuple: 转化创建元组\n",
    "l = [1, 2, 3, 4, 5]\n",
    "t = tuple(l)\n",
    "print(type(t))"
   ]
  },
  {
   "cell_type": "code",
   "execution_count": 4,
   "metadata": {},
   "outputs": [
    {
     "name": "stdout",
     "output_type": "stream",
     "text": [
      "2\n"
     ]
    }
   ],
   "source": [
    "# count() 统计元组里面  某数据出现的次数\n",
    "t = (1, 2, 3, 5, 6, 5, 3, 4)\n",
    "print(t.count(3))\n"
   ]
  },
  {
   "cell_type": "code",
   "execution_count": 6,
   "metadata": {},
   "outputs": [
    {
     "name": "stdout",
     "output_type": "stream",
     "text": [
      "2\n"
     ]
    }
   ],
   "source": [
    "# ondex() 指定元素在元组中出现的位置\n",
    "print(t.index(3))"
   ]
  },
  {
   "cell_type": "markdown",
   "metadata": {},
   "source": [
    "# 元组变量交换法\n",
    " - 两个变量交换值"
   ]
  },
  {
   "cell_type": "code",
   "execution_count": 7,
   "metadata": {},
   "outputs": [
    {
     "name": "stdout",
     "output_type": "stream",
     "text": [
      "2\n",
      "1\n"
     ]
    }
   ],
   "source": [
    "a = 1\n",
    "b = 2\n",
    "a, b = b, a\n",
    "print(a)\n",
    "print(b)"
   ]
  },
  {
   "cell_type": "markdown",
   "metadata": {},
   "source": [
    "# 集合 -set\n",
    " - 集合是高中数学中的一个概念\n",
    " - 一堆确定的无序的数据, 集合中每一个数据成为一个元素\n",
    " "
   ]
  },
  {
   "cell_type": "code",
   "execution_count": 8,
   "metadata": {},
   "outputs": [
    {
     "name": "stdout",
     "output_type": "stream",
     "text": [
      "<class 'set'>\n",
      "set()\n",
      "<class 'set'>\n"
     ]
    }
   ],
   "source": [
    "# 集合的定义\n",
    "s = set()\n",
    "print(type(s))\n",
    "print(s)\n",
    "s = {1, 2, 3, 5, 6,7}\n",
    "print(type(s))"
   ]
  },
  {
   "cell_type": "markdown",
   "metadata": {},
   "source": [
    "# 集合的特征\n",
    " - 集合内数据无序, 即无法使用索引和分片\n",
    " - 集合内部数据元素具有唯一性, 可以用来排除重复数据\n",
    " - 集合内的数据, 字符串 , 数字, 浮点书, 元组, 冰冻集合等, 即 内部只能放置可哈希数据"
   ]
  },
  {
   "cell_type": "markdown",
   "metadata": {},
   "source": [
    "## 集合序列操作"
   ]
  },
  {
   "cell_type": "code",
   "execution_count": 9,
   "metadata": {},
   "outputs": [
    {
     "name": "stdout",
     "output_type": "stream",
     "text": [
      "{1, 'asda', 2}\n",
      "yes\n"
     ]
    }
   ],
   "source": [
    "# 成员检测\n",
    "# in, not in\n",
    "s = {1, \"asda\", 2}\n",
    "print(s)\n",
    "if 1 in s:\n",
    "    print(\"yes\")\n",
    "else:\n",
    "    print(\"no\")"
   ]
  },
  {
   "cell_type": "markdown",
   "metadata": {},
   "source": [
    "## 集合的便利操作\n"
   ]
  },
  {
   "cell_type": "code",
   "execution_count": 11,
   "metadata": {},
   "outputs": [
    {
     "name": "stdout",
     "output_type": "stream",
     "text": [
      "1 asda 2 "
     ]
    }
   ],
   "source": [
    "# for 循环\n",
    "s = {1, \"asda\", 2}\n",
    "for i in  s:\n",
    "    print(i, end=\" \")"
   ]
  },
  {
   "cell_type": "code",
   "execution_count": 16,
   "metadata": {},
   "outputs": [
    {
     "name": "stdout",
     "output_type": "stream",
     "text": [
      "4 5 6\n",
      "7 8 9\n",
      "1 2 3\n",
      "--------------------\n",
      "4 5 6\n",
      "7 8 9\n",
      "1 2 3\n"
     ]
    }
   ],
   "source": [
    "# 带有元组的集合遍历\n",
    "s = {(1, 2, 3), (4, 5, 6), (7, 8, 9)}\n",
    "for k, v, x in s:\n",
    "    print(k , v, x)\n",
    "print(\"--\" * 10)\n",
    "for i in s:\n",
    "    print(*i)"
   ]
  },
  {
   "cell_type": "markdown",
   "metadata": {},
   "source": [
    "## 集合的内涵\n",
    " "
   ]
  },
  {
   "cell_type": "code",
   "execution_count": 17,
   "metadata": {},
   "outputs": [
    {
     "name": "stdout",
     "output_type": "stream",
     "text": [
      "{1, 2, 3, 4, 5, 6, 7, 8}\n"
     ]
    }
   ],
   "source": [
    "# 普通集合内涵\n",
    "# 去重\n",
    "s = {1, 1, 1, 2, 3, 4, 2, 5, 6, 7, 8,2, 4}\n",
    "print(s)"
   ]
  },
  {
   "cell_type": "markdown",
   "metadata": {},
   "source": [
    "# 集合函数/ 关于集合的函数"
   ]
  },
  {
   "cell_type": "code",
   "execution_count": 18,
   "metadata": {},
   "outputs": [
    {
     "name": "stdout",
     "output_type": "stream",
     "text": [
      "{1, 2, 3, 4, 5, 6}\n"
     ]
    }
   ],
   "source": [
    "# set(): 生成一个集合\n",
    "l = [1, 2, 3, 4, 5, 6]\n",
    "s = set(l)\n",
    "print(s)"
   ]
  },
  {
   "cell_type": "code",
   "execution_count": 20,
   "metadata": {},
   "outputs": [
    {
     "name": "stdout",
     "output_type": "stream",
     "text": [
      "{334}\n"
     ]
    }
   ],
   "source": [
    "# add(): 向集合内添加元素\n",
    "s = set()\n",
    "s.add(334)\n",
    "print(s)"
   ]
  },
  {
   "cell_type": "code",
   "execution_count": 21,
   "metadata": {},
   "outputs": [
    {
     "name": "stdout",
     "output_type": "stream",
     "text": [
      "1709875015016\n",
      "1709875015016\n",
      "set()\n"
     ]
    }
   ],
   "source": [
    "# clear() : 清除集合\n",
    "s = {1, 2, 3, 4, 5}\n",
    "print(id(s))\n",
    "s.clear()\n",
    "print(id(s))\n",
    "print(s)"
   ]
  },
  {
   "cell_type": "code",
   "execution_count": 23,
   "metadata": {},
   "outputs": [
    {
     "name": "stdout",
     "output_type": "stream",
     "text": [
      "{2, 4, 5, 23}\n",
      "{2, 5, 23}\n",
      "{2, 5, 23}\n"
     ]
    },
    {
     "ename": "KeyError",
     "evalue": "22",
     "output_type": "error",
     "traceback": [
      "\u001b[1;31m---------------------------------------------------------------------------\u001b[0m",
      "\u001b[1;31mKeyError\u001b[0m                                  Traceback (most recent call last)",
      "\u001b[1;32m<ipython-input-23-5c90ad477178>\u001b[0m in \u001b[0;36m<module>\u001b[1;34m()\u001b[0m\n\u001b[0;32m      9\u001b[0m \u001b[0ms\u001b[0m\u001b[1;33m.\u001b[0m\u001b[0mdiscard\u001b[0m\u001b[1;33m(\u001b[0m\u001b[1;36m22\u001b[0m\u001b[1;33m)\u001b[0m\u001b[1;33m\u001b[0m\u001b[0m\n\u001b[0;32m     10\u001b[0m \u001b[0mprint\u001b[0m\u001b[1;33m(\u001b[0m\u001b[0ms\u001b[0m\u001b[1;33m)\u001b[0m\u001b[1;33m\u001b[0m\u001b[0m\n\u001b[1;32m---> 11\u001b[1;33m \u001b[0ms\u001b[0m\u001b[1;33m.\u001b[0m\u001b[0mremove\u001b[0m\u001b[1;33m(\u001b[0m\u001b[1;36m22\u001b[0m\u001b[1;33m)\u001b[0m\u001b[1;33m\u001b[0m\u001b[0m\n\u001b[0m\u001b[0;32m     12\u001b[0m \u001b[0mprint\u001b[0m\u001b[1;33m(\u001b[0m\u001b[0ms\u001b[0m\u001b[1;33m)\u001b[0m\u001b[1;33m\u001b[0m\u001b[0m\n",
      "\u001b[1;31mKeyError\u001b[0m: 22"
     ]
    }
   ],
   "source": [
    "# copy(): 拷贝\n",
    "# remove(): 移除指定的值  直接改变原有值, 如果值不存在,报错\n",
    "# discard(): 移除集合中指定的值, 和remove 一样 , 如果值不存在, 不报错\n",
    "s = {23, 3, 2, 5, 4}\n",
    "s.discard(3)\n",
    "print(s)\n",
    "s.remove(4)\n",
    "print(s)\n",
    "s.discard(22)\n",
    "print(s)\n",
    "s.remove(22)\n",
    "print(s)\n"
   ]
  },
  {
   "cell_type": "code",
   "execution_count": 24,
   "metadata": {},
   "outputs": [
    {
     "name": "stdout",
     "output_type": "stream",
     "text": [
      "{2, 3, 5, 6, 54}\n"
     ]
    }
   ],
   "source": [
    "# pop 随机移除一个元素\n",
    "s = {1, 2, 3, 54, 5, 6}\n",
    "s.pop()\n",
    "print(s)"
   ]
  },
  {
   "cell_type": "code",
   "execution_count": 27,
   "metadata": {},
   "outputs": [
    {
     "name": "stdout",
     "output_type": "stream",
     "text": [
      "{4, 5}\n",
      "{1, 2, 3}\n",
      "{1, 2, 3, 4, 5, 6, 7, 8}\n"
     ]
    }
   ],
   "source": [
    "# 集合函数\n",
    "# intersection() :交集\n",
    "# difference(): 差集\n",
    "# union(): 并集\n",
    "# issubset() : 检查一个集合是否为另一个子集\n",
    "# issuperset(): 检查一个集合是否为另一个超集\n",
    "s1 = {1, 2, 3, 4, 5}\n",
    "s2 = {4, 5, 6, 7, 8}\n",
    "s_1 =  s1.intersection(s2)\n",
    "print(s_1)\n",
    "s_2 = s1.difference(s2)\n",
    "print(s_2)\n",
    "s_3 = s1.union(s2)\n",
    "print(s_3)\n"
   ]
  },
  {
   "cell_type": "markdown",
   "metadata": {},
   "source": [
    "# 集合的数学操作\n"
   ]
  },
  {
   "cell_type": "code",
   "execution_count": 31,
   "metadata": {},
   "outputs": [
    {
     "name": "stdout",
     "output_type": "stream",
     "text": [
      "{8, 5, 6, 7}\n"
     ]
    }
   ],
   "source": [
    "s1 = {1, 2, 3, 4}\n",
    "s2 = {5, 6, 7, 8, 4}\n",
    "s3 = s2 - s1\n",
    "print(s3)\n",
    "\n",
    "\n"
   ]
  },
  {
   "cell_type": "markdown",
   "metadata": {},
   "source": [
    "# 冰冻集合\n",
    " - 冰冻集合就是不可以进行任何修改的集合\n",
    " - frozenset 是一种特殊集合 除了不能修改 其他集合特性都有\n"
   ]
  },
  {
   "cell_type": "code",
   "execution_count": 32,
   "metadata": {},
   "outputs": [],
   "source": [
    "# 创建 \n",
    "s = frozenset()"
   ]
  },
  {
   "cell_type": "markdown",
   "metadata": {},
   "source": [
    "# 字典 - dict\n",
    " - 字典是一种组合数据, 没有顺序的组合数据, 数据以键值对形式出现\n",
    " "
   ]
  },
  {
   "cell_type": "code",
   "execution_count": 33,
   "metadata": {},
   "outputs": [],
   "source": [
    "# 字典的建立\n",
    "d = {}\n",
    "d1 = dict()\n",
    "d2 = {\"one\":1, \"two\":2, \"three\":3}\n"
   ]
  },
  {
   "cell_type": "markdown",
   "metadata": {},
   "source": [
    "# 字典的特性\n",
    " - 字典是序列类型, 但是是无序序列, 所以没有分片和索引\n",
    " - 字典中的数据每个都有简直对组成, 即 key, value\n",
    "     - key: 必须是可哈希的值, 比如int, string, float,  tuple. 但是: list,set,dict 不行"
   ]
  },
  {
   "cell_type": "markdown",
   "metadata": {},
   "source": [
    "# 字典的常见操作\n"
   ]
  },
  {
   "cell_type": "code",
   "execution_count": 35,
   "metadata": {},
   "outputs": [
    {
     "name": "stdout",
     "output_type": "stream",
     "text": [
      "1\n",
      "{'one': '一', 'two': 2, 'three': 3}\n"
     ]
    }
   ],
   "source": [
    "# 访问数据\n",
    "d = {\"one\":1, \"two\":2, \"three\":3}\n",
    "# 访问 格式\n",
    "print(d[\"one\"])\n",
    "# 赋值\n",
    "d[\"one\"] = \"一\"\n",
    "print(d)"
   ]
  },
  {
   "cell_type": "code",
   "execution_count": 36,
   "metadata": {},
   "outputs": [
    {
     "name": "stdout",
     "output_type": "stream",
     "text": [
      "key\n"
     ]
    }
   ],
   "source": [
    "# 成员检测\n",
    "d = {\"one\":1, \"two\":2, \"three\":3}\n",
    "if 2 in d:\n",
    "    print(\"value\")\n",
    "if \"two\" in d:\n",
    "    print(\"key\")\n",
    "if (\"three,3\") in d:\n",
    "    print(\"key and value\")"
   ]
  },
  {
   "cell_type": "code",
   "execution_count": 39,
   "metadata": {},
   "outputs": [
    {
     "name": "stdout",
     "output_type": "stream",
     "text": [
      "one 1\n",
      "two 2\n",
      "three 3\n",
      "1\n",
      "2\n",
      "3\n",
      "one 1\n",
      "two 2\n",
      "three 3\n"
     ]
    }
   ],
   "source": [
    "# 遍历字典\n",
    "d = {\"one\":1, \"two\":2, \"three\":3}\n",
    "for i in d.keys():\n",
    "    print(i, d[i])\n",
    "for i in d.values():\n",
    "    print(i)\n",
    "for k, v in d.items():\n",
    "    print(k, v)"
   ]
  },
  {
   "cell_type": "markdown",
   "metadata": {},
   "source": [
    "# #字典生成式"
   ]
  },
  {
   "cell_type": "code",
   "execution_count": 42,
   "metadata": {},
   "outputs": [
    {
     "name": "stdout",
     "output_type": "stream",
     "text": [
      "{'two': 2}\n"
     ]
    }
   ],
   "source": [
    "d = {\"one\":1, \"two\":2, \"three\":3}\n",
    "dd = {k:v for  k, v in d.items() if v % 2 == 0}\n",
    "print(dd)"
   ]
  },
  {
   "cell_type": "markdown",
   "metadata": {},
   "source": [
    "## 字典相关函数\n"
   ]
  },
  {
   "cell_type": "code",
   "execution_count": 43,
   "metadata": {},
   "outputs": [
    {
     "name": "stdout",
     "output_type": "stream",
     "text": [
      "None\n",
      "100\n"
     ]
    }
   ],
   "source": [
    "# 通用函数: len, max, min, dict\n",
    "# clear(): 清空字典\n",
    "# items(): 返回字典的键值对 \n",
    "# keys(): 返回字典键 组成的一个结构\n",
    "# values(): 返回字典值组成的一个结构\n",
    "# get(): 根据指定键返回相应的值, 好处是, 可以设定默认值和dict{\"key\"] 区别在域 如果没有键个体不会报错\n",
    "d = {\"one\":1, \"two\":2, \"three\":3}\n",
    "print(d.get(\"five\"))\n",
    "print(d.get(\"five\", 100))\n"
   ]
  },
  {
   "cell_type": "code",
   "execution_count": 46,
   "metadata": {},
   "outputs": [
    {
     "name": "stdout",
     "output_type": "stream",
     "text": [
      "{'one': 333, 'two': 333, 'three': 333}\n"
     ]
    }
   ],
   "source": [
    "# fromkeys(): 使用指定的我序列做为键,使用一个值作为字典的所有的键的值\n",
    "l = [\"one\", \"two\", \"three\"]\n",
    "d = dict.fromkeys(l, 333)\n",
    "print(d)"
   ]
  },
  {
   "cell_type": "code",
   "execution_count": null,
   "metadata": {},
   "outputs": [],
   "source": []
  }
 ],
 "metadata": {
  "kernelspec": {
   "display_name": "Python 3",
   "language": "python",
   "name": "python3"
  },
  "language_info": {
   "codemirror_mode": {
    "name": "ipython",
    "version": 3
   },
   "file_extension": ".py",
   "mimetype": "text/x-python",
   "name": "python",
   "nbconvert_exporter": "python",
   "pygments_lexer": "ipython3",
   "version": "3.6.4"
  }
 },
 "nbformat": 4,
 "nbformat_minor": 2
}
