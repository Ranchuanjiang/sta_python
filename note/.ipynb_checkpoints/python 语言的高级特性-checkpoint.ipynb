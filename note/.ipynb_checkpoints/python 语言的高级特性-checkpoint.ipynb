{
 "cells": [
  {
   "cell_type": "markdown",
   "metadata": {},
   "source": [
    "# python 语言的高级特性\n",
    "\n",
    " "
   ]
  },
  {
   "cell_type": "markdown",
   "metadata": {},
   "source": [
    "## 函数式编程(functionalProgramming)\n",
    " - 基于lambda 演算的一种编程方式\n",
    "     - 程序中只有函数\n",
    "     - 函数可以作为参数, 同样可以作为返回值\n",
    "     - 出纳函数式编程语言: LISP, Haskell\n",
    " - Python 函数式编程知识借鉴函数式编程的一些特点,可以理解成一般函数式一半python\n",
    " - 需要讲述:\n",
    "     - 高级函数\n",
    "     - 返回函数\n",
    "     - 匿名函数\n",
    "     - 装饰器\n",
    "     - 偏函数\n",
    "     "
   ]
  },
  {
   "cell_type": "markdown",
   "metadata": {},
   "source": [
    "### lambda 表达式\n",
    " - 函数: 最大程度复用代码\n",
    "      - 存在问题: 如果函数很小, 很短,则会造成啰嗦\n",
    "      - 如果函数被调用次数少,则会造成浪费\n",
    "      - 对于阅读者来说, 造成乐队流程被迫中断\n",
    " - lambda 表达式(匿名函数)\n",
    "     - 一个表达式, 函数体相对简单\n",
    "     - 不是一个代码块, 仅仅式一个表达式\n",
    "     - 可以有参数,有多个参数也可以, 用, 隔开"
   ]
  },
  {
   "cell_type": "code",
   "execution_count": 5,
   "metadata": {},
   "outputs": [
    {
     "name": "stdout",
     "output_type": "stream",
     "text": [
      "1200\n"
     ]
    },
    {
     "data": {
      "text/plain": [
       "456"
      ]
     },
     "execution_count": 5,
     "metadata": {},
     "output_type": "execute_result"
    }
   ],
   "source": [
    "# lambda 表达式的用法\n",
    "# 1. lambda 开头\n",
    "# 2. 紧跟一定的参数(如果有的话)\n",
    "# 3. 参数后用冒号和表达式主体隔开\n",
    "# 4. 只有一个表达式,所以没有return\n",
    "# 计算一个数的100倍\n",
    "s = lambda x : x * 100\n",
    "print(s(12))\n",
    "s2 = lambda x, y, z : (x * 100) + (y * 10) + z \n",
    "s2(4, 5, 6)\n"
   ]
  },
  {
   "cell_type": "markdown",
   "metadata": {},
   "source": [
    "### 高阶函数\n",
    " - 把函数作为参数使用的函数, 叫做高阶函数\n",
    "     - 函数名称是变量\n",
    "     - 函数名 可以当中参数传到另一个函数里面\n",
    "     "
   ]
  },
  {
   "cell_type": "code",
   "execution_count": 16,
   "metadata": {},
   "outputs": [
    {
     "name": "stdout",
     "output_type": "stream",
     "text": [
      "2700\n",
      "2700\n"
     ]
    }
   ],
   "source": [
    "# 高阶函数举例\n",
    "# funA 是普通函数, 返回传入数字的100 倍数字\n",
    "def funA(n):\n",
    "    return n * 100\n",
    "\n",
    "def funB(n):\n",
    "    return funA(n) * 3\n",
    "\n",
    "print(funB(9))\n",
    "# 高阶函数写法\n",
    "\n",
    "def funC(n, f):\n",
    "    return f(n) * 3\n",
    "\n",
    "print(funC(9, funA))"
   ]
  },
  {
   "cell_type": "markdown",
   "metadata": {},
   "source": [
    "### 系统高阶函数- map\n",
    " - 原意就是映射, 即把集合或者立标的元素, 每一个都按照一定规则进行操作, 生成一个新的列表或者集合\n",
    " - map 函数是系统提供的具有映射功能的函数, 返回值是一个迭代对象"
   ]
  },
  {
   "cell_type": "code",
   "execution_count": 18,
   "metadata": {},
   "outputs": [
    {
     "name": "stdout",
     "output_type": "stream",
     "text": [
      "[0, 10, 20, 30, 40, 50, 60, 70, 80, 90]\n"
     ]
    }
   ],
   "source": [
    "# map 举例\n",
    "# 有一个列表, 想对列表李的每一个元素乘以10 , 并得到新的列表\n",
    "l1 = [i for i in range(10)]\n",
    "def multen(n):\n",
    "    return n * 10\n",
    "\n",
    "l2 = map(multen, l1)\n",
    "l3 = [i for i in l2]\n",
    "print(l3)"
   ]
  },
  {
   "cell_type": "markdown",
   "metadata": {},
   "source": [
    "### reduce\n",
    " - 愿意是归并, 缩减\n",
    " - 把一个可迭代对象最后归并成一个结果\n",
    " - 对于作为参数的函数有要求, 必须有两个参数, 必须有返回结果\n",
    " - reduce([1,2,3,4,5]) \n",
    " "
   ]
  },
  {
   "cell_type": "markdown",
   "metadata": {},
   "source": [
    "### filter 函数\n",
    " - 过滤函数: 对一组数据进行过滤, 符合条件的数据会生成一个新的列表并返回\n",
    " - 跟map 相比较\n",
    "     - 相同: 都对列表的每一个元素逐一进行操作\n",
    "     - 不同: \n",
    "         - map会生成一个跟原来数据相对应的新队列\n",
    "         - filter 不一定, 只要符合条件的才会进入新的数据集合\n",
    "     - fiter函数怎么写:\n",
    "         - 利用给定函数进行判断\n",
    "         - 返回值一定是个布尔值\n",
    "         - 调用格式: filter(f, date), f 是过滤函数,date 是数据\n",
    "         "
   ]
  },
  {
   "cell_type": "code",
   "execution_count": 1,
   "metadata": {},
   "outputs": [
    {
     "name": "stdout",
     "output_type": "stream",
     "text": [
      "<filter object at 0x000001EFF5C55240>\n",
      "[2, 4, 6, 234, 6]\n"
     ]
    }
   ],
   "source": [
    "# filter 案例\n",
    "l = [2,3,4,5,21,5,6,23,7,2345,7,234,6]\n",
    "def isEven(n):\n",
    "    return n % 2 == 0\n",
    "rst = filter(isEven, l)\n",
    "print(rst)\n",
    "print(list(rst))"
   ]
  },
  {
   "cell_type": "markdown",
   "metadata": {},
   "source": [
    "### 高阶函数- 排序\n",
    " - 把一个序列按照给定的算法进行排序\n",
    " - key: 在排序钱对每一个元素进行key函数运算, 可以理解成按照key函数定义的逻辑进行排序\n",
    " \n",
    " "
   ]
  },
  {
   "cell_type": "code",
   "execution_count": 3,
   "metadata": {},
   "outputs": [
    {
     "name": "stdout",
     "output_type": "stream",
     "text": [
      "[1, 2, 2, 3, 4, 4, 5, 6, 7, 126, 213, 523, 565, 734]\n",
      "[734, 565, 523, 213, 126, 7, 6, 5, 4, 4, 3, 2, 2, 1]\n"
     ]
    }
   ],
   "source": [
    "# sorted a案例\n",
    "ls = [1,2,3,4,5,6,7,2,4,523,565,734,126,213]\n",
    "print(sorted(ls))\n",
    "print(sorted(ls, reverse=True))"
   ]
  },
  {
   "cell_type": "code",
   "execution_count": 4,
   "metadata": {},
   "outputs": [
    {
     "name": "stdout",
     "output_type": "stream",
     "text": [
      "[62234, -1231, 126, -123, 123, -49, 5, 3]\n"
     ]
    }
   ],
   "source": [
    "#sorted b案例\n",
    "# 按绝对值倒序排序\n",
    "l = [-123,-49,62234,-1231,3,5,126,123]\n",
    "print(sorted(l, key=abs, reverse=True))"
   ]
  },
  {
   "cell_type": "markdown",
   "metadata": {},
   "source": [
    "### 返回函数\n",
    " - 函数可以返回具体的值\n",
    " - 也可以返回一个函数作为结果\n",
    " \n",
    " \n"
   ]
  },
  {
   "cell_type": "code",
   "execution_count": 6,
   "metadata": {},
   "outputs": [
    {
     "name": "stdout",
     "output_type": "stream",
     "text": [
      "21\n"
     ]
    }
   ],
   "source": [
    " # 返回函数案例\n",
    "def myf1():\n",
    "    def myf2():\n",
    "        return 21\n",
    "    return myf2\n",
    "m = myf1()\n",
    "print(m())"
   ]
  },
  {
   "cell_type": "code",
   "execution_count": 7,
   "metadata": {},
   "outputs": [
    {
     "data": {
      "text/plain": [
       "36"
      ]
     },
     "execution_count": 7,
     "metadata": {},
     "output_type": "execute_result"
    }
   ],
   "source": [
    "# 案例2\n",
    "def myf3(*args):\n",
    "    def myf4():\n",
    "        rst = 0\n",
    "        for i in args:\n",
    "            rst += i\n",
    "        return rst\n",
    "    return myf4\n",
    "\n",
    "f3 = myf3(1,2,3,4,5,6,7,8)\n",
    "f3()"
   ]
  },
  {
   "cell_type": "code",
   "execution_count": 8,
   "metadata": {},
   "outputs": [
    {
     "data": {
      "text/plain": [
       "150"
      ]
     },
     "execution_count": 8,
     "metadata": {},
     "output_type": "execute_result"
    }
   ],
   "source": [
    "f4 = myf3(10,20,30,40,50)\n",
    "f4()"
   ]
  },
  {
   "cell_type": "markdown",
   "metadata": {},
   "source": [
    "## 闭包 (closure)\n",
    " - 当一个函数在内部定义函数, 并且内部的函数应用外部函数的参数或者局部变量, 当内部函数被当作返回值的时候, 相关参数和变量保存在返回的函数中, 这种结果叫闭包\n",
    " - 上面定义的myf3 是标准的闭包结构"
   ]
  },
  {
   "cell_type": "code",
   "execution_count": 10,
   "metadata": {},
   "outputs": [
    {
     "name": "stdout",
     "output_type": "stream",
     "text": [
      "9\n",
      "9\n",
      "9\n"
     ]
    }
   ],
   "source": [
    "# 闭包的常见坑\n",
    "def count():\n",
    "    fs = []\n",
    "    for i in range(1, 4):\n",
    "        def f ():\n",
    "            return i * i\n",
    "        fs.append(f)\n",
    "    return fs\n",
    "f1, f2, f3 = count()\n",
    "print(f1())\n",
    "print(f2())\n",
    "print(f3())"
   ]
  },
  {
   "cell_type": "markdown",
   "metadata": {},
   "source": [
    "### 问题解答\n",
    " - 原因就在于返回的函数引用了变量i，但它并非立刻执行。等到3个函数都返回时，它们所引用的变量i已经变成了3，因此最终结果为9。\n",
    " - 返回闭包时, 返回函数不能引用任何循环变量\n",
    " - 解决方法: 在创建一个函数, 用函数的参数绑定循环变量的当前值, 无论还循环变量以后如何改变, 已经绑定的函数参数值不再改变"
   ]
  },
  {
   "cell_type": "code",
   "execution_count": 13,
   "metadata": {},
   "outputs": [
    {
     "name": "stdout",
     "output_type": "stream",
     "text": [
      "1\n",
      "4\n",
      "9\n"
     ]
    }
   ],
   "source": [
    "# 修改后的闭包\n",
    "def count1():\n",
    "    fs = []\n",
    "    def fn(g):\n",
    "        def f():\n",
    "            return g * g\n",
    "        return f\n",
    "    for i in range(1, 4):\n",
    "        fs.append(fn(i))\n",
    "    return fs\n",
    "f1, f2, f3 = count1()\n",
    "print(f1())\n",
    "print(f2())\n",
    "print(f3())"
   ]
  },
  {
   "cell_type": "markdown",
   "metadata": {},
   "source": [
    "##  装饰器(decrator)\n",
    "- 在不改动函数代码的基础上, 无限扩展函数功能的一种机制, 本质上讲, 装饰器时一个返回函数的高阶函数\n",
    "- 装饰器的使用, 使用@ 语法, 级在每次要扩展到函数定义钱使用@+函数名\n",
    "\n",
    "- 装饰器的好处是, 一旦定义, 则可以装饰任意函数\n",
    "\n",
    "- 一旦被装饰器装饰, 则把装饰器的宫嗯那个直接添加到函数的功能上\n"
   ]
  },
  {
   "cell_type": "code",
   "execution_count": 14,
   "metadata": {},
   "outputs": [
    {
     "name": "stdout",
     "output_type": "stream",
     "text": [
      "当前时间时: Wed Aug 29 22:47:18 2018\n",
      "你好!\n"
     ]
    }
   ],
   "source": [
    "# 装饰器 案例\n",
    "import time\n",
    "def printTime(f):\n",
    "    def wrapper(*args, **kwargs):\n",
    "        print(\"当前时间是: {}\".format(time.ctime()))\n",
    "        return f(*args, **kwargs)\n",
    "    return wrapper\n",
    "\n",
    "@printTime\n",
    "def func():\n",
    "    print(\"你好!\")\n",
    "func()"
   ]
  },
  {
   "cell_type": "markdown",
   "metadata": {},
   "source": [
    "### 偏函数\n",
    " - 参数固定的函数, 相当区域一个有特定参数的函数体\n",
    " - functools.partial的作用是, 把一个函数某些函数固定, 返回新函数\n",
    " "
   ]
  },
  {
   "cell_type": "code",
   "execution_count": 16,
   "metadata": {},
   "outputs": [
    {
     "data": {
      "text/plain": [
       "75075"
      ]
     },
     "execution_count": 16,
     "metadata": {},
     "output_type": "execute_result"
    }
   ],
   "source": [
    "import functools\n",
    "int16 = functools.partial(int, base=16)\n",
    "int16(\"12543\")"
   ]
  },
  {
   "cell_type": "markdown",
   "metadata": {},
   "source": [
    "### zip 函数\n",
    " - 把两个可迭代内容生成一个可迭代的tuple 元素类型组成的内容\n",
    " "
   ]
  },
  {
   "cell_type": "code",
   "execution_count": 4,
   "metadata": {},
   "outputs": [
    {
     "name": "stdout",
     "output_type": "stream",
     "text": [
      "<zip object at 0x000001D88E893708>\n",
      "(1, 10)\n",
      "(2, 20)\n",
      "(3, 30)\n",
      "(4, 40)\n",
      "(5, 50)\n",
      "[]\n"
     ]
    }
   ],
   "source": [
    "# zip 案例\n",
    "l1 = [1, 2, 3, 4, 5]\n",
    "l2 = [10, 20, 30 ,40, 50]\n",
    "l3 = zip(l1, l2)\n",
    "print(l3)\n",
    "for i in l3:\n",
    "    print(i)\n",
    "print(list(l3))"
   ]
  },
  {
   "cell_type": "markdown",
   "metadata": {},
   "source": [
    "### enumerate \n",
    " - 和zip 功能比较像\n",
    " - 对于可迭代对象的每一个元素,配上一个索引,然后索引和内容构成tuple 类型\n",
    " "
   ]
  },
  {
   "cell_type": "code",
   "execution_count": 5,
   "metadata": {},
   "outputs": [
    {
     "name": "stdout",
     "output_type": "stream",
     "text": [
      "[(0, 1), (1, 2), (2, 3), (3, 4), (4, 5)]\n"
     ]
    }
   ],
   "source": [
    "# enumerate 案例\n",
    "l1 = [1, 2, 3, 4, 5]\n",
    "l2 = enumerate(l1)\n",
    "print(list(l2))"
   ]
  },
  {
   "cell_type": "code",
   "execution_count": 6,
   "metadata": {},
   "outputs": [
    {
     "name": "stdout",
     "output_type": "stream",
     "text": [
      "[(100, 1), (101, 2), (102, 3), (103, 4), (104, 5)]\n"
     ]
    }
   ],
   "source": [
    "l1 = [1, 2, 3, 4, 5]\n",
    "l2 = enumerate(l1, start=100)\n",
    "print(list(l2))"
   ]
  },
  {
   "cell_type": "markdown",
   "metadata": {},
   "source": [
    "### collections 模块\n",
    " - namedtuple\n",
    " - deque\n",
    "     - 比较方便的解决了频繁的删除插入带来的效率问题"
   ]
  },
  {
   "cell_type": "code",
   "execution_count": 8,
   "metadata": {},
   "outputs": [
    {
     "name": "stdout",
     "output_type": "stream",
     "text": [
      "1\n",
      "1\n"
     ]
    }
   ],
   "source": [
    "import collections\n",
    "Point = collections.namedtuple(\"Point\", [\"x\", \"y\"])\n",
    "p = Point(1, 2)\n",
    "print(p.x)\n",
    "print(p[0])"
   ]
  },
  {
   "cell_type": "code",
   "execution_count": 10,
   "metadata": {},
   "outputs": [
    {
     "name": "stdout",
     "output_type": "stream",
     "text": [
      "deque([1, 2, 3, 4])\n",
      "deque([0, 1, 2, 3, 4, 5])\n"
     ]
    }
   ],
   "source": [
    "# dequeue \n",
    "from collections import deque\n",
    "q = deque([1, 2, 3, 4])\n",
    "print(q)\n",
    "q.append(5)\n",
    "q.appendleft(0)\n",
    "print(q)"
   ]
  },
  {
   "cell_type": "markdown",
   "metadata": {},
   "source": [
    "### defaultdict\n",
    "- 当直接读取dict 不存在的属性时, 直接返回默认值\n"
   ]
  },
  {
   "cell_type": "code",
   "execution_count": 12,
   "metadata": {},
   "outputs": [
    {
     "name": "stdout",
     "output_type": "stream",
     "text": [
      "defaultdict(<function <lambda> at 0x000001D88E929840>, {'一': 1, '二': 2})\n",
      "没有找到\n"
     ]
    }
   ],
   "source": [
    "from collections import defaultdict\n",
    "func = lambda: \"没有找到\"\n",
    "d = defaultdict(func)\n",
    "d[\"一\"] = 1\n",
    "d[\"二\"] = 2\n",
    "print(d)\n",
    "print(d[\"三\"])"
   ]
  },
  {
   "cell_type": "markdown",
   "metadata": {},
   "source": [
    "### Counter\n",
    " - 统计字符串个数\n",
    " "
   ]
  },
  {
   "cell_type": "code",
   "execution_count": 14,
   "metadata": {},
   "outputs": [
    {
     "name": "stdout",
     "output_type": "stream",
     "text": [
      "Counter({'a': 5, 's': 4, 'd': 3, 'f': 2, 'g': 1})\n",
      "Counter({'生命': 1, '和谐': 1, '民主': 1, '自由': 1, 6: 1})\n"
     ]
    }
   ],
   "source": [
    "from collections import Counter\n",
    "c = Counter(\"asdfgasdfasdasa\")\n",
    "print(c)\n",
    "c1 = Counter([\"生命\", \"和谐\", \"民主\", \"自由\", 6])\n",
    "print(c1)"
   ]
  },
  {
   "cell_type": "code",
   "execution_count": null,
   "metadata": {},
   "outputs": [],
   "source": []
  }
 ],
 "metadata": {
  "kernelspec": {
   "display_name": "Python 3",
   "language": "python",
   "name": "python3"
  },
  "language_info": {
   "codemirror_mode": {
    "name": "ipython",
    "version": 3
   },
   "file_extension": ".py",
   "mimetype": "text/x-python",
   "name": "python",
   "nbconvert_exporter": "python",
   "pygments_lexer": "ipython3",
   "version": "3.6.4"
  }
 },
 "nbformat": 4,
 "nbformat_minor": 2
}
