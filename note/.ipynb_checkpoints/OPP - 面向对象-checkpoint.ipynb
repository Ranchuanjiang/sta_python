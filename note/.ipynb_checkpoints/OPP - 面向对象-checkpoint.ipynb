{
 "cells": [
  {
   "cell_type": "markdown",
   "metadata": {},
   "source": [
    "# OOP- python面向对象\n",
    " - python 面向对象\n",
    " - 面向对象编程\n",
    "     - 基础\n",
    "     - 公有私有\n",
    "     - 继承\n",
    "     - 组合, Mixin\n",
    " - 魔法函数\n",
    "     - 魔法函数概述\n",
    "     - 构造类魔法函数\n",
    "     - 运算类魔法函数\n",
    "    "
   ]
  },
  {
   "cell_type": "markdown",
   "metadata": {},
   "source": [
    "## 1. 面向对象概述(object oriented, oo)\n",
    " - OOP 思想\n",
    "     - 接触倒任意一个任务,首先想到的是任务的构成,是由模型构成的\n",
    " - 几个名词\n",
    "     - OO : 面向对象\n",
    "     - OOA: 面向对象的设计\n",
    "     - OOD: 面向对象的设计\n",
    "     - OOI: xxx 的实现\n",
    "     - OOP: xxx 的编程\n",
    "     - OOA->OOD->OOI: 面向对象的实现过程\n",
    "     "
   ]
  },
  {
   "cell_type": "markdown",
   "metadata": {},
   "source": [
    "## 2. 类和对象的概念\n",
    " - 类: 抽象名词,采标一个集合,共性的事物\n",
    " - 对象: 具象的事物, 单个个体\n",
    " - 类 和对象的关系\n",
    "     - 一个具象,代表一类事物的某个个体\n",
    "     - 一个抽象, 代表是一大类事物\n",
    " - 类中的内容, 应该具有两个内容\n",
    "     - 表明事物的特征, 叫做属性\n",
    "     - 表明事物功能或者动作, 称为成员方法(函数)\n",
    " "
   ]
  },
  {
   "cell_type": "markdown",
   "metadata": {},
   "source": [
    "## 3. 类的基本实现\n",
    " - 类的命名\n",
    "     - 准守变量命名的规范\n",
    "     - 大驼峰(由一个多个单词构成, 每个单词首字母大写,单词跟单词直接相连)\n",
    "     - 尽量避开跟系统命名相似的命名\n",
    " - 如何申明一个类\n",
    "     - 必须用class 关键字\n",
    "     - 类有属性和方法构成,其他不允许出现\n",
    "     - 成员属性定义可以直接使用变量赋值,如果没有值,可以使用None\n",
    "     \n",
    "     \n",
    "     "
   ]
  },
  {
   "cell_type": "code",
   "execution_count": 6,
   "metadata": {},
   "outputs": [],
   "source": [
    "# 案例1 定义一个学生类, 用来形容学生\n",
    "class Student():\n",
    "    pass"
   ]
  },
  {
   "cell_type": "code",
   "execution_count": 7,
   "metadata": {},
   "outputs": [],
   "source": [
    "# 定义一个对象\n",
    "lisi = Student()"
   ]
  },
  {
   "cell_type": "code",
   "execution_count": 11,
   "metadata": {},
   "outputs": [
    {
     "name": "stdout",
     "output_type": "stream",
     "text": [
      "做作业\n"
     ]
    },
    {
     "data": {
      "text/plain": [
       "18"
      ]
     },
     "execution_count": 11,
     "metadata": {},
     "output_type": "execute_result"
    }
   ],
   "source": [
    "class PythonStudent():\n",
    "    name = None # 用None 给不确定的值赋值\n",
    "    age = 18\n",
    "    course = \"python\"\n",
    "    def work(self):\n",
    "        print(\"做作业\")\n",
    "        return None\n",
    "\n",
    "wangwu = PythonStudent()\n",
    "wangwu.work()\n",
    "wangwu.name\n",
    "wangwu.age"
   ]
  },
  {
   "cell_type": "markdown",
   "metadata": {},
   "source": [
    " - 实例化对象成员\n",
    "     - 使用操作符\n",
    "         - ojb.成员属性名称\n",
    "         - obj.成员方法\n",
    "         \n",
    " - 可以通过默认内置变量检查类和对象的所有成员\n",
    "     - 对象所有成员检测\n",
    "         - obj. \\_\\_dict\\_\\_     # dict 前后两个下划线\n",
    "     - 类所有的成员\n",
    "         - class_name.\\_\\_dict\\_\\_ # dict 前后两个下划线"
   ]
  },
  {
   "cell_type": "code",
   "execution_count": 14,
   "metadata": {},
   "outputs": [
    {
     "data": {
      "text/plain": [
       "'lisi'"
      ]
     },
     "execution_count": 14,
     "metadata": {},
     "output_type": "execute_result"
    }
   ],
   "source": [
    "class A():\n",
    "    name = \"lisi\"\n",
    "    age = 19\n",
    "A.__dict__\n",
    "lisi = A()\n",
    "lisi.__dict__\n",
    "lisi.name"
   ]
  },
  {
   "cell_type": "markdown",
   "metadata": {},
   "source": [
    "## 4.类和对象的成员分析\n",
    " - 类和兑现格斗可以存储成员 ,成员可以归类所有,也可以归对象所有\n",
    " - 类存储成员时使用的是与类关联的一个对象\n",
    " - 对象存储成员吗是存储在当前对象中\n",
    " - 对象个访问一个成员时, 如果对象中没有改成员,尝试访问类中的同名成员\n",
    "     - 如果对象中有此成员,一定使用兑现中的成员\n",
    " - 创建对象的时候, 类中的成员不会返给对象中,而是得到一个空对象\n",
    " - 通过对象对类中成员重新赋值或者通过对象添加成员时, 对应成员会保存在对象中, 而不会修改类成员\n",
    " \n",
    "     "
   ]
  },
  {
   "cell_type": "markdown",
   "metadata": {},
   "source": [
    "## 5. 关于self \n",
    " - self 在对象的方法中表示当前对象本身,如果通过对象调用一个方法, 那么该对象会制动传入到当前的第一个参数中\n",
    " - self 并不是关键字, 只是一个用于接收对象的普通参数,理论上可以由任何一个普通变量名代替\n",
    " - 方法中由self 形参的方法称为非绑定类的方法,可以通过对象访问,没有self的是绑定类的方法,只能通过类访问\n",
    " - 使用类访问绑定类的方法时,如果方法中需要访问当前类的成员,可以通过\\_\\_class\\_\\_ 成员名来访问其中的成员\n",
    " "
   ]
  },
  {
   "cell_type": "code",
   "execution_count": 1,
   "metadata": {},
   "outputs": [
    {
     "name": "stdout",
     "output_type": "stream",
     "text": [
      "我的名字是:李四\n",
      "我的年纪是:18\n"
     ]
    }
   ],
   "source": [
    "class Student():\n",
    "    name = \"李四\"\n",
    "    age = 18\n",
    "    def say(self):\n",
    "        print(\"我的名字是:{}\".format(self.name))\n",
    "        print(\"我的年纪是:{}\".format(self.age))\n",
    "\n",
    "zhangsan = Student()\n",
    "zhangsan.say()"
   ]
  },
  {
   "cell_type": "code",
   "execution_count": 9,
   "metadata": {},
   "outputs": [
    {
     "name": "stdout",
     "output_type": "stream",
     "text": [
      "我是王五\n",
      "我18\n",
      "我是王五\n",
      "我18\n",
      "我是李四\n",
      "我19\n",
      "我是张三\n",
      "我21\n"
     ]
    }
   ],
   "source": [
    "# 关于self 的案例\n",
    "class A():\n",
    "    name = \"李四\"\n",
    "    age = 19\n",
    "    def __init__(self):\n",
    "        self.name = \"王五\"\n",
    "        self.age = 18\n",
    "    def say(self):\n",
    "        print(\"我是{}\".format(self.name))\n",
    "        print(\"我{}\".format(self.age))\n",
    "        \n",
    "class B():\n",
    "    name = \"张三\"\n",
    "    age = 21\n",
    "\n",
    "a = A()\n",
    "a.say()\n",
    "A.say(a)\n",
    "A.say(A)\n",
    "A.say(B)"
   ]
  },
  {
   "cell_type": "markdown",
   "metadata": {},
   "source": [
    "## 6. 面向对象的三大特性\n",
    " - 封装\n",
    " - 继承\n",
    " - 多态"
   ]
  },
  {
   "cell_type": "markdown",
   "metadata": {},
   "source": [
    "### 封装\n",
    " - 对对象的成员进行访问限制\n",
    " - 封装的三个级别\n",
    "     - 公开: public\n",
    "     - 受保护的. protected\n",
    "     - 私有的.private\n",
    "     - public,private,protected 不是关键字\n",
    " - 判别对象的位置\n",
    "     - 内部\n",
    "     - 子类中\n",
    "     - 对象外部\n",
    "     \n",
    " - 私有\n",
    "     - 私有成员是最高几倍的封装, 只能在当前类或者对象中访问\n",
    "     - 在成员前面添加两个下划线即可\n",
    "     \n",
    "         class Person():\n",
    "             name = \"李四\" # 共有变量\n",
    "             __age = 19  # 定义私有变量\n",
    "     - python的私有不是真私有, 是一种成为 name mangling的改名策略\n",
    "     - 可以使用对象._classname__attributename 访问\n",
    " - 受保护的封装 protected\n",
    "     - 受保护的封装是将对象成员进行一定级别的封装,然后再类中或者子类中都可以进行访问,但是在外部不可以\n",
    "     - 封装方法: 在成员名称前添加一个下划线即可\n",
    " - 公开的,公共的 public\n",
    "     - 公共的封装世界对成员没有任何操作,任何地方都可以访问\n",
    "     \n",
    "             "
   ]
  },
  {
   "cell_type": "code",
   "execution_count": 12,
   "metadata": {},
   "outputs": [
    {
     "name": "stdout",
     "output_type": "stream",
     "text": [
      "李四\n",
      "19\n"
     ]
    }
   ],
   "source": [
    "class Person():\n",
    "    name = \"李四\" \n",
    "    __age = 19 \n",
    "\n",
    "a = Person()\n",
    "print(a.name)\n",
    "print(a._Person__age)\n"
   ]
  },
  {
   "cell_type": "markdown",
   "metadata": {},
   "source": [
    "### 继承\n",
    " - 继承就是一个类可以获得另外一个类中的成员属性和成员方法\n",
    " - 作用\n",
    "     - 减少代码 怎加代码的复用功能, 同时可以设置类与类之间的关系\n",
    " - 继承与被继承的概念\n",
    "     - 被继承的类是父类 又叫基类 也叫超类\n",
    "     - 用于继承的类又叫子类,又叫派生类\n",
    "     - 继承与被继承一定存在一个is -a 关系\n",
    " - 语法如下\n",
    " - 特征\n",
    "     - 所有类都继承与object 即所有的类都是object 类的子类\n",
    "     - 子类一旦继承父类,在可以使用父类中除私有成员外的所有内容\n",
    "     - 子类继承父类后并没有将父类成员完全赋值到子类中,而是通过引用关系访问调用\n",
    "     - 子类中可以定义多有的成员属性和方法\n",
    "     - 子类中定义的成员和父类成员如果相同 , 优先使用子类成员\n",
    "     - 子类如果向扩充父类的方法,可以在定义新防范的同时访问父类成员来进行代码重用, 可以使用父类名.父类方法的格式来调用父类成员,也可以使用super().父类成员的格式来调用\n",
    " - 继承变量函数的查找顺序问题\n",
    "     - 优先查找自己的变量\n",
    "     - 没有则查找父类\n",
    "     - 构造函数如果奔雷没有定义, 则自动查找调用父类构造函数\n",
    "     - 如果本类由定义,则不再继续向上查找\n",
    " - 构造函数\n",
    "     - 是一类特殊的函数,在类进行实例化之前调用\n",
    "     - 如果定义了构造函数,则实例化时使用构造函数,不查找父类构造函数\n",
    "     - 如果没定义,如果没有则向上 按照 MRO 顺序查找父类得构造函数,直到找到为止.\n",
    "     - 如果子类没定义,父类的构造函数带参数,则构造对象时的参数应该按父类参数构造\n",
    " - super\n",
    "     - 不是关键字是一个类\n",
    "     - super的作用是获取MRO(方法解析顺序) 列表中的第一个类\n",
    "     - super 与父类没有任何实质性的关系, 但通过super可以调用父类\n",
    "     - super 使用两个方法,参见在构造函数中调用父类的构造函数\n",
    " - 单继承和多继承\n",
    "     - 单继承: 每一个类只能继承一个类\n",
    "     - 多继承: 每个类允许继承多个类\n",
    " - 单继承和多继承的优缺点\n",
    "     - 单继承:\n",
    "         - 传承有序逻辑清晰语法简单隐患少\n",
    "         - 功能不能无限扩展, 只能在当前唯一的继承链中扩展\n",
    "     - 多继承:\n",
    "         - 优点: 类的功能扩展方便\n",
    "         - 缺点: 继承关系混乱\n",
    " - 菱形继承钻石继承得问题\n",
    "     - 多个子类继承自同一个父类,这些子类又被用一个类继承,于是继承关系图形形成了一个菱形图谱\n",
    "     - 关于多继承得MRO\n",
    "         - MRO 就是多继承中用于保存继承顺序得一个列表\n",
    "         - python 本身采用c3 算法来 多继承得菱形继承进行计算得结果\n",
    "         - MRO 列表得计算原则:\n",
    "             - 子类永远在父类前面\n",
    "             - 如果多个分类,则根据继承语法中括号内得书写顺序存放\n",
    "             - 如果多个类击继承了同一个父类,孙子类中中i会选区击沉关于发括号中第一个父类得父类\n",
    "         \n",
    "         \n",
    "         \n",
    "         "
   ]
  },
  {
   "cell_type": "code",
   "execution_count": 5,
   "metadata": {},
   "outputs": [
    {
     "name": "stdout",
     "output_type": "stream",
     "text": [
      "sleeping......\n",
      "Noname\n",
      "0\n",
      "考试!!!\n"
     ]
    }
   ],
   "source": [
    "# 继承的语法\n",
    "# 任何类都有一个父类 object\n",
    "class Person():\n",
    "    name = \"Noname\"\n",
    "    age = 0\n",
    "    def sleep(self):\n",
    "        print(\"sleeping......\")\n",
    "class Teacher(Person):\n",
    "    def make_test(self):\n",
    "        print(\"考试!!!\")\n",
    "\n",
    "t = Teacher()\n",
    "t.sleep()\n",
    "print(t.name)\n",
    "print(t.age)\n",
    "t.make_test()"
   ]
  },
  {
   "cell_type": "code",
   "execution_count": 8,
   "metadata": {},
   "outputs": [
    {
     "name": "stdout",
     "output_type": "stream",
     "text": [
      "王五\n",
      "小小\n",
      "sleeping......\n",
      "9528\n"
     ]
    }
   ],
   "source": [
    "class Person():\n",
    "    name = \"Noname\"\n",
    "    age = 19\n",
    "    __score = 59\n",
    "    _petname = \"小小\"\n",
    "    def sleep(self):\n",
    "        print(\"sleeping......\")\n",
    "\n",
    "class Teacher(Person):\n",
    "    name = \"王五\"  # 子类和父类由统一名称变量 优先用子类的\n",
    "    teacher_id = 9528\n",
    "    def make_test(self):\n",
    "        print(\"考试!!!\")\n",
    "\n",
    "t = Teacher()\n",
    "print(t.name)\n",
    "print(t._petname)\n",
    "# print(t.__score)\n",
    "t.sleep()\n",
    "print(t.teacher_id)"
   ]
  },
  {
   "cell_type": "code",
   "execution_count": 13,
   "metadata": {},
   "outputs": [
    {
     "name": "stdout",
     "output_type": "stream",
     "text": [
      "赚钱!\n",
      "考试!!!\n"
     ]
    }
   ],
   "source": [
    "# 子类扩充父类功能的案例\n",
    "class Person():\n",
    "    name = \"Noname\"\n",
    "    age = 19\n",
    "    __score = 59\n",
    "    _petname = \"小小\"\n",
    "    def sleep(self):\n",
    "        print(\"sleeping......\")\n",
    "    def work(self):\n",
    "        print(\"赚钱!\")\n",
    "        \n",
    "class Teacher(Person):\n",
    "    name = \"王五\"  \n",
    "    teacher_id = 9528\n",
    "    def make_test(self):\n",
    "        print(\"考试!!!\")\n",
    "    def work(self):\n",
    "        super().work() # 扩展和父类同名的方法 (两种方法)\n",
    "        # Person.work(self)\n",
    "        self.make_test()\n",
    "\n",
    "t = Teacher()\n",
    "t.work()"
   ]
  },
  {
   "cell_type": "code",
   "execution_count": 14,
   "metadata": {},
   "outputs": [
    {
     "name": "stdout",
     "output_type": "stream",
     "text": [
      "我是一只没有感情的狗!\n"
     ]
    }
   ],
   "source": [
    "# 构造函数\n",
    "class Dog():\n",
    "    def __init__(self):\n",
    "        print(\"我是一只没有感情的狗!\")\n",
    "\n",
    "kaka = Dog()"
   ]
  },
  {
   "cell_type": "code",
   "execution_count": 16,
   "metadata": {},
   "outputs": [
    {
     "name": "stdout",
     "output_type": "stream",
     "text": [
      "我是一只没有感情的狗!\n",
      "看什么看 你是哺乳动物!\n"
     ]
    }
   ],
   "source": [
    "# 继承中的构造函数\n",
    "class Animel():\n",
    "    def __init__(self):\n",
    "        print(\"你是一个动物!\")\n",
    "\n",
    "class BuruAnimel(Animel):\n",
    "    def __init__(self):\n",
    "        print(\"看什么看 你是哺乳动物!\")\n",
    "\n",
    "class Dog(BuruAnimel):\n",
    "    def __init__(self):\n",
    "        print(\"我是一只没有感情的狗!\")\n",
    "class Cat(BuruAnimel):\n",
    "    pass\n",
    "\n",
    "kak = Dog()   \n",
    "gugu = Cat()"
   ]
  },
  {
   "cell_type": "code",
   "execution_count": 18,
   "metadata": {},
   "outputs": [
    {
     "name": "stdout",
     "output_type": "stream",
     "text": [
      "<class 'type'>\n",
      "Help on class super in module builtins:\n",
      "\n",
      "class super(object)\n",
      " |  super() -> same as super(__class__, <first argument>)\n",
      " |  super(type) -> unbound super object\n",
      " |  super(type, obj) -> bound super object; requires isinstance(obj, type)\n",
      " |  super(type, type2) -> bound super object; requires issubclass(type2, type)\n",
      " |  Typical use to call a cooperative superclass method:\n",
      " |  class C(B):\n",
      " |      def meth(self, arg):\n",
      " |          super().meth(arg)\n",
      " |  This works for class methods too:\n",
      " |  class C(B):\n",
      " |      @classmethod\n",
      " |      def cmeth(cls, arg):\n",
      " |          super().cmeth(arg)\n",
      " |  \n",
      " |  Methods defined here:\n",
      " |  \n",
      " |  __get__(self, instance, owner, /)\n",
      " |      Return an attribute of instance, which is of type owner.\n",
      " |  \n",
      " |  __getattribute__(self, name, /)\n",
      " |      Return getattr(self, name).\n",
      " |  \n",
      " |  __init__(self, /, *args, **kwargs)\n",
      " |      Initialize self.  See help(type(self)) for accurate signature.\n",
      " |  \n",
      " |  __new__(*args, **kwargs) from builtins.type\n",
      " |      Create and return a new object.  See help(type) for accurate signature.\n",
      " |  \n",
      " |  __repr__(self, /)\n",
      " |      Return repr(self).\n",
      " |  \n",
      " |  ----------------------------------------------------------------------\n",
      " |  Data descriptors defined here:\n",
      " |  \n",
      " |  __self__\n",
      " |      the instance invoking super(); may be None\n",
      " |  \n",
      " |  __self_class__\n",
      " |      the type of the instance invoking super(); may be None\n",
      " |  \n",
      " |  __thisclass__\n",
      " |      the class invoking super()\n",
      "\n"
     ]
    }
   ],
   "source": [
    "print(type(super))\n",
    "help(super)"
   ]
  },
  {
   "cell_type": "code",
   "execution_count": 1,
   "metadata": {},
   "outputs": [
    {
     "name": "stdout",
     "output_type": "stream",
     "text": [
      "(<class '__main__.A'>, <class 'object'>)\n"
     ]
    }
   ],
   "source": [
    "class A():\n",
    "    pass\n",
    "class B():\n",
    "    pass\n",
    "print(A.__mro__)\n"
   ]
  },
  {
   "cell_type": "code",
   "execution_count": 8,
   "metadata": {},
   "outputs": [
    {
     "name": "stdout",
     "output_type": "stream",
     "text": [
      "我要飞的更高!\n",
      "游泳啊!\n",
      "是人就起来加班!!!\n",
      "是人就起来加班!!!\n"
     ]
    }
   ],
   "source": [
    "# 多继承例子\n",
    "# 子类可以直接拥有父类得属性和方法,私有属性和方法除外\n",
    "class Fish():\n",
    "    def __init__(self, name):\n",
    "        self.name = name\n",
    "        \n",
    "    def swim(self):\n",
    "        print(\"游泳啊!\")\n",
    "\n",
    "class Bird():\n",
    "    def __init__(self, name):\n",
    "        self.name = name\n",
    "        \n",
    "    def fly(self):\n",
    "        print(\"我要飞的更高!\")\n",
    "\n",
    "class Person():\n",
    "    def __init__(self, name):\n",
    "        self.name = name\n",
    "        \n",
    "    def work(self):\n",
    "        print(\"是人就起来加班!!!\")\n",
    "\n",
    "class SuperMan(Person, Bird, Fish):\n",
    "    def __init__(self, name):\n",
    "        self.name = name\n",
    "\n",
    "a = SuperMan(\"王五\")\n",
    "a.fly()\n",
    "a.swim()\n",
    "a.work()\n",
    "    \n",
    "# 单继承例子\n",
    "class Student(Person):\n",
    "    def __init__(self, name):\n",
    "        self.name = name\n",
    "\n",
    "b = Student(\"李四\")\n",
    "b.work()\n",
    "    "
   ]
  },
  {
   "cell_type": "code",
   "execution_count": null,
   "metadata": {},
   "outputs": [],
   "source": [
    "# 菱形继承问题\n",
    "class A():\n",
    "    pass\n",
    "class B(A):\n",
    "    pass\n",
    "class C(A):\n",
    "    pass\n",
    "class D(B, C):\n",
    "    pass"
   ]
  },
  {
   "cell_type": "code",
   "execution_count": 9,
   "metadata": {},
   "outputs": [
    {
     "name": "stdout",
     "output_type": "stream",
     "text": [
      "这是构造函数...\n"
     ]
    }
   ],
   "source": [
    "# 构造函数例子\n",
    "class Person():\n",
    "    def __init__(self):\n",
    "        self.name = \"NOName\"\n",
    "        self.age =  19\n",
    "        self.address = \"Studentwhonheim\"\n",
    "        print(\"这是构造函数...\")\n",
    "    \n",
    "\n",
    "# 实例化一个人       \n",
    "p = Person()"
   ]
  },
  {
   "cell_type": "code",
   "execution_count": 20,
   "metadata": {},
   "outputs": [
    {
     "name": "stdout",
     "output_type": "stream",
     "text": [
      "B\n",
      "C\n"
     ]
    }
   ],
   "source": [
    "# 构造函数得调用顺序\n",
    "# 如果子类没有些构造函数,则自动向上查找,直到找到位置 \n",
    "class A():\n",
    "    def __init__(self):\n",
    "        print(\"A\")\n",
    "\n",
    "class B(A):\n",
    "    def __init__(self, name ):\n",
    "        self.name = name\n",
    "        print(\"B\")\n",
    "        \n",
    "class C(B):\n",
    "    # 第一种调用 父类构造函数\n",
    "    \"\"\"\n",
    "    def __init__(self, name):\n",
    "        B.__init__(self, name)\n",
    "        print(\"C\")\n",
    "    \"\"\"\n",
    "    # 第二种调用父类函数\n",
    "    def __init__(self, name):\n",
    "        super().__init__(name)\n",
    "        print(\"C\")\n",
    "# 此时 ,首先查找c得构造函数\n",
    "# 如果没有则向上 按照 MRO 顺序查找父类得构造函数,直到找到为止\n",
    "c = C(\"王五\")"
   ]
  },
  {
   "cell_type": "markdown",
   "metadata": {},
   "source": [
    "## 多态\n",
    " - 多态就是同一个对象在不同情况下由不同得状态出现\n",
    " - 多态不是语法,是一种设计思想\n",
    " - 多态性: 一种调用方式, 不同得执行效果\n",
    " - 多态: 同一十五得多种形态, 动物分为人类, 狗类, 猪类\n",
    " - Mixin 设计模式\n",
    "     - 主要采用多继承方式对类得功能进行扩展\n",
    " - 我们使用多继承语法来实现Mixin\n",
    " - 使用mixin实现多继承得时候非常小心\n",
    "     - 首先他必须表示某一单一功能, 而不是某个物品\n",
    "     - 职责必须单一,如果有多个功能免责写多个Mixin\n",
    "     - Mixin 不能依赖与子类得实现\n",
    "     - 子类即使设有继承这个Mixin类 ,也能照样工作,只是缺少了某个功能\n",
    " - Mixin 的优点\n",
    "     - 使用Mixin 可以在不对类进行任何修改的情况下扩充功能\n",
    "     - 可以方便的组织和维护不同的功能组建的划分\n",
    "     - 可以根据需要任意调整功能类的组合\n",
    "     - 可以避免创建很多新的类,导致类的继承混乱\n",
    "     "
   ]
  },
  {
   "cell_type": "markdown",
   "metadata": {},
   "source": [
    "## 类相关函数\n",
    " - issubclass():检测一个类是不是另一个类的子类\n",
    " - isinstance() : 检车一个对象是不是一个类的实例\n",
    " - hasattr(): 检测一个对象是否有成员XXX\n",
    " - getattr() : \n",
    " - setattr():\n",
    " - delattr():\n",
    " - dir(): 获取对象的成员列表\n",
    " "
   ]
  },
  {
   "cell_type": "code",
   "execution_count": 3,
   "metadata": {},
   "outputs": [
    {
     "name": "stdout",
     "output_type": "stream",
     "text": [
      "True\n",
      "False\n",
      "False\n"
     ]
    }
   ],
   "source": [
    "# issubclass() 案例\n",
    "class A():\n",
    "    pass\n",
    "\n",
    "class B(A):\n",
    "    pass\n",
    "\n",
    "class C():\n",
    "    pass\n",
    "print(issubclass(B, A))\n",
    "print(issubclass(A, B))\n",
    "print(issubclass(C, A))\n",
    "    "
   ]
  },
  {
   "cell_type": "code",
   "execution_count": 6,
   "metadata": {},
   "outputs": [
    {
     "name": "stdout",
     "output_type": "stream",
     "text": [
      "False\n",
      "True\n"
     ]
    }
   ],
   "source": [
    "# isinstance() 案例\n",
    "class A():\n",
    "    pass\n",
    "\n",
    "a = A()\n",
    "print(isinstance(A ,A))\n",
    "print(isinstance(a , A))\n"
   ]
  },
  {
   "cell_type": "code",
   "execution_count": 9,
   "metadata": {},
   "outputs": [
    {
     "name": "stdout",
     "output_type": "stream",
     "text": [
      "True\n",
      "False\n"
     ]
    }
   ],
   "source": [
    "# hasattr() 案例\n",
    "class A():\n",
    "    name = \"NONAME\"\n",
    "a = A()\n",
    "print(hasattr(a, \"name\"))\n",
    "print(hasattr(a, \"age\"))"
   ]
  },
  {
   "cell_type": "code",
   "execution_count": 10,
   "metadata": {},
   "outputs": [
    {
     "name": "stdout",
     "output_type": "stream",
     "text": [
      "Help on built-in function setattr in module builtins:\n",
      "\n",
      "setattr(obj, name, value, /)\n",
      "    Sets the named attribute on the given object to the specified value.\n",
      "    \n",
      "    setattr(x, 'y', v) is equivalent to ``x.y = v''\n",
      "\n"
     ]
    }
   ],
   "source": [
    "help(setattr)"
   ]
  },
  {
   "cell_type": "code",
   "execution_count": 16,
   "metadata": {},
   "outputs": [
    {
     "name": "stdout",
     "output_type": "stream",
     "text": [
      "{'__module__': '__main__', '__dict__': <attribute '__dict__' of 'A' objects>, '__weakref__': <attribute '__weakref__' of 'A' objects>, '__doc__': None, 'name': '张三'}\n",
      "张三\n"
     ]
    }
   ],
   "source": [
    "# setattr() 案例\n",
    "class A():\n",
    "    pass\n",
    "\n",
    "setattr(A , \"name\", \"张三\")\n",
    "print(A.__dict__)\n",
    "a = A()\n",
    "print(a.name)"
   ]
  },
  {
   "cell_type": "code",
   "execution_count": 11,
   "metadata": {},
   "outputs": [
    {
     "name": "stdout",
     "output_type": "stream",
     "text": [
      "Help on built-in function getattr in module builtins:\n",
      "\n",
      "getattr(...)\n",
      "    getattr(object, name[, default]) -> value\n",
      "    \n",
      "    Get a named attribute from an object; getattr(x, 'y') is equivalent to x.y.\n",
      "    When a default argument is given, it is returned when the attribute doesn't\n",
      "    exist; without it, an exception is raised in that case.\n",
      "\n"
     ]
    }
   ],
   "source": [
    "help(getattr)"
   ]
  },
  {
   "cell_type": "code",
   "execution_count": 17,
   "metadata": {},
   "outputs": [
    {
     "data": {
      "text/plain": [
       "'张三'"
      ]
     },
     "execution_count": 17,
     "metadata": {},
     "output_type": "execute_result"
    }
   ],
   "source": [
    "# getattr() 案例\n",
    "class A():\n",
    "    name = \"张三\"\n",
    "\n",
    "getattr(A , \"name\")"
   ]
  },
  {
   "cell_type": "code",
   "execution_count": 18,
   "metadata": {},
   "outputs": [
    {
     "name": "stdout",
     "output_type": "stream",
     "text": [
      "Help on built-in function delattr in module builtins:\n",
      "\n",
      "delattr(obj, name, /)\n",
      "    Deletes the named attribute from the given object.\n",
      "    \n",
      "    delattr(x, 'y') is equivalent to ``del x.y''\n",
      "\n"
     ]
    }
   ],
   "source": [
    "help(delattr)"
   ]
  },
  {
   "cell_type": "code",
   "execution_count": 21,
   "metadata": {},
   "outputs": [
    {
     "name": "stdout",
     "output_type": "stream",
     "text": [
      "{'__module__': '__main__', '__dict__': <attribute '__dict__' of 'A' objects>, '__weakref__': <attribute '__weakref__' of 'A' objects>, '__doc__': None}\n"
     ]
    }
   ],
   "source": [
    "# delattr(): 案例\n",
    "class A():\n",
    "    name = \"张三\"\n",
    "\n",
    "delattr(A, \"name\")\n",
    "print(A.__dict__)"
   ]
  },
  {
   "cell_type": "markdown",
   "metadata": {},
   "source": [
    "## 类成员描述符 (属性):\n",
    " - 类的成员描述符是为了在类中对类的成员属性进行相关操作而创建的一种方式\n",
    "     - get: 获取属性\n",
    "     - set: 修改或者添加属性\n",
    "     - del: 删除属性\n",
    " - 如果想使用类的成员描述符,大概有三种方法\n",
    "     - 使用类实现描述器\n",
    "     - 使用属性修饰符\n",
    "     - 使用property() 函数:\n",
    "         - 语法: property(fget, fset, fdel, doc)\n",
    " "
   ]
  },
  {
   "cell_type": "code",
   "execution_count": 25,
   "metadata": {},
   "outputs": [
    {
     "name": "stdout",
     "output_type": "stream",
     "text": [
      "我的名字是:ZHANG SAN\n"
     ]
    }
   ],
   "source": [
    "#案例 \n",
    "class Student():\n",
    "    \n",
    "    def __init__(self, name, age):\n",
    "        self.name = name.upper()\n",
    "        self.age = age\n",
    "        \n",
    "    def intor(self):\n",
    "        print(\"我的名字是:{}\".format(self.name))\n",
    "        \n",
    "s1 = Student(\"zhang san\", 19)\n",
    "s1.intor()"
   ]
  },
  {
   "cell_type": "code",
   "execution_count": 38,
   "metadata": {},
   "outputs": [
    {
     "name": "stdout",
     "output_type": "stream",
     "text": [
      "LISILISI\n"
     ]
    }
   ],
   "source": [
    "# property()案例:\n",
    "class Person():\n",
    "    def fget(self):\n",
    "        return self.value.upper()\n",
    "        \n",
    "    def fset(self, name):\n",
    "        self.value = name * 2\n",
    "        \n",
    "    def fdel(self):\n",
    "        self.value = None\n",
    "        \n",
    "    name = property(fget, fset, fdel, \"操作一下\")\n",
    "\n",
    "p1 = Person()\n",
    "p1.name = \"lisi\"\n",
    "print(p1.name)\n",
    "        "
   ]
  },
  {
   "cell_type": "code",
   "execution_count": 1,
   "metadata": {},
   "outputs": [
    {
     "ename": "SyntaxError",
     "evalue": "unexpected EOF while parsing (<ipython-input-1-3b20610a0f0d>, line 3)",
     "output_type": "error",
     "traceback": [
      "\u001b[1;36m  File \u001b[1;32m\"<ipython-input-1-3b20610a0f0d>\"\u001b[1;36m, line \u001b[1;32m3\u001b[0m\n\u001b[1;33m    class Person():\u001b[0m\n\u001b[1;37m                   ^\u001b[0m\n\u001b[1;31mSyntaxError\u001b[0m\u001b[1;31m:\u001b[0m unexpected EOF while parsing\n"
     ]
    }
   ],
   "source": [
    "# 在用户输入年龄的时候 可以输入整数, 小数,浮点数\n",
    "# 在内不能为了数据清洁, 我们统一 需要保存整数,直接舍去小数点\n",
    "class Person():\n",
    "    class Person():\n",
    "    def fget(self):\n",
    "        return int(self.value)\n",
    "        \n",
    "    def fset(self, age):\n",
    "        self.value = age\n",
    "        \n",
    "    def fdel(self):\n",
    "        self.value = None\n",
    "        \n",
    "    age = property(fget, fset, fdel, \"操作一下\")\n",
    "\n",
    "p1 = Person()\n",
    "p1 = 4.5\n",
    "print(p1.age)\n",
    "p1 = 4.576\n",
    "print(p1.age)\n",
    "p1 = 4.0\n",
    "print(p1.age)"
   ]
  },
  {
   "cell_type": "code",
   "execution_count": null,
   "metadata": {},
   "outputs": [],
   "source": []
  }
 ],
 "metadata": {
  "kernelspec": {
   "display_name": "Python 3",
   "language": "python",
   "name": "python3"
  },
  "language_info": {
   "codemirror_mode": {
    "name": "ipython",
    "version": 3
   },
   "file_extension": ".py",
   "mimetype": "text/x-python",
   "name": "python",
   "nbconvert_exporter": "python",
   "pygments_lexer": "ipython3",
   "version": "3.6.4"
  }
 },
 "nbformat": 4,
 "nbformat_minor": 2
}
