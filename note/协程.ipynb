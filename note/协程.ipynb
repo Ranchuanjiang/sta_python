{
 "cells": [
  {
   "cell_type": "markdown",
   "metadata": {},
   "source": [
    "# 协程\n",
    " - 参考资料\n",
    "     - python.jobbole.com/86481/\n",
    "     - python.jobbole.com/87310/\n",
    "     - segmentfault.com/a/1190000009781688\n",
    "## 迭代器\n",
    " - 可迭代(Iterable): 直接作用于for循环的变量\n",
    " - 迭代器(Iterator): 不但可以作用于for 循环, 还可以被next() 调用\n",
    " - list 是典型的可迭代对象, 但是不是迭代器\n",
    " \n",
    " "
   ]
  },
  {
   "cell_type": "code",
   "execution_count": 1,
   "metadata": {},
   "outputs": [
    {
     "name": "stdout",
     "output_type": "stream",
     "text": [
      "0\n",
      "1\n",
      "2\n",
      "3\n",
      "4\n",
      "5\n",
      "6\n",
      "7\n",
      "8\n",
      "9\n",
      "0\n",
      "1\n",
      "2\n",
      "3\n",
      "4\n"
     ]
    }
   ],
   "source": [
    "# 可迭代\n",
    "l = [i for i in range(10)]\n",
    "for idx in l:\n",
    "    print(idx)\n",
    "# range shi 迭代器\n",
    "for i in range(5):\n",
    "    print(i)\n"
   ]
  },
  {
   "cell_type": "code",
   "execution_count": 5,
   "metadata": {},
   "outputs": [
    {
     "name": "stdout",
     "output_type": "stream",
     "text": [
      "True\n",
      "False\n"
     ]
    }
   ],
   "source": [
    "# isinstance 案例\n",
    "# 判断某个变量是否是一个实例\n",
    "# 判断是否可迭代\n",
    "from collections import Iterable, Iterator\n",
    "l1 = [1, 2, 3, 4]\n",
    "print(isinstance(l1, Iterable))\n",
    "print(isinstance(l1, Iterator))"
   ]
  },
  {
   "cell_type": "code",
   "execution_count": 7,
   "metadata": {},
   "outputs": [
    {
     "name": "stdout",
     "output_type": "stream",
     "text": [
      "True\n",
      "False\n",
      "True\n"
     ]
    }
   ],
   "source": [
    "# iter 函数\n",
    "s = \"好好学习天天向上\"\n",
    "print(isinstance(s, Iterable))\n",
    "print(isinstance(s, Iterator))\n",
    "s = iter(s)\n",
    "print(isinstance(s, Iterator))"
   ]
  },
  {
   "cell_type": "markdown",
   "metadata": {},
   "source": [
    "# 生成器\n",
    " - generator : 一边循环一边计算下一个元素的机制/算法\n",
    " - 需要满足三个条件\n",
    "     - 每次调用都产生出for循环需要的下一个元素\n",
    "     - 如果达到最后一个后, 爆出StopIteration 异常\n",
    "     - 可以被next() 函数调用\n",
    " - 如何生成一个生成器\n",
    "     - 直接使用\n",
    "     - 如果函数中包含yield, 则这个函数就叫生成器\n",
    "     - next() 调用函数, 遇到yield 返回\n",
    " - range() 比较常用且典型的生成器\n",
    " "
   ]
  },
  {
   "cell_type": "code",
   "execution_count": 17,
   "metadata": {},
   "outputs": [
    {
     "name": "stdout",
     "output_type": "stream",
     "text": [
      "<class 'list'>\n",
      "<class 'generator'>\n"
     ]
    }
   ],
   "source": [
    "# 生成器  案例 直接使用\n",
    "L = [x*x for x in range(5)] # 列表生成器\n",
    "g = (x*x for x in range(5)) # 生成器\n",
    "print(type(L))\n",
    "print(type(g))"
   ]
  },
  {
   "cell_type": "code",
   "execution_count": 20,
   "metadata": {},
   "outputs": [],
   "source": [
    "# 函数生成器案例\n",
    "def func():\n",
    "    n = 0\n",
    "    while n < 100:\n",
    "        yield n\n",
    "        n +=1\n"
   ]
  },
  {
   "cell_type": "code",
   "execution_count": 25,
   "metadata": {},
   "outputs": [
    {
     "name": "stdout",
     "output_type": "stream",
     "text": [
      "0\n",
      "1\n",
      "2\n",
      "3\n",
      "4\n",
      "5\n",
      "6\n",
      "7\n",
      "8\n",
      "9\n"
     ]
    }
   ],
   "source": [
    "f = func()\n",
    "for i in range(5):\n",
    "    print(next(f))\n",
    "for i in range(5):\n",
    "    print(next(f))\n"
   ]
  },
  {
   "cell_type": "code",
   "execution_count": 30,
   "metadata": {},
   "outputs": [
    {
     "name": "stdout",
     "output_type": "stream",
     "text": [
      "1\n",
      "1\n",
      "2\n",
      "3\n",
      "5\n",
      "8\n",
      "13\n",
      "21\n",
      "34\n",
      "55\n"
     ]
    }
   ],
   "source": [
    "# Fibonacci 数求接\n",
    "def fib():\n",
    "    a, b =  0, 1\n",
    "    while True:\n",
    "        yield b\n",
    "        a, b = b, a+b\n",
    "        \n",
    "g = fib()\n",
    "for i in range(10):\n",
    "    print(next(g))\n",
    "        "
   ]
  },
  {
   "cell_type": "markdown",
   "metadata": {},
   "source": [
    "# 协程\n",
    " - 历史\n",
    "     - 3.4 引入协程, 用yield 实现\n",
    "     - 3.5 引入协程语法\n",
    "     - 实现多额协程比较好的包有, asynio, tornado, gevent\n",
    " - 定义:\n",
    "     - 是为了非抢占式多任务产生子程序的计算机程序组件, 协程允许不同入口点在不同位置暂停或者开始执行任务\n",
    "     \n",
    " - 从技术角度讲, 协程就是一个你可以暂停执行的函数, 或者干脆把协程理解为生成器\n",
    " - 协程的实现:\n",
    "     - yield 返回\n",
    "     - send 调用\n",
    " - 协程的四个状态\n",
    "     - insppect.getgeneratorstate(...) 函数确定, 该函数会返回下雨字符串中的一个\n",
    "     - GEN_CREATED: 等待开始执行\n",
    "     - GEN_RUNNING: 解释器正在执行\n",
    "     - GEN_SUPPENED: 在yield 表达式处暂停\n",
    "     - GEN-CLOSED: 执行结束\n",
    "     - next 预激 (prime)\n",
    " - 协程终止\n",
    "     - 协程中未处理的异常会向上冒泡, 传给next 函数 或send 方法的调用(即储大协程的对象)\n",
    "     - 终止协程的一种方式: 发送莫格哨符值, 让协程退出. 内置的None 和Ellipsis 等常量经常用作哨符值==.\n",
    " - yield from\n",
    "     - 调用协程为了得到返回值, 协程必须正常终止\n",
    "     - 生成器正常终止, 会发出StopItertion 异常, 异常对象的vlaue 属性保存返回值\n",
    "     - yield from从内部捕获StopIteration 异常\n",
    "     - 委派生成器\n",
    "         - 包含yield from 表达式的生成器函数\n",
    "         - 委派生成器 在yield from 表达式出暂停, 调用方可以直接把数据发给子生成器\n",
    "         - 子生成器,在把产出的值发给调用方\n",
    "         - 子生成器在最后, 解释器会抛出StopIteration, 并返回值附加到对象上去\n",
    "  "
   ]
  },
  {
   "cell_type": "code",
   "execution_count": 33,
   "metadata": {},
   "outputs": [
    {
     "name": "stdout",
     "output_type": "stream",
     "text": [
      "主线程开启\n",
      "启动\n",
      "结束!\n",
      "结束 我走了\n"
     ]
    },
    {
     "ename": "StopIteration",
     "evalue": "",
     "output_type": "error",
     "traceback": [
      "\u001b[1;31m---------------------------------------------------------------------------\u001b[0m",
      "\u001b[1;31mStopIteration\u001b[0m                             Traceback (most recent call last)",
      "\u001b[1;32m<ipython-input-33-60b5c1f4279d>\u001b[0m in \u001b[0;36m<module>\u001b[1;34m()\u001b[0m\n\u001b[0;32m      9\u001b[0m \u001b[0mnext\u001b[0m\u001b[1;33m(\u001b[0m\u001b[0msc\u001b[0m\u001b[1;33m)\u001b[0m \u001b[1;31m# 预激\u001b[0m\u001b[1;33m\u001b[0m\u001b[0m\n\u001b[0;32m     10\u001b[0m \u001b[0mprint\u001b[0m\u001b[1;33m(\u001b[0m\u001b[1;34m\"结束!\"\u001b[0m\u001b[1;33m)\u001b[0m\u001b[1;33m\u001b[0m\u001b[0m\n\u001b[1;32m---> 11\u001b[1;33m \u001b[0msc\u001b[0m\u001b[1;33m.\u001b[0m\u001b[0msend\u001b[0m\u001b[1;33m(\u001b[0m\u001b[1;34m\"我走了\"\u001b[0m\u001b[1;33m)\u001b[0m\u001b[1;33m\u001b[0m\u001b[0m\n\u001b[0m",
      "\u001b[1;31mStopIteration\u001b[0m: "
     ]
    }
   ],
   "source": [
    "# 协程代码实现\n",
    "def simple_coroutine():\n",
    "    print(\"启动\")\n",
    "    x = yield\n",
    "    print(\"结束\", x)\n",
    "\n",
    "print(\"主线程开启\")\n",
    "sc = simple_coroutine() # 创建协程\n",
    "next(sc) # 预激\n",
    "print(\"结束!\")\n",
    "sc.send(\"我走了\")\n"
   ]
  },
  {
   "cell_type": "code",
   "execution_count": 1,
   "metadata": {},
   "outputs": [
    {
     "name": "stdout",
     "output_type": "stream",
     "text": [
      "开始了\n",
      "5\n",
      "--> 5 6\n",
      "11\n",
      "--> 5 6 7\n",
      "18\n"
     ]
    }
   ],
   "source": [
    "# 协程案例2\n",
    "def func(a):\n",
    "    print(\"开始了\")\n",
    "    b = yield a\n",
    "    print(\"-->\", a, b)\n",
    "    c = yield a+b\n",
    "    print(\"-->\", a, b, c)\n",
    "    d = yield a+b+c\n",
    "    \n",
    "sc = func(5)\n",
    "aa = next(sc)\n",
    "print(aa)\n",
    "bb = sc.send(6)\n",
    "print(bb)\n",
    "cc = sc.send(7)\n",
    "print(cc)\n"
   ]
  },
  {
   "cell_type": "code",
   "execution_count": 3,
   "metadata": {},
   "outputs": [
    {
     "name": "stdout",
     "output_type": "stream",
     "text": [
      "['A', 'B']\n",
      "['A', 'B']\n"
     ]
    }
   ],
   "source": [
    "# yield from 案例\n",
    "def g():\n",
    "    for i in \"AB\":\n",
    "        yield i\n",
    "print(list(g()))\n",
    "\n",
    "def f():\n",
    "    yield from \"AB\"\n",
    "print(list(f()))"
   ]
  },
  {
   "cell_type": "code",
   "execution_count": 7,
   "metadata": {},
   "outputs": [
    {
     "name": "stdout",
     "output_type": "stream",
     "text": [
      "{'boys_1': Res(count=9, average=40.422222222222224), 'boys_2': Res(count=9, average=1.3888888888888888)}\n"
     ]
    }
   ],
   "source": [
    "# 委派生成器\n",
    "\"\"\"\n",
    "解释: \n",
    "1. 外层for 循环每次迭代,会新建一个grouper 实例, 赋值给coroutine 变量, grouper是委派生成器\n",
    "2. 调用next(coroutine), 预激 委派生成器grouper,此时进入到while循环,调用子生成器averager()\n",
    "3. 内层for 循环调用coroutine.send(value), 直接把值传给 子生成器averager. 同时当前grouper\n",
    "4. 内层循环结束后, grouper 实例在yield from 表达式处暂停, 因此, grouper 函数定义体中\n",
    "5. corutine.send(None) 终止 averager 子生成器, 子生成器抛出StopIteration 异常并放回的数值\n",
    "\n",
    "\"\"\"\n",
    "from collections import namedtuple\n",
    "ResClass = namedtuple(\"Res\", \"count average\")\n",
    "\n",
    "# 子生成器\n",
    "def averger():\n",
    "    total = 0.0\n",
    "    count = 0\n",
    "    average = None\n",
    "    while True:\n",
    "        term = yield\n",
    "        if term is None:\n",
    "            break\n",
    "        total += term\n",
    "        count += 1\n",
    "        average = total/count\n",
    "    return ResClass(count, average)\n",
    "\n",
    "# 委派生成器\n",
    "def grouper(storages, key):\n",
    "    while True:\n",
    "        storages[key] = yield from averger()\n",
    "\n",
    "# 客户端代码\n",
    "def client():\n",
    "    pricess_date = {\n",
    "        \"boys_1\" : [39.0, 40.8, 43.2, 40.8, 43.1, 38.6, 41.4, 40.6, 36.3],\n",
    "        \"boys_2\" : [1.38, 1.5, 1.32, 1.25, 1.37, 1.48, 1.25, 1.49, 1.46]   \n",
    "    }\n",
    "    \n",
    "    storages = {}\n",
    "    for k, v in pricess_date.items():\n",
    "        # 创建一个协程\n",
    "        coroutine = grouper(storages, k)\n",
    "        # 预激\n",
    "        next(coroutine)\n",
    "        for dt in v:\n",
    "            # 发送数据到协程\n",
    "            coroutine.send(dt)\n",
    "        # 结束协程\n",
    "        coroutine.send(None)\n",
    "    print(storages)\n",
    "\n",
    "client()\n",
    "        "
   ]
  },
  {
   "cell_type": "markdown",
   "metadata": {},
   "source": [
    "## asyncio\n",
    " - python 3.4 开始引入标准库当中, 内置对异步io的支持\n",
    " - asyncio 本身式一个消息循环\n",
    " - 步骤:\n",
    "     - 创建消息循环\n",
    "     - 把协程导入\n",
    "     - 关闭"
   ]
  },
  {
   "cell_type": "markdown",
   "metadata": {},
   "source": [
    "## async and await\n",
    "- 为了更好的表示异步io\n",
    "- python3.5 引入\n",
    "- 让协程代码更简单\n",
    "- 使用上, 可以简单的进行替换\n",
    "    - 用 async 替换@asyncio.coroutine\n",
    "    - await 替换yield from\n",
    "    \n"
   ]
  },
  {
   "cell_type": "markdown",
   "metadata": {},
   "source": [
    "## aiohttp\n",
    " - asyncio 实现单线程的并发io, 在客户端用处不大\n",
    " - 在服务器端可以 asyncio + coroutine 配合, 因为http 式io操作\n",
    " - asyncio 实现tcp, udp, ssl 等协议\n",
    " - aiohttp 是给与asyncio 实现http 框架\n",
    " - pip install ainhttp 安装"
   ]
  },
  {
   "cell_type": "markdown",
   "metadata": {},
   "source": [
    "## concurrent.futures\n",
    " - python 3 新增的库`\n",
    " - 类似其他语言的线程池 概念\n",
    " - 利用multiprocessiong 实现真正的并行计算\n",
    " - 核心原理: 以子进程的形式,并行运行多个解释器从而令子进程与主进程直接按分离, 所以他们的全局解释器锁也是相互独立的, 每个子进程都能够完全的使用cpu 内核\n",
    " - concurrent.futures.Executor\n",
    "     - ThreadPoolExecutor\n",
    "     - ProcessPoolExecutor\n",
    "     - 执行的时候需要自行选择\n",
    "     \n",
    " - submit(fn, args, kwargs)\n",
    "     - fn: 异步执行的函数\n",
    "     - args, kwargs : 参数\n",
    "                             "
   ]
  },
  {
   "cell_type": "code",
   "execution_count": 15,
   "metadata": {},
   "outputs": [
    {
     "name": "stdout",
     "output_type": "stream",
     "text": [
      "上啊\n",
      "上啊False\n",
      "\n",
      "False\n",
      "你好\n",
      "世界\n"
     ]
    }
   ],
   "source": [
    "# concurrent.futures 案例\n",
    "from concurrent.futures import ThreadPoolExecutor\n",
    "import time\n",
    "def run_future(msg):\n",
    "    print(\"上啊\")\n",
    "    time.sleep(4)\n",
    "    return msg\n",
    "# 创建线程池\n",
    "pool = ThreadPoolExecutor(max_workers=2)\n",
    "# 往线程池加入2个task\n",
    "f1 = pool.submit(run_future, \"你好\")\n",
    "f2 = pool.submit(run_future, \"世界\")\n",
    "\n",
    "# 线程是否完成\n",
    "print(f1.done())\n",
    "time.sleep(3)\n",
    "print(f2.done())\n",
    "\n",
    "print(f1.result())\n",
    "print(f2.result())"
   ]
  },
  {
   "cell_type": "markdown",
   "metadata": {},
   "source": [
    "## current 中的map 函数\n",
    "- map(fn, \\*iterabls, timeout=None)\n",
    "    - 和map函数类似\n",
    "    \n",
    "    - 函数需要异步执行\n",
    "    - timeout: 超时时间\n",
    "    - map 和submit 使用一个就行\n",
    "## Future\n"
   ]
  },
  {
   "cell_type": "code",
   "execution_count": null,
   "metadata": {},
   "outputs": [],
   "source": [
    "# 案例\n"
   ]
  }
 ],
 "metadata": {
  "kernelspec": {
   "display_name": "Python 3",
   "language": "python",
   "name": "python3"
  },
  "language_info": {
   "codemirror_mode": {
    "name": "ipython",
    "version": 3
   },
   "file_extension": ".py",
   "mimetype": "text/x-python",
   "name": "python",
   "nbconvert_exporter": "python",
   "pygments_lexer": "ipython3",
   "version": "3.6.4"
  }
 },
 "nbformat": 4,
 "nbformat_minor": 2
}
