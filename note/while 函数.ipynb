{
 "cells": [
  {
   "cell_type": "markdown",
   "metadata": {},
   "source": [
    "# while 循环\n",
    " - 一个循环语句\n",
    " - 表示当某条件成立的时候 就循环\n",
    " - 不知道循环的次数, 但能确定循环成立的条件的时候用while 循环\n",
    " - while 循环的语法:\n",
    " \n",
    "     while 条件表达式:\n",
    "         语句块\n",
    "     ### while循环的另一种表达方式\n",
    "     while 条件表达式:\n",
    "         语句块1\n",
    "     else:\n",
    "         语句块2\n",
    "         "
   ]
  },
  {
   "cell_type": "code",
   "execution_count": 4,
   "metadata": {},
   "outputs": [
    {
     "name": "stdout",
     "output_type": "stream",
     "text": [
      "11年后 你有了204083.83830545243块钱\n"
     ]
    }
   ],
   "source": [
    "# 如果说年利率是6.7 %,  多少年后本钱会翻倍\n",
    "benqian = 100000\n",
    "year = 0\n",
    "while benqian < 200000:\n",
    "    benqian = benqian * (1.067)\n",
    "    year += 1\n",
    "print(\"{0}年后 你有了{1}块钱\".format(year, benqian))"
   ]
  },
  {
   "cell_type": "code",
   "execution_count": 6,
   "metadata": {},
   "outputs": [
    {
     "name": "stdout",
     "output_type": "stream",
     "text": [
      "11年了 啊! 我的钱终于翻倍了! \n",
      "11年后 你有了204083.83830545243块钱\n"
     ]
    }
   ],
   "source": [
    "# 如果说年利率是6.7 %,  多少年后本钱会翻倍\n",
    "benqian = 100000\n",
    "year = 0\n",
    "while benqian < 200000:\n",
    "    benqian = benqian * (1.067)\n",
    "    year += 1\n",
    "else:\n",
    "    print(\"{0}年了 啊! 我的钱终于翻倍了! \".format(year))\n",
    "    \n",
    "print(\"{0}年后 我有了{1}块钱\".format(year, benqian))\n"
   ]
  },
  {
   "cell_type": "markdown",
   "metadata": {},
   "source": [
    "# 函数\n",
    " - 代码的一种组织形式\n",
    " - 一个函数一般完成一项特定的功能\n",
    " - 函数的使用\n",
    "   - 函数需要先定义\n",
    "   - 使用函数, 俗称调用\n",
    "   \n",
    "    "
   ]
  },
  {
   "cell_type": "code",
   "execution_count": null,
   "metadata": {},
   "outputs": [],
   "source": [
    "# 定义一个函数\n",
    "# 只是定义的话不会执行\n"
   ]
  }
 ],
 "metadata": {
  "kernelspec": {
   "display_name": "Python 3",
   "language": "python",
   "name": "python3"
  },
  "language_info": {
   "codemirror_mode": {
    "name": "ipython",
    "version": 3
   },
   "file_extension": ".py",
   "mimetype": "text/x-python",
   "name": "python",
   "nbconvert_exporter": "python",
   "pygments_lexer": "ipython3",
   "version": "3.6.4"
  }
 },
 "nbformat": 4,
 "nbformat_minor": 2
}
