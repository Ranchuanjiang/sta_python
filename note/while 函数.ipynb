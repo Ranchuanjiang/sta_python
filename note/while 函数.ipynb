{
 "cells": [
  {
   "cell_type": "markdown",
   "metadata": {},
   "source": [
    "# while 循环\n",
    " - 一个循环语句\n",
    " - 表示当某条件成立的时候 就循环\n",
    " - 不知道循环的次数, 但能确定循环成立的条件的时候用while 循环\n",
    " - while 循环的语法:\n",
    " \n",
    "     while 条件表达式:\n",
    "         语句块\n",
    "     ### while循环的另一种表达方式\n",
    "     while 条件表达式:\n",
    "         语句块1\n",
    "     else:\n",
    "         语句块2\n",
    "         "
   ]
  },
  {
   "cell_type": "code",
   "execution_count": 4,
   "metadata": {},
   "outputs": [
    {
     "name": "stdout",
     "output_type": "stream",
     "text": [
      "11年后 你有了204083.83830545243块钱\n"
     ]
    }
   ],
   "source": [
    "# 如果说年利率是6.7 %,  多少年后本钱会翻倍\n",
    "benqian = 100000\n",
    "year = 0\n",
    "while benqian < 200000:\n",
    "    benqian = benqian * (1.067)\n",
    "    year += 1\n",
    "print(\"{0}年后 你有了{1}块钱\".format(year, benqian))"
   ]
  },
  {
   "cell_type": "code",
   "execution_count": 6,
   "metadata": {},
   "outputs": [
    {
     "name": "stdout",
     "output_type": "stream",
     "text": [
      "11年了 啊! 我的钱终于翻倍了! \n",
      "11年后 你有了204083.83830545243块钱\n"
     ]
    }
   ],
   "source": [
    "# 如果说年利率是6.7 %,  多少年后本钱会翻倍\n",
    "benqian = 100000\n",
    "year = 0\n",
    "while benqian < 200000:\n",
    "    benqian = benqian * (1.067)\n",
    "    year += 1\n",
    "else:\n",
    "    print(\"{0}年了 啊! 我的钱终于翻倍了! \".format(year))\n",
    "    \n",
    "print(\"{0}年后 我有了{1}块钱\".format(year, benqian))\n"
   ]
  },
  {
   "cell_type": "markdown",
   "metadata": {},
   "source": [
    "# 函数\n",
    " - 代码的一种组织形式\n",
    " - 一个函数一般完成一项特定的功能\n",
    " - 函数的使用\n",
    "   - 函数需要先定义\n",
    "   - 使用函数, 俗称调用\n",
    "   \n",
    "    "
   ]
  },
  {
   "cell_type": "code",
   "execution_count": 1,
   "metadata": {},
   "outputs": [],
   "source": [
    "# 定义一个函数\n",
    "# 只是定义的话不会执行\n",
    "# 1. def 关键字 后跟一个空格\n",
    "# 2. 函数名, 在自己定义,起名需要遵守使令命名规则,约定俗成,大驼峰命名只给类用\n",
    "# 3. 后面括号个冒号不能省 括号内可以有参数\n",
    "# 4. 函数内所有代码缩进\n",
    "def func():\n",
    "    print(\"hello world\")\n",
    "    print(\"我是一个函数\")\n",
    "    print(\"我结束了\")"
   ]
  },
  {
   "cell_type": "code",
   "execution_count": 2,
   "metadata": {},
   "outputs": [
    {
     "name": "stdout",
     "output_type": "stream",
     "text": [
      "hello world\n",
      "我是一个函数\n",
      "我结束了\n"
     ]
    }
   ],
   "source": [
    "# 函数的调用\n",
    "func()\n"
   ]
  },
  {
   "cell_type": "markdown",
   "metadata": {},
   "source": [
    "### 函数的参数和返回值\n",
    " - 参数: 负责给函数传递以西必要的数据或者信息\n",
    "     - 形参(形式参数): 在函数定义的时候用到的参数没有具体值,只是一个占位的符号,成为形参\n",
    "     - 实参(实际参数): 在调用函数的时候输入的值\n",
    "     \n",
    " - 返回值 : 函数的执行结果\n",
    "     - 使用 ruturn 关键字\n",
    "     "
   ]
  },
  {
   "cell_type": "code",
   "execution_count": 9,
   "metadata": {},
   "outputs": [
    {
     "name": "stdout",
     "output_type": "stream",
     "text": [
      "王五,你怎么咧\n",
      "没什么!\n"
     ]
    }
   ],
   "source": [
    "# 参数的定义和使用\n",
    "# 参数person 只是一个符号,代表是调用的时候的某一个数据\n",
    "# 调用的时候, 会用值 歹意函数中所有的person\n",
    "def hello(person):\n",
    "    print(\"{0},你怎么咧\".format(person))\n",
    "    print(\"没什么!\")\n",
    "hello(\"王五\")"
   ]
  },
  {
   "cell_type": "code",
   "execution_count": 13,
   "metadata": {},
   "outputs": [
    {
     "name": "stdout",
     "output_type": "stream",
     "text": [
      "王五,你怎么咧\n",
      "没什么!\n",
      "王五,你怎么咧\n",
      "没什么!\n",
      "我已经和王五打过招呼了,王五不理我\n"
     ]
    }
   ],
   "source": [
    "def hello(person):\n",
    "    print(\"{0},你怎么咧\".format(person))\n",
    "    print(\"没什么!\")\n",
    "    return \"我已经和{0}打过招呼了,{0}不理我\".format(person)\n",
    "hello(\"王五\")\n",
    "rst = hello(\"王五\")\n",
    "print(rst)"
   ]
  },
  {
   "cell_type": "code",
   "execution_count": 14,
   "metadata": {},
   "outputs": [
    {
     "name": "stdout",
     "output_type": "stream",
     "text": [
      "王五,你怎么咧\n",
      "我走了 拜拜\n"
     ]
    }
   ],
   "source": [
    "# rutern 案例二\n",
    "def hello(person):\n",
    "    print(\"{0},你怎么咧\".format(person))\n",
    "    return \"我走了 拜拜\"  # 到这提前结束\n",
    "    print(\"没什么!\")\n",
    "    return \"我已经和{0}打过招呼了,{0}不理我\".format(person)\n",
    "rst = hello(\"王五\")\n",
    "print(rst)\n"
   ]
  },
  {
   "cell_type": "code",
   "execution_count": 15,
   "metadata": {},
   "outputs": [
    {
     "name": "stdout",
     "output_type": "stream",
     "text": [
      "Help on built-in function print in module builtins:\n",
      "\n",
      "print(...)\n",
      "    print(value, ..., sep=' ', end='\\n', file=sys.stdout, flush=False)\n",
      "    \n",
      "    Prints the values to a stream, or to sys.stdout by default.\n",
      "    Optional keyword arguments:\n",
      "    file:  a file-like object (stream); defaults to the current sys.stdout.\n",
      "    sep:   string inserted between values, default a space.\n",
      "    end:   string appended after the last value, default a newline.\n",
      "    flush: whether to forcibly flush the stream.\n",
      "\n"
     ]
    }
   ],
   "source": [
    "# 查找帮助文档\n",
    "# 用help函数\n",
    "help(print)"
   ]
  },
  {
   "cell_type": "code",
   "execution_count": 36,
   "metadata": {},
   "outputs": [
    {
     "name": "stdout",
     "output_type": "stream",
     "text": [
      "1x1= 1| \n",
      "----------------------------------------------------------------------\n",
      "2x1= 2| 2x2= 4| \n",
      "----------------------------------------------------------------------\n",
      "3x1= 3| 3x2= 6| 3x3= 9| \n",
      "----------------------------------------------------------------------\n",
      "4x1= 4| 4x2= 8| 4x3=12| 4x4=16| \n",
      "----------------------------------------------------------------------\n",
      "5x1= 5| 5x2=10| 5x3=15| 5x4=20| 5x5=25| \n",
      "----------------------------------------------------------------------\n",
      "6x1= 6| 6x2=12| 6x3=18| 6x4=24| 6x5=30| 6x6=36| \n",
      "----------------------------------------------------------------------\n",
      "7x1= 7| 7x2=14| 7x3=21| 7x4=28| 7x5=35| 7x6=42| 7x7=49| \n",
      "----------------------------------------------------------------------\n",
      "8x1= 8| 8x2=16| 8x3=24| 8x4=32| 8x5=40| 8x6=48| 8x7=56| 8x8=64| \n",
      "----------------------------------------------------------------------\n",
      "9x1= 9| 9x2=18| 9x3=27| 9x4=36| 9x5=45| 9x6=54| 9x7=63| 9x8=72| 9x9=81| \n",
      "----------------------------------------------------------------------\n"
     ]
    }
   ],
   "source": [
    "# 九九乘法表\n",
    "for row in range(1, 10):\n",
    "    for col in range(1 , row+1):\n",
    "    \n",
    "        print( \"{0}x{1}={2:2}\".format(row, col, row*col), end=\"| \")\n",
    "    print()\n",
    "    print(\"-\" * 70)\n"
   ]
  },
  {
   "cell_type": "code",
   "execution_count": 44,
   "metadata": {},
   "outputs": [
    {
     "name": "stdout",
     "output_type": "stream",
     "text": [
      "1x1=1 | \n",
      "----------------------------------------------------------------------\n",
      "2x1=2 | 2x2=4 | \n",
      "----------------------------------------------------------------------\n",
      "3x1=3 | 3x2=6 | 3x3=9 | \n",
      "----------------------------------------------------------------------\n",
      "4x1=4 | 4x2=8 | 4x3=12| 4x4=16| \n",
      "----------------------------------------------------------------------\n",
      "5x1=5 | 5x2=10| 5x3=15| 5x4=20| 5x5=25| \n",
      "----------------------------------------------------------------------\n",
      "6x1=6 | 6x2=12| 6x3=18| 6x4=24| 6x5=30| 6x6=36| \n",
      "----------------------------------------------------------------------\n",
      "7x1=7 | 7x2=14| 7x3=21| 7x4=28| 7x5=35| 7x6=42| 7x7=49| \n",
      "----------------------------------------------------------------------\n",
      "8x1=8 | 8x2=16| 8x3=24| 8x4=32| 8x5=40| 8x6=48| 8x7=56| 8x8=64| \n",
      "----------------------------------------------------------------------\n",
      "9x1=9 | 9x2=18| 9x3=27| 9x4=36| 9x5=45| 9x6=54| 9x7=63| 9x8=72| 9x9=81| \n",
      "----------------------------------------------------------------------\n"
     ]
    }
   ],
   "source": [
    "def PrintLine(row):\n",
    "    for col in range(1 , row+1):\n",
    "        print( \"{0}x{1}={2:<2}\".format(row, col, row*col), end=\"| \")\n",
    "    print(\"\")\n",
    "    print(\"-\" * 70)\n",
    "    \n",
    "for row in range(1, 10):\n",
    "    PrintLine(row)"
   ]
  },
  {
   "cell_type": "markdown",
   "metadata": {},
   "source": [
    "## 参数详解\n",
    "- [参考资料](https://www.cnblogs.com/bingabcd)/p/6671368.html\n",
    "- python 参考资料: headfirst python -> 零基础 入门学习 (小甲鱼)-->习题-->后期可以考虑腾讯公开免费课\n",
    "    - 普通参数\n",
    "    - 默认参数\n",
    "    - 关键字参数\n",
    "    - 收集参数\n",
    "- 普通参数:\n",
    "    - c 参见上例\n",
    "    - 定义的时候直接定义变量名\n",
    "    - 调用的时候直接把变量或者值放入指定位置\n",
    "        def 函数名 (参数1, 参数2,......)\n",
    "        \n",
    "        ##### 调用\n",
    "        \n",
    "        函数名(value1, value2,....)\n",
    "        \n",
    "        ##### 调用的时候 ,具体值参考的是位置,按位置赋值\n",
    "- 默认参数\n",
    "    - 形参带有默认值\n",
    "    - 调用的时候,如果没有对应形参赋值,则使用默认值\n",
    "    \n",
    "            def func_name(p1=v1, p2=v2,.....)\n",
    "                func_block\n",
    "            \n",
    "            # 调用1\n",
    "            func_name()\n",
    "            \n",
    "            # 调用2\n",
    "            value1 = 100\n",
    "            value2 = 200\n",
    "            func_name(value1, value2)\n",
    "\n",
    "            "
   ]
  },
  {
   "cell_type": "code",
   "execution_count": 46,
   "metadata": {},
   "outputs": [
    {
     "name": "stdout",
     "output_type": "stream",
     "text": [
      "王五 he is 19\n",
      "李六 she is 18\n"
     ]
    }
   ],
   "source": [
    "# 默认参数示例\n",
    "# 报名函数, 需要知道学生姓名\n",
    "# 学习python的 学生基本都是男孩, 如果没有特别指定默认男孩\n",
    "def reg(name, age, gender=\"male\"):\n",
    "    if gender == \"male\":\n",
    "        print(\"{0} he is {1}\".format(name, age))\n",
    "    else:\n",
    "        print(\"{0} she is {1}\".format(name, age))\n",
    "        \n",
    "reg(\"王五\", 19)\n",
    "reg(\"李六\", 18, \"female\")"
   ]
  },
  {
   "cell_type": "markdown",
   "metadata": {},
   "source": [
    "## 关键字参数\n",
    "   #### 语法\n",
    "            \n",
    "            def func(p1=v1, p2=v2, ......):\n",
    "                func_body\n",
    "            \n",
    "            调用函数:\n",
    "            func(p1=value1, p2=value2, ....):\n",
    "            \n",
    "   #### 比较麻烦, 但也有好处:\n",
    "   - 不容易混淆,一般实参只是按照位置意义对应即可,容易出错\n",
    "   - 使用关键字参数, 可以不考虑 参数位置\n",
    "   \n",
    "    "
   ]
  },
  {
   "cell_type": "code",
   "execution_count": 55,
   "metadata": {},
   "outputs": [
    {
     "name": "stdout",
     "output_type": "stream",
     "text": [
      "我是王五,我今年19岁,我住在中国\n",
      "我是10,我今年中国岁,我住在李四\n",
      "我是王五,我今年19岁,我住在中国\n",
      "我是王五,我今年0岁,我住在中国\n"
     ]
    }
   ],
   "source": [
    "#  关键字参数 案例\n",
    "def stu(name, age, addr):\n",
    "    print(\"我是{0},我今年{1}岁,我住在{2}\".format(name, age, addr))\n",
    "\n",
    "stu(\"王五\", 19, \"中国\")\n",
    "stu(10, \"中国\", \"李四\")\n",
    "\n",
    "# 关键字参数 使用\n",
    "def stu_key(name=\"NO name\", age=0, addr=\"No addr\"):\n",
    "    print(\"我是{0},我今年{1}岁,我住在{2}\".format(name, age, addr))\n",
    "n = \"王五\"\n",
    "a = 19\n",
    "ad = \"中国\"\n",
    "stu_key(age=a, addr=ad, name=n)\n",
    "stu_key(addr=ad, name=n)"
   ]
  },
  {
   "cell_type": "markdown",
   "metadata": {},
   "source": [
    "## 收集参数\n",
    " - 那没有位置,不能和定义是的参数位置相对应的参数, 放入一个特定的数据结构中\n",
    " - 语法\n",
    "         \n",
    "         def func(*args):\n",
    "             func_body\n",
    "         - 按照list 使用方式args 得到传入的参数\n",
    "         调用:\n",
    "         func(p1, p2, p3, ....)\n",
    " - 参数名args 不是必须这样写,但是,推荐这样写\n",
    " - 参数名前需要星号 *\n",
    " - 收集参数可以和其他参数共存\n",
    " "
   ]
  },
  {
   "cell_type": "code",
   "execution_count": 62,
   "metadata": {},
   "outputs": [
    {
     "name": "stdout",
     "output_type": "stream",
     "text": [
      "让我来说两句!\n",
      "王五 19 中国 啦啦啦 \n",
      "让我来说两句!\n",
      "李四 \n",
      "让我来说两句!\n",
      "\n"
     ]
    }
   ],
   "source": [
    "# 收集参数 代码\n",
    "# 函数模拟 一个学生进行自我介绍, 但具体 内容不清楚\n",
    "# args 把他看成一个元组\n",
    "# 可以不带任何实参\n",
    "def stu(*args):\n",
    "    print(\"让我来说两句!\")\n",
    "    for item in args:\n",
    "        print(item, end=\" \")\n",
    "    print()\n",
    "\n",
    "stu(\"王五\", 19, \"中国\", \"啦啦啦\")\n",
    "stu(\"李四\")\n",
    "stu()"
   ]
  },
  {
   "cell_type": "markdown",
   "metadata": {},
   "source": [
    "### 收集参数之关键字收集参数\n",
    "- 把关键字参数按字典格式存入 收集参数\n",
    "- 语法:\n",
    "\n",
    "        def func(**kwargs):\n",
    "            func_body\n",
    "        \n",
    "        调用:\n",
    "        func(p1=v1, p2=v2, ....)\n",
    "     - kwargs 约定熟成\n",
    "     - 调用的时候,把多余的关键字参数放入kwargs\n",
    "     - 访问kwargs 需要按字典格式访问\n",
    "     \n",
    "        "
   ]
  },
  {
   "cell_type": "code",
   "execution_count": 64,
   "metadata": {},
   "outputs": [
    {
     "name": "stdout",
     "output_type": "stream",
     "text": [
      "我来说两句!\n",
      "name --> 王五\n",
      "age --> 19\n",
      "addr --> 中国\n",
      "----------------------------------------\n",
      "我来说两句!\n",
      "name --> 李四\n"
     ]
    }
   ],
   "source": [
    "# 收集参数案例\n",
    "# 自我介绍\n",
    "# 调用得时候需要使用关键字参数调用\n",
    "def stu(**kwargs):\n",
    "    print(\"我来说两句!\")\n",
    "    for k, v in kwargs.items():\n",
    "        print(k, \"-->\", v)\n",
    "stu(name=\"王五\", age=19, addr=\"中国\")\n",
    "print(\"--\" * 20)\n",
    "stu(name=\"李四\")"
   ]
  },
  {
   "cell_type": "markdown",
   "metadata": {},
   "source": [
    "### 收集参数混合调用得顺序问题\n",
    " - 收集参数,关键字参数,普通参数可以混合使用\n",
    " - 使用规则就是, 普通参数和关键字参数优先\n",
    " - 定义的时候一般找普通参数,关键字参数,收集参数tuple,手机参数dict"
   ]
  },
  {
   "cell_type": "code",
   "execution_count": 72,
   "metadata": {},
   "outputs": [],
   "source": [
    "# 收集参数的混合调用\n",
    "# 模拟学生的自我介绍\n",
    "# 定义格式不能错\n",
    "def stu(name, age, *args, hobby=\"没有\", **kwargs):\n",
    "    print(\"我叫{0}, 我{1}岁了!\".format(name, age))\n",
    "    if hobby == \"没有\":\n",
    "        print(\"我没有爱好\")\n",
    "    else:\n",
    "        print(\"我的爱好是\", hobby)\n",
    "    for i in args:\n",
    "        print(i)\n",
    "    for k, v in kwargs.items():\n",
    "        print(k, \"---\", v)\n",
    "    "
   ]
  },
  {
   "cell_type": "code",
   "execution_count": 74,
   "metadata": {},
   "outputs": [
    {
     "name": "stdout",
     "output_type": "stream",
     "text": [
      "我叫王五, 我19岁了!\n",
      "我没有爱好\n",
      "我叫王五, 我19岁了!\n",
      "我的爱好是 洗澡\n",
      "李四\n",
      "hobby2 --- 吃饭\n"
     ]
    }
   ],
   "source": [
    "name = \"王五\"\n",
    "age = 19\n",
    "stu(name, age)\n",
    "stu(name, age, \"李四\", hobby=\"洗澡\", hobby2=\"吃饭\")\n"
   ]
  },
  {
   "cell_type": "markdown",
   "metadata": {},
   "source": [
    "### 收集参数的解包问题\n",
    " - 把参数放入list 或者 dict 中,直接报list/dict 中的值放入收集参数中\n",
    " - 语法: 参考案例\n",
    " "
   ]
  },
  {
   "cell_type": "code",
   "execution_count": 77,
   "metadata": {},
   "outputs": [
    {
     "name": "stdout",
     "output_type": "stream",
     "text": [
      "********************\n",
      "['李白', '白居易', '苏轼']\n",
      "********************\n",
      "李白\n",
      "白居易\n",
      "苏轼\n"
     ]
    }
   ],
   "source": [
    "# 收集参数的解包问题\n",
    "def stu(*args):\n",
    "    print(\"*\" * 20)\n",
    "    for i in args:\n",
    "        print(i)\n",
    "\n",
    "l = [\"李白\", \"白居易\", \"苏轼\"]\n",
    "stu(l)\n",
    "# 此时 args 的表示形式是字典内一个list 元素\n",
    "# 此时就需要解包 在args 前面加上*\n",
    "\n",
    "stu(*l)"
   ]
  },
  {
   "cell_type": "markdown",
   "metadata": {},
   "source": [
    "### 同理可以对dict进行 解包\n",
    " - 对dict 型解包 需要加两个星号 **\n",
    " "
   ]
  },
  {
   "cell_type": "markdown",
   "metadata": {},
   "source": [
    "## 返回值\n",
    " - 函数和过程的区别\n",
    "    - 有无返回值\n",
    " - 需要用return 显示返回内容\n",
    " - 如果没有返回, 则默认返回None\n",
    " - 推荐写法, 无论又没有返回值 最后都要有return 结束\n",
    " "
   ]
  },
  {
   "cell_type": "code",
   "execution_count": 79,
   "metadata": {},
   "outputs": [
    {
     "name": "stdout",
     "output_type": "stream",
     "text": [
      "有返回值!\n",
      "1\n",
      "没有返回值\n",
      "None\n"
     ]
    }
   ],
   "source": [
    "# 返回值示例\n",
    "def func_1():\n",
    "    print(\"有返回值!\")\n",
    "    return 1\n",
    "def func_2():\n",
    "    print(\"没有返回值\")\n",
    "    \n",
    "f1 = func_1()\n",
    "print(f1)\n",
    "f2 = func_2()\n",
    "print(f2)"
   ]
  },
  {
   "cell_type": "markdown",
   "metadata": {},
   "source": [
    "# 函数文档\n",
    " - 函数的文档 的作用是对当前函数提供使用相关的参考信息\n",
    " - 文档的写法\n",
    "     - 在函数内部开始的第一行使用三个字符串 定义符\n",
    "     - 一般具有特定的格式\n",
    "     - 参看案例\n",
    " - 文档查看\n",
    "     - 使用help 函数, 形如 help(func)\n",
    "     - 使用\\_\\_doc\\_\\_, 参看案例\n",
    "     "
   ]
  },
  {
   "cell_type": "code",
   "execution_count": 82,
   "metadata": {},
   "outputs": [
    {
     "name": "stdout",
     "output_type": "stream",
     "text": [
      "Help on function stu in module __main__:\n",
      "\n",
      "stu(name, age, *args, hobby='没有', **kwargs)\n",
      "    这是第一行\n",
      "    这是第二行\n",
      "    这是第三行\n",
      "\n"
     ]
    },
    {
     "data": {
      "text/plain": [
       "'\\n    这是第一行\\n    这是第二行\\n    这是第三行\\n   \\n    '"
      ]
     },
     "execution_count": 82,
     "metadata": {},
     "output_type": "execute_result"
    }
   ],
   "source": [
    "def stu(name, age, *args, hobby=\"没有\", **kwargs):\n",
    "    \"\"\"\n",
    "    这是第一行\n",
    "    这是第二行\n",
    "    这是第三行\n",
    "   \n",
    "    \"\"\"\n",
    "    pass\n",
    "help(stu)\n",
    "stu.__doc__\n"
   ]
  },
  {
   "cell_type": "code",
   "execution_count": null,
   "metadata": {},
   "outputs": [],
   "source": []
  },
  {
   "cell_type": "code",
   "execution_count": null,
   "metadata": {},
   "outputs": [],
   "source": []
  }
 ],
 "metadata": {
  "kernelspec": {
   "display_name": "Python 3",
   "language": "python",
   "name": "python3"
  },
  "language_info": {
   "codemirror_mode": {
    "name": "ipython",
    "version": 3
   },
   "file_extension": ".py",
   "mimetype": "text/x-python",
   "name": "python",
   "nbconvert_exporter": "python",
   "pygments_lexer": "ipython3",
   "version": "3.6.4"
  }
 },
 "nbformat": 4,
 "nbformat_minor": 2
}
