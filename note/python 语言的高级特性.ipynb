{
 "cells": [
  {
   "cell_type": "markdown",
   "metadata": {},
   "source": [
    "# python 语言的高级特性\n",
    "\n",
    " "
   ]
  },
  {
   "cell_type": "markdown",
   "metadata": {},
   "source": [
    "## 函数式编程(functionalProgramming)\n",
    " - 基于lambda 演算的一种编程方式\n",
    "     - 程序中只有函数\n",
    "     - 函数可以作为参数, 同样可以作为返回值\n",
    "     - 出纳函数式编程语言: LISP, Haskell\n",
    " - Python 函数式编程知识借鉴函数式编程的一些特点,可以理解成一般函数式一半python\n",
    " - 需要讲述:\n",
    "     - 高级函数\n",
    "     - 返回函数\n",
    "     - 匿名函数\n",
    "     - 装饰器\n",
    "     - 偏函数\n",
    "     "
   ]
  },
  {
   "cell_type": "markdown",
   "metadata": {},
   "source": [
    "### lambda 表达式\n",
    " - 函数: 最大程度复用代码\n",
    "      - 存在问题: 如果函数很小, 很短,则会造成啰嗦\n",
    "      - 如果函数被调用次数少,则会造成浪费\n",
    "      - 对于阅读者来说, 造成乐队流程被迫中断\n",
    " - lambda 表达式(匿名函数)\n",
    "     - 一个表达式, 函数体相对简单\n",
    "     - 不是一个代码块, 仅仅式一个表达式\n",
    "     - 可以有参数,有多个参数也可以, 用, 隔开"
   ]
  },
  {
   "cell_type": "code",
   "execution_count": 5,
   "metadata": {},
   "outputs": [
    {
     "name": "stdout",
     "output_type": "stream",
     "text": [
      "1200\n"
     ]
    },
    {
     "data": {
      "text/plain": [
       "456"
      ]
     },
     "execution_count": 5,
     "metadata": {},
     "output_type": "execute_result"
    }
   ],
   "source": [
    "# lambda 表达式的用法\n",
    "# 1. lambda 开头\n",
    "# 2. 紧跟一定的参数(如果有的话)\n",
    "# 3. 参数后用冒号和表达式主体隔开\n",
    "# 4. 只有一个表达式,所以没有return\n",
    "# 计算一个数的100倍\n",
    "s = lambda x : x * 100\n",
    "print(s(12))\n",
    "s2 = lambda x, y, z : (x * 100) + (y * 10) + z \n",
    "s2(4, 5, 6)\n"
   ]
  },
  {
   "cell_type": "markdown",
   "metadata": {},
   "source": [
    "### 高阶函数\n",
    " - 把函数作为参数使用的函数, 叫做高阶函数\n",
    "     - 函数名称是变量\n",
    "     - 函数名 可以当中参数传到另一个函数里面\n",
    "     "
   ]
  },
  {
   "cell_type": "code",
   "execution_count": 16,
   "metadata": {},
   "outputs": [
    {
     "name": "stdout",
     "output_type": "stream",
     "text": [
      "2700\n",
      "2700\n"
     ]
    }
   ],
   "source": [
    "# 高阶函数举例\n",
    "# funA 是普通函数, 返回传入数字的100 倍数字\n",
    "def funA(n):\n",
    "    return n * 100\n",
    "\n",
    "def funB(n):\n",
    "    return funA(n) * 3\n",
    "\n",
    "print(funB(9))\n",
    "# 高阶函数写法\n",
    "\n",
    "def funC(n, f):\n",
    "    return f(n) * 3\n",
    "\n",
    "print(funC(9, funA))"
   ]
  },
  {
   "cell_type": "markdown",
   "metadata": {},
   "source": [
    "### 系统高阶函数- map\n",
    " - 原意就是映射, 即把集合或者立标的元素, 每一个都按照一定规则进行操作, 生成一个新的列表或者集合\n",
    " - map 函数是系统提供的具有映射功能的函数, 返回值是一个迭代对象"
   ]
  },
  {
   "cell_type": "code",
   "execution_count": 18,
   "metadata": {},
   "outputs": [
    {
     "name": "stdout",
     "output_type": "stream",
     "text": [
      "[0, 10, 20, 30, 40, 50, 60, 70, 80, 90]\n"
     ]
    }
   ],
   "source": [
    "# map 举例\n",
    "# 有一个列表, 想对列表李的每一个元素乘以10 , 并得到新的列表\n",
    "l1 = [i for i in range(10)]\n",
    "def multen(n):\n",
    "    return n * 10\n",
    "\n",
    "l2 = map(multen, l1)\n",
    "l3 = [i for i in l2]\n",
    "print(l3)"
   ]
  },
  {
   "cell_type": "markdown",
   "metadata": {},
   "source": [
    "### reduce\n",
    " - 愿意是归并, 缩减\n",
    " - 把一个可迭代对象最后归并成一个结果\n",
    " - 对于作为参数的函数有要求, 必须有两个参数, 必须有返回结果\n",
    " - reduce([1,2,3,4,5]) = \n",
    " "
   ]
  }
 ],
 "metadata": {
  "kernelspec": {
   "display_name": "Python 3",
   "language": "python",
   "name": "python3"
  },
  "language_info": {
   "codemirror_mode": {
    "name": "ipython",
    "version": 3
   },
   "file_extension": ".py",
   "mimetype": "text/x-python",
   "name": "python",
   "nbconvert_exporter": "python",
   "pygments_lexer": "ipython3",
   "version": "3.6.4"
  }
 },
 "nbformat": 4,
 "nbformat_minor": 2
}
