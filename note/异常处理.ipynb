{
 "cells": [
  {
   "cell_type": "markdown",
   "metadata": {},
   "source": [
    "# 异常\n",
    " - 广义上的错误分为错误和异常\n",
    " - 错误指的是可以人为避免\n",
    " - 异常是指在语法逻辑正确的前提下,出现的问题\n",
    " - 在python里,异常时一个类, 可以处理和使用"
   ]
  },
  {
   "cell_type": "markdown",
   "metadata": {},
   "source": [
    "## 异常处理\n",
    " - 不能保证程序永远正确运行\n",
    " - 但是, 必须保证程序在最坏的情况下得到的问题被妥善处理\n",
    " - python 的异常处理模块全部语法\n",
    "  \n",
    "           try:\n",
    "               尝试实现某个操作\n",
    "               如果没有异常从出现,任务完成\n",
    "               如果出现异常,将异常从当前代码块扔出去尝试解决异常\n",
    "           except 异常类型1:\n",
    "               解决方法1: 用于尝试在次数处理异常解决问题\n",
    "           except 异常类型2:\n",
    "               解决方法2 用于尝试在次数处理异常解决问题\n",
    "           except 异常类型3:\n",
    "               解决方法 用于尝试在次数处理异常解决问题\n",
    "           except 异常类型4:\n",
    "               解决方法4 用于尝试在次数处理异常解决问题\n",
    "           except:\n",
    "               解决方法: 所有异常解决方法\n",
    "           else:\n",
    "               如果没有出现任何异常将会执行此处代码\n",
    "           finally:\n",
    "               管你有没有异常都要执行的代码\n",
    "               \n",
    " - 流程\n",
    "     1. 执行try 下面的语句\n",
    "     2. 如果出现异常 则在except 语句里查找对应异常并处理\n",
    "     3. 果没有出现异常, 则之心else语句内容\n",
    "     4. 最后,不管是否出现异常,都要执行finallty 语句\n",
    " - 出except(最少一个)意外,else和finally 可选"
   ]
  },
  {
   "cell_type": "code",
   "execution_count": 2,
   "metadata": {},
   "outputs": [
    {
     "name": "stdout",
     "output_type": "stream",
     "text": [
      "请输入一个数: 0\n",
      "division by zero\n"
     ]
    }
   ],
   "source": [
    "# 简单异常案例\n",
    "# 给出提示信息\n",
    "try:\n",
    "    num = int(input(\"请输入一个数: \"))\n",
    "    ret = 100/num\n",
    "    print(ret)\n",
    "except Exception as e:\n",
    "    print(e)\n",
    "    exit()"
   ]
  },
  {
   "cell_type": "markdown",
   "metadata": {},
   "source": [
    "## 用户手动引发异常\n",
    " - 当某些情况, 用户希望自己引发一个异常的时候,可以使用\n",
    " - raise 关键字引发异常\n",
    " "
   ]
  },
  {
   "cell_type": "code",
   "execution_count": 1,
   "metadata": {},
   "outputs": [
    {
     "name": "stdout",
     "output_type": "stream",
     "text": [
      "哈哈哈哈\n",
      "\n"
     ]
    }
   ],
   "source": [
    "# raise 案例\n",
    "try:\n",
    "    print(\"哈哈哈哈\")\n",
    "    raise ValueError\n",
    "    print(\"kankan \")\n",
    "except ValueError as e:\n",
    "    print(e)\n"
   ]
  },
  {
   "cell_type": "code",
   "execution_count": 3,
   "metadata": {},
   "outputs": [
    {
     "name": "stdout",
     "output_type": "stream",
     "text": [
      "请输入一个数: 9\n",
      "11.11111111111111\n",
      "没有报错啊!\n",
      "怎么都会被执行的\n"
     ]
    }
   ],
   "source": [
    "# else 案例\n",
    "try:\n",
    "    num = int(input(\"请输入一个数: \"))\n",
    "    ret = 100/num\n",
    "    print(ret)\n",
    "except Exception as e:\n",
    "    print(e)\n",
    "else:\n",
    "    print(\"没有报错啊!\")\n",
    "finally:\n",
    "    print(\"怎么都会被执行的\")"
   ]
  },
  {
   "cell_type": "markdown",
   "metadata": {},
   "source": [
    "## 关于自定以异常\n",
    " - 只要事raise 异常, 则推荐自定义异常\n",
    " - 在自定义异常的时候,一般包含一下内容:\n",
    "     1. 自定义发生异常的异常代码\n",
    "     2. 自定义发生异常后的问题提示\n",
    "     3. 自定义发生异常的行数\n",
    " - 最终的目的,一旦发生异常,方便程序员快速定位错误现场\n",
    " "
   ]
  }
 ],
 "metadata": {
  "kernelspec": {
   "display_name": "Python 3",
   "language": "python",
   "name": "python3"
  },
  "language_info": {
   "codemirror_mode": {
    "name": "ipython",
    "version": 3
   },
   "file_extension": ".py",
   "mimetype": "text/x-python",
   "name": "python",
   "nbconvert_exporter": "python",
   "pygments_lexer": "ipython3",
   "version": "3.6.4"
  }
 },
 "nbformat": 4,
 "nbformat_minor": 2
}
