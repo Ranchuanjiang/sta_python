{
 "cells": [
  {
   "cell_type": "markdown",
   "metadata": {},
   "source": [
    "# 模块\n",
    " - 一个模块就是一个包含python 代码的文件,后缀名是.py 就可以, 模块就是一个python文件\n",
    " - 为什么用模块\n",
    "     - 程序太大,编程维护非常不方便,需要拆分\n",
    "     - 模块可以增加代码重复利用的方式\n",
    "     - 当做命名空间使用, 避免命名冲突\n",
    "     \n",
    " - 定义模块\n",
    "     - 模块就是一个普通python 文件,所以任何代码可以直接书写\n",
    "     - 不过根据模块的规范,最好在模块中编写一下内容\n",
    "         - 函数(单一功能)\n",
    "         - 类(相似功能的组合,或者类似业务模块)\n",
    "         - 测试代码\n",
    " - 如何使用模块\n",
    "     - 模块直接导入\n",
    "         - 假如模块名称直接以数字开头,需要借助 importlib 帮助\n",
    "     - 语法\n",
    "         \n",
    "             import module_name\n",
    "             module_name.function_name\n",
    "             module_name.class_name\n",
    "     - import 模块 as 别名\n",
    "         - 导入的同时给模块起一个别名\n",
    "         - 其余用法和第一种相同\n",
    "     - form module_name import func_name , class_name\n",
    "         - 按上述方法有选择性的导入\n",
    "         - 使用的时候可以直接使用导入的内容, 不需要前缀\n",
    "     - from module_name import *\n",
    "     \n",
    "        \n",
    "     "
   ]
  }
 ],
 "metadata": {
  "kernelspec": {
   "display_name": "Python 3",
   "language": "python",
   "name": "python3"
  },
  "language_info": {
   "codemirror_mode": {
    "name": "ipython",
    "version": 3
   },
   "file_extension": ".py",
   "mimetype": "text/x-python",
   "name": "python",
   "nbconvert_exporter": "python",
   "pygments_lexer": "ipython3",
   "version": "3.6.4"
  }
 },
 "nbformat": 4,
 "nbformat_minor": 2
}
