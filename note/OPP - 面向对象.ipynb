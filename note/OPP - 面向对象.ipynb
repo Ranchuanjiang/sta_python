{
 "cells": [
  {
   "cell_type": "markdown",
   "metadata": {},
   "source": [
    "# OOP- python面向对象\n",
    " - python 面向对象\n",
    " - 面向对象编程\n",
    "     - 基础\n",
    "     - 公有私有\n",
    "     - 继承\n",
    "     - 组合, Minxi\n",
    " - 魔法函数\n",
    "     - 魔法函数概述\n",
    "     - 构造类魔法函数\n",
    "     - 运算类魔法函数\n",
    "    "
   ]
  },
  {
   "cell_type": "markdown",
   "metadata": {},
   "source": [
    "## 1. 面向对象概述(object oriented, oo)\n",
    " - OOP 思想\n",
    "     - 接触倒任意一个任务,首先想到的是任务的构成,是由模型构成的\n",
    " - 几个名词\n",
    "     - OO : 面向对象\n",
    "     - OOA: 面向对象的设计\n",
    "     - OOD: 面向对象的设计\n",
    "     - OOI: xxx 的实现\n",
    "     - OOP: xxx 的编程\n",
    "     - OOA->OOD->OOI: 面向对象的实现过程\n",
    "     "
   ]
  },
  {
   "cell_type": "markdown",
   "metadata": {},
   "source": [
    "## 2. 类和对象的概念\n",
    " - 类: 抽象名词,采标一个集合,共性的事物\n",
    " - 对象: 具象的事物, 单个个体\n",
    " - 类 和对象的关系\n",
    "     - 一个具象,代表一类事物的某个个体\n",
    "     - 一个抽象, 代表是一大类事物\n",
    " - 类中的内容, 应该具有两个内容\n",
    "     - 表明事物的特征, 叫做属性\n",
    "     - 表明事物功能或者动作, 称为成员方法(函数)\n",
    " "
   ]
  },
  {
   "cell_type": "markdown",
   "metadata": {},
   "source": [
    "## 3. 类的基本实现\n",
    " - 类的命名\n",
    "     - 准守变量命名的规范\n",
    "     - 大驼峰(由一个多个单词构成, 每个单词首字母大写,单词跟单词直接相连)\n",
    "     - 尽量避开跟系统命名相似的命名\n",
    " - 如何申明一个类\n",
    "     - 必须用class 关键字\n",
    "     - 类有属性和方法构成,其他不允许出现\n",
    "     - 成员属性定义可以直接使用变量赋值,如果没有值,可以使用None\n",
    "     \n",
    "     \n",
    "     "
   ]
  },
  {
   "cell_type": "code",
   "execution_count": 6,
   "metadata": {},
   "outputs": [],
   "source": [
    "# 案例1 定义一个学生类, 用来形容学生\n",
    "class Student():\n",
    "    pass"
   ]
  },
  {
   "cell_type": "code",
   "execution_count": 7,
   "metadata": {},
   "outputs": [],
   "source": [
    "# 定义一个对象\n",
    "lisi = Student()"
   ]
  },
  {
   "cell_type": "code",
   "execution_count": 11,
   "metadata": {},
   "outputs": [
    {
     "name": "stdout",
     "output_type": "stream",
     "text": [
      "做作业\n"
     ]
    },
    {
     "data": {
      "text/plain": [
       "18"
      ]
     },
     "execution_count": 11,
     "metadata": {},
     "output_type": "execute_result"
    }
   ],
   "source": [
    "class PythonStudent():\n",
    "    name = None # 用None 给不确定的值赋值\n",
    "    age = 18\n",
    "    course = \"python\"\n",
    "    def work(self):\n",
    "        print(\"做作业\")\n",
    "        return None\n",
    "\n",
    "wangwu = PythonStudent()\n",
    "wangwu.work()\n",
    "wangwu.name\n",
    "wangwu.age"
   ]
  },
  {
   "cell_type": "markdown",
   "metadata": {},
   "source": [
    " - 实例化对象成员\n",
    "     - 使用操作符\n",
    "         - ojb.成员属性名称\n",
    "         - obj.成员方法\n",
    "         \n",
    " - 可以通过默认内置变量检查类和对象的所有成员\n",
    "     - 对象所有成员检测\n",
    "         - obj. \\_\\_dict\\_\\_     # dict 前后两个下划线\n",
    "     - 类所有的成员\n",
    "         - class_name.\\_\\_dict\\_\\_ # dict 前后两个下划线"
   ]
  },
  {
   "cell_type": "code",
   "execution_count": 14,
   "metadata": {},
   "outputs": [
    {
     "data": {
      "text/plain": [
       "'lisi'"
      ]
     },
     "execution_count": 14,
     "metadata": {},
     "output_type": "execute_result"
    }
   ],
   "source": [
    "class A():\n",
    "    name = \"lisi\"\n",
    "    age = 19\n",
    "A.__dict__\n",
    "lisi = A()\n",
    "lisi.__dict__\n",
    "lisi.name"
   ]
  },
  {
   "cell_type": "markdown",
   "metadata": {},
   "source": [
    "## 4.类和对象的成员分析\n",
    " - 类和兑现格斗可以存储成员 ,成员可以归类所有,也可以归对象所有\n",
    " - 类存储成员时使用的是与类关联的一个对象\n",
    " - 对象个访问一个成员时, 如果对象中没有改成员,尝试访问类中的同名成员\n",
    "     - 如果对象中有此成员,一定使用兑现中的成员\n",
    "     "
   ]
  },
  {
   "cell_type": "code",
   "execution_count": null,
   "metadata": {},
   "outputs": [],
   "source": []
  }
 ],
 "metadata": {
  "kernelspec": {
   "display_name": "Python 3",
   "language": "python",
   "name": "python3"
  },
  "language_info": {
   "codemirror_mode": {
    "name": "ipython",
    "version": 3
   },
   "file_extension": ".py",
   "mimetype": "text/x-python",
   "name": "python",
   "nbconvert_exporter": "python",
   "pygments_lexer": "ipython3",
   "version": "3.6.4"
  }
 },
 "nbformat": 4,
 "nbformat_minor": 2
}
